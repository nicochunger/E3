{
 "cells": [
  {
   "cell_type": "markdown",
   "metadata": {},
   "source": [
    "# Density Function Theory para el atomo de Helio\n",
    "\n",
    "Nicolas Unger"
   ]
  },
  {
   "cell_type": "code",
   "execution_count": 1,
   "metadata": {
    "collapsed": true
   },
   "outputs": [],
   "source": [
    "import numpy as np\n",
    "import matplotlib.pyplot as plt"
   ]
  },
  {
   "cell_type": "markdown",
   "metadata": {},
   "source": [
    "Hay que resolver la ecuacion de schrödinger radial:\n",
    "\n",
    "\\begin{equation}\n",
    "\\left[-\\frac{1}{2}\\nabla^2 - \\frac{1}{r}\\right]u(r) = Eu(r)\n",
    "\\end{equation}\n",
    "\n",
    "La tengo que expresar en la forma:\n",
    "\n",
    "\\begin{equation}\n",
    "\\ddot{u}(r) = F[u(t),t]\n",
    "\\end{equation}\n",
    "\n",
    "Resulta:\n",
    "\n",
    "\\begin{equation}\n",
    "\\ddot{u}(r) = -2u(r)\\left[E+\\frac{1}{r}\\right]-\\frac{2}{r}\\dot{u}(t)\n",
    "\\end{equation}"
   ]
  },
  {
   "cell_type": "markdown",
   "metadata": {},
   "source": [
    "## Integracion numerica de la ec diferencial\n",
    "### Uso el metodo de Verlet"
   ]
  },
  {
   "cell_type": "code",
   "execution_count": 35,
   "metadata": {},
   "outputs": [],
   "source": [
    "# Inicializacion de vectores\n",
    "\n",
    "nsize = 1000 # Numero de puntos\n",
    "h = 0.01\n",
    "x = np.zeros((nsize))\n",
    "x[0] = h\n",
    "for i in range(1,nsize):\n",
    "    x[i] = h*(i+1)\n",
    "\n",
    "pos = np.zeros((nsize)) # u(r)\n",
    "vel = np.zeros((nsize)) # u'(r)\n",
    "fza = np.zeros((nsize)) # u''(r)"
   ]
  },
  {
   "cell_type": "code",
   "execution_count": null,
   "metadata": {},
   "outputs": [],
   "source": []
  },
  {
   "cell_type": "code",
   "execution_count": 27,
   "metadata": {
    "collapsed": true
   },
   "outputs": [],
   "source": [
    "# Definicion del algoritmo de Verlet\n",
    "\n",
    "def verlet(pos, vel, fza, x, h, E):\n",
    "    \"\"\" Calcula un paso de verlet para la ecuacion diferencial.\"\"\"    \n",
    "    for i in range(len(vel)-1,-1,-1):\n",
    "        # Primer paso: hace medio paso para la velocidad y un paso para la posicion\n",
    "        vel[i-1] = vel[i] + 0.5 * fza[i] * h\n",
    "        pos[i-1] = pos[i] + vel[i] * h\n",
    "        \n",
    "        # Segundo paso: Actualizo las fuerzas con la velocidad intermedia\n",
    "        fza[i-1] = -2*pos[i-1]*(E+(1/x[i-1])) - (2/x[i-1])*vel[i-1]\n",
    "        \n",
    "        # Tercer paso: Vuelvo a actualizar la velocidad con la nueva fuerza\n",
    "        vel[i-1] = vel[i-1] + 0.5 * fza[i-1] * h\n",
    "        \n",
    "        return pos, vel, fza\n",
    "    "
   ]
  },
  {
   "cell_type": "code",
   "execution_count": null,
   "metadata": {
    "collapsed": true
   },
   "outputs": [],
   "source": [
    "def FZA(pos, vel, h, x):\n",
    "    \"\"\" Fuerza de la ecuacion diferencial. \"\"\""
   ]
  },
  {
   "cell_type": "code",
   "execution_count": 36,
   "metadata": {
    "collapsed": true
   },
   "outputs": [],
   "source": [
    "def verlet(pos, vel, fza, x, h, E):\n",
    "    \"\"\" Calcula un paso de verlet para la ecuacion diferencial.\"\"\"    \n",
    "    for i in range(0,len(vel)):\n",
    "        # Primer paso: hace medio paso para la velocidad y un paso para la posicion\n",
    "        vel[i+1] = vel[i] + 0.5 * fza[i] * h\n",
    "        pos[i+1] = pos[i] + vel[i] * h\n",
    "        \n",
    "        # Segundo paso: Actualizo las fuerzas con la velocidad intermedia\n",
    "        fza[i+1] = 2*((1/x[i+1]) - E)*pos[i+1]\n",
    "        \n",
    "        # Tercer paso: Vuelvo a actualizar la velocidad con la nueva fuerza\n",
    "        vel[i+1] = vel[i+1] + 0.5 * fza[i+1] * h\n",
    "        \n",
    "        return pos, vel, fza"
   ]
  },
  {
   "cell_type": "code",
   "execution_count": 40,
   "metadata": {},
   "outputs": [
    {
     "data": {
      "image/png": "[encoded data removed]",
      "text/plain": [
       "<matplotlib.figure.Figure at 0x7f1c21698f90>"
      ]
     },
     "metadata": {},
     "output_type": "display_data"
    }
   ],
   "source": [
    "E = -0.5\n",
    "\n",
    "# Inicializo el primer valor de los tres vectores\n",
    "pos[0] = np.exp(-x[0])*x[0]\n",
    "vel[0] = np.exp(-x[0])*(1-x[0])\n",
    "#fza[-1] = -2*pos[-1]*(E+(1/x[-1])) - (2/x[-1])*vel[-1]\n",
    "fza[0] = -2*((1/x[0]) + E)*pos[0]\n",
    "\n",
    "pos, vel, fza = verlet(pos, vel, fza, x, h, E)\n",
    "\n",
    "plt.plot(x,pos)\n",
    "plt.xlim((0,0.1))\n",
    "plt.show()"
   ]
  },
  {
   "cell_type": "code",
   "execution_count": null,
   "metadata": {
    "collapsed": true
   },
   "outputs": [],
   "source": []
  }
 ],
 "metadata": {
  "kernelspec": {
   "display_name": "Python 2",
   "language": "python",
   "name": "python2"
  },
  "language_info": {
   "codemirror_mode": {
    "name": "ipython",
    "version": 2
   },
   "file_extension": ".py",
   "mimetype": "text/x-python",
   "name": "python",
   "nbconvert_exporter": "python",
   "pygments_lexer": "ipython2",
   "version": "2.7.14"
  }
 },
 "nbformat": 4,
 "nbformat_minor": 2
}
