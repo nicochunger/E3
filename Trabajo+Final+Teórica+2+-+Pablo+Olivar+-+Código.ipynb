{
 "cells": [
  {
   "cell_type": "code",
   "execution_count": 1,
   "metadata": {
    "collapsed": true
   },
   "outputs": [],
   "source": [
    "from numpy import set_printoptions,nan,full,zeros\n",
    "set_printoptions(threshold=nan)\n",
    "from itertools import combinations"
   ]
  },
  {
   "cell_type": "code",
   "execution_count": 2,
   "metadata": {
    "collapsed": true
   },
   "outputs": [],
   "source": [
    "def letras(x):\n",
    "    if x==0:\n",
    "        letra=chr(83)\n",
    "    if x==1:\n",
    "        letra=chr(80)\n",
    "    if x==2:\n",
    "        letra=chr(68)\n",
    "    if x in range (3,7):\n",
    "        letra=chr(67+x)\n",
    "    if x in range (7,12):\n",
    "        letra=chr(68+x)\n",
    "    if x in range (12,14):\n",
    "        letra=chr(69+x)\n",
    "    if x in range (14,21):\n",
    "        letra=chr(70+x)\n",
    "    return letra"
   ]
  },
  {
   "cell_type": "code",
   "execution_count": 19,
   "metadata": {
    "collapsed": true
   },
   "outputs": [],
   "source": [
    "def LSequivalentes(N,l): \n",
    "    #Para n electrones equivalentes l, genera una lista de los terminos LS permitidos\n",
    "    \n",
    "    #Crea una lista de todos los estados para un electrón de momento orbital l y spin 1/2\n",
    "    E=full((4*l+2,2),nan)\n",
    "    k=l\n",
    "    for i in range(0,4*l+2,2):\n",
    "        E[i,0]=k\n",
    "        E[i+1]=k\n",
    "        E[i,1]=1/2\n",
    "        E[i+1,1]=-1/2\n",
    "        k=k-1\n",
    "        \n",
    "    #Genera todas las combinaciones posibles para n electrones l, excluyendo las prohibidas por Pauli    \n",
    "    a=list(combinations(E,N))\n",
    "    \n",
    "    #Crea una matriz que contiene la suma de todas las proyecciones Ml y Ms para cada combinacion de las anteriores\n",
    "    b=zeros([len(a),2])\n",
    "    for i in range (0,len(a)):\n",
    "        if N==1:\n",
    "            b[i,0]=a[i][0][0]\n",
    "            b[i,1]=a[i][0][1]\n",
    "        else:\n",
    "            for j in range(0,len(a[0][:])):\n",
    "                b[i,0]=b[i,0]+a[i][j][0]\n",
    "                b[i,1]=b[i,1]+a[i][j][1]\n",
    "   \n",
    "    #Crea una matriz que enumera la cantidad de veces que distintos valores Ml y Ms se cruzan \n",
    "    c=zeros([2*abs(int(max(b[:,0])))+2,2*abs(int(max(b[:,1])))+2])\n",
    "    for i in range(1,len(c[:,0])):\n",
    "        c[i,0]=max(b[:,0])-i+1\n",
    "    for i in range(1,len(c[0,:])):\n",
    "        c[0,i]=max(b[:,1])-i+1\n",
    "    for i in range (1,len(c[:,0])):\n",
    "        for j in range(1,len(c[0,:])):\n",
    "            for k in range(0,len(b[:,0])):\n",
    "                if c[i,0]==b[k,0] and c[0,j]==b[k,1]:\n",
    "                    c[i,j]=c[i,j]+1\n",
    "                    \n",
    "    #A partir de la matriz anterior, genera una lista de los terminos LS permitidos\n",
    "    z=0\n",
    "    i=1\n",
    "    lista=list()\n",
    "    listafinal=list()\n",
    "    while c[i,0] >= 0:\n",
    "        j=1\n",
    "        while c[0,j]>=0:\n",
    "            if c[i,j]>0:\n",
    "                lista.append((2*c[0,j]+1,c[i,0])) \n",
    "                z=z+1\n",
    "                for x in range (i,len(c[:,0])):\n",
    "                    for y in range (j,len(c[0,:])):\n",
    "                        c[x,y]=c[x,y]-1             \n",
    "            else:\n",
    "                j=j+1\n",
    "        i=i+1\n",
    "    listafinal.append([\"2S+1\",\"L\",\"# de terminos\"])\n",
    "    listafinal.append([int(lista[0][0]),letras(int(lista[0][1])),int(1)])\n",
    "    j=1\n",
    "    for i in range (1,len(lista)):\n",
    "        if lista[i][0]==lista[i-1][0] and lista[i][1]==lista[i-1][1]:\n",
    "            listafinal[j][2]=listafinal[j][2]+int(1)\n",
    "        else:\n",
    "            listafinal.append([int(lista[i][0]),letras(int(lista[i][1])),int(1)])\n",
    "            j=j+1\n",
    "    print (z,\"terminos\")                \n",
    "    return listafinal\n"
   ]
  },
  {
   "cell_type": "code",
   "execution_count": 20,
   "metadata": {},
   "outputs": [
    {
     "ename": "IndexError",
     "evalue": "list index out of range",
     "output_type": "error",
     "traceback": [
      "\u001b[0;31m---------------------------------------------------------------------------\u001b[0m",
      "\u001b[0;31mIndexError\u001b[0m                                Traceback (most recent call last)",
      "\u001b[0;32m<ipython-input-20-f61ca812669f>\u001b[0m in \u001b[0;36m<module>\u001b[0;34m()\u001b[0m\n\u001b[0;32m----> 1\u001b[0;31m \u001b[0mLSequivalentes\u001b[0m\u001b[0;34m(\u001b[0m\u001b[0;36m10\u001b[0m\u001b[0;34m,\u001b[0m\u001b[0;36m3\u001b[0m\u001b[0;34m)\u001b[0m \u001b[0;31m#se muestra como ejemplo para 12 electrones f\u001b[0m\u001b[0;34m\u001b[0m\u001b[0m\n\u001b[0m",
      "\u001b[0;32m<ipython-input-19-6abf2199e40a>\u001b[0m in \u001b[0;36mLSequivalentes\u001b[0;34m(N, l)\u001b[0m\n\u001b[1;32m     56\u001b[0m         \u001b[0mi\u001b[0m\u001b[0;34m=\u001b[0m\u001b[0mi\u001b[0m\u001b[0;34m+\u001b[0m\u001b[0;36m1\u001b[0m\u001b[0;34m\u001b[0m\u001b[0m\n\u001b[1;32m     57\u001b[0m     \u001b[0mlistafinal\u001b[0m\u001b[0;34m.\u001b[0m\u001b[0mappend\u001b[0m\u001b[0;34m(\u001b[0m\u001b[0;34m[\u001b[0m\u001b[0;34m\"2S+1\"\u001b[0m\u001b[0;34m,\u001b[0m\u001b[0;34m\"L\"\u001b[0m\u001b[0;34m,\u001b[0m\u001b[0;34m\"# de terminos\"\u001b[0m\u001b[0;34m]\u001b[0m\u001b[0;34m)\u001b[0m\u001b[0;34m\u001b[0m\u001b[0m\n\u001b[0;32m---> 58\u001b[0;31m     \u001b[0mlistafinal\u001b[0m\u001b[0;34m.\u001b[0m\u001b[0mappend\u001b[0m\u001b[0;34m(\u001b[0m\u001b[0;34m[\u001b[0m\u001b[0mint\u001b[0m\u001b[0;34m(\u001b[0m\u001b[0mlista\u001b[0m\u001b[0;34m[\u001b[0m\u001b[0;36m0\u001b[0m\u001b[0;34m]\u001b[0m\u001b[0;34m[\u001b[0m\u001b[0;36m0\u001b[0m\u001b[0;34m]\u001b[0m\u001b[0;34m)\u001b[0m\u001b[0;34m,\u001b[0m\u001b[0mletras\u001b[0m\u001b[0;34m(\u001b[0m\u001b[0mint\u001b[0m\u001b[0;34m(\u001b[0m\u001b[0mlista\u001b[0m\u001b[0;34m[\u001b[0m\u001b[0;36m0\u001b[0m\u001b[0;34m]\u001b[0m\u001b[0;34m[\u001b[0m\u001b[0;36m1\u001b[0m\u001b[0;34m]\u001b[0m\u001b[0;34m)\u001b[0m\u001b[0;34m)\u001b[0m\u001b[0;34m,\u001b[0m\u001b[0mint\u001b[0m\u001b[0;34m(\u001b[0m\u001b[0;36m1\u001b[0m\u001b[0;34m)\u001b[0m\u001b[0;34m]\u001b[0m\u001b[0;34m)\u001b[0m\u001b[0;34m\u001b[0m\u001b[0m\n\u001b[0m\u001b[1;32m     59\u001b[0m     \u001b[0mj\u001b[0m\u001b[0;34m=\u001b[0m\u001b[0;36m1\u001b[0m\u001b[0;34m\u001b[0m\u001b[0m\n\u001b[1;32m     60\u001b[0m     \u001b[0;32mfor\u001b[0m \u001b[0mi\u001b[0m \u001b[0;32min\u001b[0m \u001b[0mrange\u001b[0m \u001b[0;34m(\u001b[0m\u001b[0;36m1\u001b[0m\u001b[0;34m,\u001b[0m\u001b[0mlen\u001b[0m\u001b[0;34m(\u001b[0m\u001b[0mlista\u001b[0m\u001b[0;34m)\u001b[0m\u001b[0;34m)\u001b[0m\u001b[0;34m:\u001b[0m\u001b[0;34m\u001b[0m\u001b[0m\n",
      "\u001b[0;31mIndexError\u001b[0m: list index out of range"
     ]
    }
   ],
   "source": [
    "LSequivalentes(10,3) #se muestra como ejemplo para 12 electrones f"
   ]
  },
  {
   "cell_type": "code",
   "execution_count": 5,
   "metadata": {
    "collapsed": true
   },
   "outputs": [],
   "source": [
    "#a continuacion se separa el programa en bloques, para que se vea su funcionamiento intermedio"
   ]
  },
  {
   "cell_type": "code",
   "execution_count": 12,
   "metadata": {
    "collapsed": true
   },
   "outputs": [],
   "source": [
    "def electron(l):\n",
    "    E=full((4*l+2,2),nan)\n",
    "    k=l\n",
    "    for i in range(0,4*l+2,2):\n",
    "        E[i,0]=k\n",
    "        E[i+1]=k\n",
    "        E[i,1]=1/2\n",
    "        E[i+1,1]=-1/2\n",
    "        k=k-1\n",
    "    return E"
   ]
  },
  {
   "cell_type": "code",
   "execution_count": 13,
   "metadata": {},
   "outputs": [
    {
     "data": {
      "text/plain": [
       "[(array([ 1.,  0.]), array([ 1., -1.])),\n",
       " (array([ 1.,  0.]), array([ 0.,  0.])),\n",
       " (array([ 1.,  0.]), array([ 0., -1.])),\n",
       " (array([ 1.,  0.]), array([-1.,  0.])),\n",
       " (array([ 1.,  0.]), array([-1., -1.])),\n",
       " (array([ 1., -1.]), array([ 0.,  0.])),\n",
       " (array([ 1., -1.]), array([ 0., -1.])),\n",
       " (array([ 1., -1.]), array([-1.,  0.])),\n",
       " (array([ 1., -1.]), array([-1., -1.])),\n",
       " (array([ 0.,  0.]), array([ 0., -1.])),\n",
       " (array([ 0.,  0.]), array([-1.,  0.])),\n",
       " (array([ 0.,  0.]), array([-1., -1.])),\n",
       " (array([ 0., -1.]), array([-1.,  0.])),\n",
       " (array([ 0., -1.]), array([-1., -1.])),\n",
       " (array([-1.,  0.]), array([-1., -1.]))]"
      ]
     },
     "execution_count": 13,
     "metadata": {},
     "output_type": "execute_result"
    }
   ],
   "source": [
    "def electrones(N,l):\n",
    "    E=electron(l)\n",
    "    a=list(combinations(E,N))\n",
    "    \n",
    "    return a\n",
    "a=electrones(2,1)\n",
    "a"
   ]
  },
  {
   "cell_type": "code",
   "execution_count": 14,
   "metadata": {},
   "outputs": [
    {
     "data": {
      "text/plain": [
       "array([[0, 0],\n",
       "       [0, 0],\n",
       "       [0, 0],\n",
       "       [0, 0],\n",
       "       [0, 0],\n",
       "       [0, 0],\n",
       "       [0, 0],\n",
       "       [0, 0],\n",
       "       [0, 0],\n",
       "       [0, 0],\n",
       "       [0, 0],\n",
       "       [0, 0],\n",
       "       [0, 0],\n",
       "       [0, 0],\n",
       "       [0, 0]])"
      ]
     },
     "execution_count": 14,
     "metadata": {},
     "output_type": "execute_result"
    }
   ],
   "source": [
    "b=full((len(a),2),0)\n",
    "b"
   ]
  },
  {
   "cell_type": "code",
   "execution_count": 15,
   "metadata": {},
   "outputs": [
    {
     "data": {
      "text/plain": [
       "array([[ 2., -1.],\n",
       "       [ 1.,  0.],\n",
       "       [ 1., -1.],\n",
       "       [ 0.,  0.],\n",
       "       [ 0., -1.],\n",
       "       [ 1., -1.],\n",
       "       [ 1., -2.],\n",
       "       [ 0., -1.],\n",
       "       [ 0., -2.],\n",
       "       [ 0., -1.],\n",
       "       [-1.,  0.],\n",
       "       [-1., -1.],\n",
       "       [-1., -1.],\n",
       "       [-1., -2.],\n",
       "       [-2., -1.]])"
      ]
     },
     "execution_count": 15,
     "metadata": {},
     "output_type": "execute_result"
    }
   ],
   "source": [
    "N=2\n",
    "def sumas(a):\n",
    "    b=zeros([len(a),2])\n",
    "    for i in range (0,len(a)):\n",
    "        if N==1:\n",
    "            b[i,0]=a[i][0][0]\n",
    "            b[i,1]=a[i][0][1]\n",
    "        else:\n",
    "            for j in range(0,len(a[0])):\n",
    "                b[i,0]=b[i,0]+a[i][j][0]\n",
    "                b[i,1]=b[i,1]+a[i][j][1]\n",
    "    return b\n",
    "b=sumas(a)\n",
    "b"
   ]
  },
  {
   "cell_type": "code",
   "execution_count": 16,
   "metadata": {},
   "outputs": [
    {
     "data": {
      "text/plain": [
       "array([[ 0.,  0.],\n",
       "       [ 2.,  0.],\n",
       "       [ 1.,  1.],\n",
       "       [ 0.,  1.],\n",
       "       [-1.,  1.],\n",
       "       [-2.,  0.]])"
      ]
     },
     "execution_count": 16,
     "metadata": {},
     "output_type": "execute_result"
    }
   ],
   "source": [
    "def tabla(b):\n",
    "    \n",
    "    c=zeros([2*int(max(b[:,0]))+2,2*int(max(b[:,1]))+2])\n",
    "    \n",
    "    for i in range(1,len(c[:,0])):\n",
    "        c[i,0]=max(b[:,0])-i+1\n",
    "    for i in range(1,len(c[0,:])):\n",
    "        c[0,i]=max(b[:,1])-i+1\n",
    "    for i in range (1,len(c[:,0])):\n",
    "        for j in range(1,len(c[0,:])):\n",
    "            for k in range(0,len(b[:,0])):\n",
    "                if c[i,0]==b[k,0] and c[0,j]==b[k,1]:\n",
    "                    c[i,j]=c[i,j]+1\n",
    "    return c\n",
    "c=tabla(b)\n",
    "c"
   ]
  },
  {
   "cell_type": "code",
   "execution_count": 17,
   "metadata": {},
   "outputs": [
    {
     "ename": "IndexError",
     "evalue": "index 2 is out of bounds for axis 1 with size 2",
     "output_type": "error",
     "traceback": [
      "\u001b[0;31m---------------------------------------------------------------------------\u001b[0m",
      "\u001b[0;31mIndexError\u001b[0m                                Traceback (most recent call last)",
      "\u001b[0;32m<ipython-input-17-fb95a8eff6fb>\u001b[0m in \u001b[0;36m<module>\u001b[0;34m()\u001b[0m\n\u001b[1;32m     29\u001b[0m     \u001b[0;32mreturn\u001b[0m \u001b[0mlistafinal\u001b[0m\u001b[0;34m\u001b[0m\u001b[0m\n\u001b[1;32m     30\u001b[0m \u001b[0;34m\u001b[0m\u001b[0m\n\u001b[0;32m---> 31\u001b[0;31m \u001b[0mcriterio\u001b[0m\u001b[0;34m(\u001b[0m\u001b[0mc\u001b[0m\u001b[0;34m)\u001b[0m\u001b[0;34m\u001b[0m\u001b[0m\n\u001b[0m",
      "\u001b[0;32m<ipython-input-17-fb95a8eff6fb>\u001b[0m in \u001b[0;36mcriterio\u001b[0;34m(c)\u001b[0m\n\u001b[1;32m      6\u001b[0m     \u001b[0;32mwhile\u001b[0m \u001b[0mc\u001b[0m\u001b[0;34m[\u001b[0m\u001b[0mi\u001b[0m\u001b[0;34m,\u001b[0m\u001b[0;36m0\u001b[0m\u001b[0;34m]\u001b[0m \u001b[0;34m>=\u001b[0m \u001b[0;36m0\u001b[0m\u001b[0;34m:\u001b[0m\u001b[0;34m\u001b[0m\u001b[0m\n\u001b[1;32m      7\u001b[0m         \u001b[0mj\u001b[0m\u001b[0;34m=\u001b[0m\u001b[0;36m1\u001b[0m\u001b[0;34m\u001b[0m\u001b[0m\n\u001b[0;32m----> 8\u001b[0;31m         \u001b[0;32mwhile\u001b[0m \u001b[0mc\u001b[0m\u001b[0;34m[\u001b[0m\u001b[0;36m0\u001b[0m\u001b[0;34m,\u001b[0m\u001b[0mj\u001b[0m\u001b[0;34m]\u001b[0m\u001b[0;34m>=\u001b[0m\u001b[0;36m0\u001b[0m\u001b[0;34m:\u001b[0m\u001b[0;34m\u001b[0m\u001b[0m\n\u001b[0m\u001b[1;32m      9\u001b[0m             \u001b[0;32mif\u001b[0m \u001b[0mc\u001b[0m\u001b[0;34m[\u001b[0m\u001b[0mi\u001b[0m\u001b[0;34m,\u001b[0m\u001b[0mj\u001b[0m\u001b[0;34m]\u001b[0m\u001b[0;34m>\u001b[0m\u001b[0;36m0\u001b[0m\u001b[0;34m:\u001b[0m\u001b[0;34m\u001b[0m\u001b[0m\n\u001b[1;32m     10\u001b[0m                 \u001b[0mlista\u001b[0m\u001b[0;34m.\u001b[0m\u001b[0mappend\u001b[0m\u001b[0;34m(\u001b[0m\u001b[0;34m(\u001b[0m\u001b[0;36m2\u001b[0m\u001b[0;34m*\u001b[0m\u001b[0mc\u001b[0m\u001b[0;34m[\u001b[0m\u001b[0;36m0\u001b[0m\u001b[0;34m,\u001b[0m\u001b[0mj\u001b[0m\u001b[0;34m]\u001b[0m\u001b[0;34m+\u001b[0m\u001b[0;36m1\u001b[0m\u001b[0;34m,\u001b[0m\u001b[0mc\u001b[0m\u001b[0;34m[\u001b[0m\u001b[0mi\u001b[0m\u001b[0;34m,\u001b[0m\u001b[0;36m0\u001b[0m\u001b[0;34m]\u001b[0m\u001b[0;34m)\u001b[0m\u001b[0;34m)\u001b[0m\u001b[0;34m\u001b[0m\u001b[0m\n",
      "\u001b[0;31mIndexError\u001b[0m: index 2 is out of bounds for axis 1 with size 2"
     ]
    }
   ],
   "source": [
    "def criterio(c):\n",
    "    z=0\n",
    "    i=1\n",
    "    lista=list()\n",
    "    listafinal=list()\n",
    "    while c[i,0] >= 0:\n",
    "        j=1\n",
    "        while c[0,j]>=0:\n",
    "            if c[i,j]>0:\n",
    "                lista.append((2*c[0,j]+1,c[i,0])) \n",
    "                z=z+1\n",
    "                for x in range (i,len(c[:,0])):\n",
    "                    for y in range (j,len(c[0,:])):\n",
    "                        c[x,y]=c[x,y]-1             \n",
    "            else:\n",
    "                j=j+1\n",
    "        i=i+1\n",
    "        \n",
    "    listafinal.append([\"2S+1\",\"L\",\"# de términos\"])\n",
    "    listafinal.append([int(lista[0][0]),letras(int(lista[0][1])),int(1)])\n",
    "    j=1\n",
    "    for i in range (1,len(lista)):\n",
    "        if lista[i][0]==lista[i-1][0] and lista[i][1]==lista[i-1][1]:\n",
    "            listafinal[j][2]=listafinal[j][2]+int(1)\n",
    "        else:\n",
    "            listafinal.append([int(lista[i][0]),letras(int(lista[i][1])),int(1)])\n",
    "            j=j+1\n",
    "    print (z,\"términos\")                \n",
    "    return listafinal\n",
    "\n",
    "criterio(c)"
   ]
  },
  {
   "cell_type": "code",
   "execution_count": 18,
   "metadata": {},
   "outputs": [
    {
     "ename": "NameError",
     "evalue": "name 'lsequivalentes' is not defined",
     "output_type": "error",
     "traceback": [
      "\u001b[0;31m---------------------------------------------------------------------------\u001b[0m",
      "\u001b[0;31mNameError\u001b[0m                                 Traceback (most recent call last)",
      "\u001b[0;32m<ipython-input-18-303f9ea23a03>\u001b[0m in \u001b[0;36m<module>\u001b[0;34m()\u001b[0m\n\u001b[0;32m----> 1\u001b[0;31m \u001b[0mlsequivalentes\u001b[0m\u001b[0;34m\u001b[0m\u001b[0m\n\u001b[0m",
      "\u001b[0;31mNameError\u001b[0m: name 'lsequivalentes' is not defined"
     ]
    }
   ],
   "source": [
    "lsequivalentes"
   ]
  },
  {
   "cell_type": "code",
   "execution_count": null,
   "metadata": {
    "collapsed": true
   },
   "outputs": [],
   "source": []
  }
 ],
 "metadata": {
  "kernelspec": {
   "display_name": "Python 2",
   "language": "python",
   "name": "python2"
  },
  "language_info": {
   "codemirror_mode": {
    "name": "ipython",
    "version": 2
   },
   "file_extension": ".py",
   "mimetype": "text/x-python",
   "name": "python",
   "nbconvert_exporter": "python",
   "pygments_lexer": "ipython2",
   "version": "2.7.14"
  }
 },
 "nbformat": 4,
 "nbformat_minor": 2
}
