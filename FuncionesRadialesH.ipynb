{
 "cells": [
  {
   "cell_type": "markdown",
   "metadata": {},
   "source": [
    "# Funciones Radiales del Hidrógeno\n",
    "\n",
    "Darío Mitnik\n"
   ]
  },
  {
   "cell_type": "code",
   "execution_count": 2,
   "metadata": {
    "collapsed": true
   },
   "outputs": [],
   "source": [
    "import numpy as np\n",
    "import sympy as sp\n",
    "import matplotlib.pyplot as plt\n",
    "\n",
    "# Cosas útiles para utilizar luego\n",
    "from sympy import oo\n",
    "from sympy.plotting import plot\n",
    "from __future__ import division \n",
    "\n",
    "# Estética\n",
    "sp.init_printing()\n",
    "%matplotlib inline\n",
    "\n",
    "#Definimos los simbolos que vamos a usar.\n",
    "\n",
    "r=sp.Symbol('r',positive=True)\n",
    "l=sp.Symbol('l',positive=True,integer=True)\n",
    "n=sp.Symbol('n',positive=True,integer=True)\n",
    "z=sp.Symbol('z',positive=True,integer=True)\n",
    "k=sp.Symbol('k',positive=True)\n",
    "N=sp.Symbol('N',positive=True)"
   ]
  },
  {
   "cell_type": "code",
   "execution_count": 3,
   "metadata": {
    "collapsed": true
   },
   "outputs": [],
   "source": [
    "# Función Radial Hidrogénica (con hipergeométricas)\n",
    "\n",
    "def R_hyp(n,l,z,r):\n",
    "    rho=2*r*z/n \n",
    "    rnum = (2*z/n)**3 * sp.factorial(n+l)\n",
    "    rden = (sp.factorial(2*l+1))**2 * 2*n * sp.factorial(n-l-1)\n",
    "    rnorm = sp.sqrt(rnum/rden)\n",
    "    rfunc = (rho)**l * sp.exp(-rho/2) * sp.hyper((-n+l+1,),(2*l+2,),(rho))\n",
    "    R = rnorm * rfunc\n",
    "    return R\n"
   ]
  },
  {
   "cell_type": "code",
   "execution_count": 4,
   "metadata": {
    "collapsed": true
   },
   "outputs": [],
   "source": [
    "# Orbitales de Slater\n",
    "\n",
    "def slater(N,z,r):\n",
    "    sl1 = 2*z**(N+1/2)\n",
    "    sl2 = sp.sqrt(sp.factorial(2*N))\n",
    "    sl3 = r**(N-1)*sp.exp(-z*r)\n",
    "    return sl1*sl3/sl2"
   ]
  },
  {
   "cell_type": "code",
   "execution_count": 48,
   "metadata": {
    "collapsed": true
   },
   "outputs": [],
   "source": [
    "# Definición de los vectores para plotear\n",
    "\n",
    "nsize=500\n",
    "xmax=10.0\n",
    "xmin=0.\n",
    "x = np.linspace(xmin,xmax,nsize)\n",
    "psi = np.zeros(nsize)\n",
    "psi2 = np.zeros(nsize)"
   ]
  },
  {
   "cell_type": "code",
   "execution_count": 49,
   "metadata": {
    "collapsed": true
   },
   "outputs": [],
   "source": [
    "# Copiamos el array simbólico a numérico\n",
    "\n",
    "for i in range(nsize):\n",
    "    psi[i] = R_hyp(1,0,1,x[i]) # n=1; l=0; z=1\n",
    "    psi2[i] = R_hyp(2,0,1,x[i]) # n=2; l=0; z=1"
   ]
  },
  {
   "cell_type": "code",
   "execution_count": 50,
   "metadata": {
    "collapsed": false
   },
   "outputs": [
    {
     "data": {
      "image/png": "[encoded data removed]",
      "text/plain": [
       "<matplotlib.figure.Figure at 0x1c09c780>"
      ]
     },
     "metadata": {},
     "output_type": "display_data"
    }
   ],
   "source": [
    "# Ploteo\n",
    "\n",
    "plt.plot(x,x*psi);\n",
    "plt.title(\"Radial Wavefunction $\\Psi_{1s}$ of Hydrogen\");\n",
    "plt.xlabel(\"r (a.u.)\");\n",
    "plt.ylabel(\"$\\psi_{1s}(r)$\");"
   ]
  },
  {
   "cell_type": "code",
   "execution_count": 8,
   "metadata": {
    "collapsed": false
   },
   "outputs": [
    {
     "data": {
      "text/latex": [
       "$$1.0 {{{}_{1}F_{1}\\left(\\begin{matrix} 0 \\\\ 2 \\end{matrix}\\middle| {0} \\right)}}^{2}$$"
      ],
      "text/plain": [
       "                2\n",
       "     ┌─  ⎛0 │  ⎞ \n",
       "1.0⋅ ├─  ⎜  │ 0⎟ \n",
       "    1╵ 1 ⎝2 │  ⎠ "
      ]
     },
     "execution_count": 8,
     "metadata": {},
     "output_type": "execute_result"
    }
   ],
   "source": [
    "# Integral simbólica\n",
    "\n",
    "sp.integrate( (r * R_hyp(1,0,1,r))**2, (r,0,oo))"
   ]
  },
  {
   "cell_type": "code",
   "execution_count": 9,
   "metadata": {
    "collapsed": false
   },
   "outputs": [
    {
     "data": {
      "image/png": "[encoded data removed]",
      "text/latex": [
       "$$1.0$$"
      ],
      "text/plain": [
       "1.00000000000000"
      ]
     },
     "execution_count": 9,
     "metadata": {},
     "output_type": "execute_result"
    }
   ],
   "source": [
    "# Chequear que esta normalizada\n",
    "sp.integrate((r * R_hyp(1,0,1,r))**2, (r,0,oo)).evalf()"
   ]
  },
  {
   "cell_type": "code",
   "execution_count": 10,
   "metadata": {
    "collapsed": false
   },
   "outputs": [
    {
     "data": {
      "text/latex": [
       "$$1.5 {{{}_{1}F_{1}\\left(\\begin{matrix} 0 \\\\ 2 \\end{matrix}\\middle| {0} \\right)}}^{2}$$"
      ],
      "text/plain": [
       "                2\n",
       "     ┌─  ⎛0 │  ⎞ \n",
       "1.5⋅ ├─  ⎜  │ 0⎟ \n",
       "    1╵ 1 ⎝2 │  ⎠ "
      ]
     },
     "execution_count": 10,
     "metadata": {},
     "output_type": "execute_result"
    }
   ],
   "source": [
    "#Valor medio del fundamental\n",
    "# <r>\n",
    "\n",
    "sp.integrate(r * (r * R_hyp(1,0,1,r))**2, (r,0,oo))"
   ]
  },
  {
   "cell_type": "code",
   "execution_count": 11,
   "metadata": {
    "collapsed": false
   },
   "outputs": [
    {
     "data": {
      "image/png": "[encoded data removed]",
      "text/latex": [
       "$$1.5$$"
      ],
      "text/plain": [
       "1.50000000000000"
      ]
     },
     "execution_count": 11,
     "metadata": {},
     "output_type": "execute_result"
    }
   ],
   "source": [
    "# Evaluada\n",
    "sp.integrate(r * (r * R_hyp(1,0,1,r))**2, (r,0,oo)).evalf()"
   ]
  },
  {
   "cell_type": "code",
   "execution_count": 12,
   "metadata": {
    "collapsed": false
   },
   "outputs": [
    {
     "data": {
      "text/latex": [
       "$$1.0 {{{}_{1}F_{1}\\left(\\begin{matrix} 0 \\\\ 2 \\end{matrix}\\middle| {0} \\right)}}^{2}$$"
      ],
      "text/plain": [
       "                2\n",
       "     ┌─  ⎛0 │  ⎞ \n",
       "1.0⋅ ├─  ⎜  │ 0⎟ \n",
       "    1╵ 1 ⎝2 │  ⎠ "
      ]
     },
     "execution_count": 12,
     "metadata": {},
     "output_type": "execute_result"
    }
   ],
   "source": [
    "#Valor medio del fundamental\n",
    "# <1/r>\n",
    "\n",
    "sp.integrate(r**(-1.) * (r * R_hyp(1,0,1,r))**2, (r,0,oo))"
   ]
  },
  {
   "cell_type": "code",
   "execution_count": 13,
   "metadata": {
    "collapsed": false
   },
   "outputs": [
    {
     "name": "stdout",
     "output_type": "stream",
     "text": [
      "3.0*hyper((0,), (2,), 0)**2\n",
      "3.00000000000000\n"
     ]
    }
   ],
   "source": [
    "#Valor medio del fundamental\n",
    "# <r**2>\n",
    "\n",
    "print(sp.integrate(r**2 * (r * R_hyp(1,0,1,r))**2, (r,0,oo)))\n",
    "print(sp.integrate(r**2 * (r * R_hyp(1,0,1,r))**2, (r,0,oo)).evalf())"
   ]
  },
  {
   "cell_type": "markdown",
   "metadata": {},
   "source": [
    "## Solucion de ec de Schrödinger"
   ]
  },
  {
   "cell_type": "code",
   "execution_count": 13,
   "metadata": {
    "collapsed": false
   },
   "outputs": [],
   "source": [
    "# Chequear que es solucion de la ec de Schrödinger\n",
    "\n",
    "n_schro = 3\n",
    "l_schro = 0\n",
    "z_schro = 6\n",
    "\n",
    "sp_Psi = r*R_hyp(n_schro,l_schro,z_schro,r) # La funcion de onda Radial reducida para 1s\n",
    "schrodinger = -(1/2)*sp.diff(sp_Psi,r,r)-(z_schro/r)*sp_Psi\n",
    "energia_psi = -(1/2)*(z_schro**2/n_schro**2)*sp_Psi"
   ]
  },
  {
   "cell_type": "code",
   "execution_count": 14,
   "metadata": {
    "collapsed": false
   },
   "outputs": [
    {
     "data": {
      "image/png": "[encoded data removed]",
      "text/plain": [
       "<matplotlib.figure.Figure at 0xcdd11d0>"
      ]
     },
     "metadata": {},
     "output_type": "display_data"
    },
    {
     "data": {
      "image/png": "[encoded data removed]",
      "text/plain": [
       "<matplotlib.figure.Figure at 0xcc34208>"
      ]
     },
     "metadata": {},
     "output_type": "display_data"
    },
    {
     "data": {
      "text/plain": [
       "<sympy.plotting.plot.Plot at 0xb63ff28>"
      ]
     },
     "execution_count": 14,
     "metadata": {},
     "output_type": "execute_result"
    }
   ],
   "source": [
    "# Plotear ambas funciones\n",
    "# Uso el plotter de sympy para no tener que samplear las funciones\n",
    "\n",
    "plot(schrodinger, (r,0,10),color='red')\n",
    "plot(energia_psi,(r,0,10),color='blue')"
   ]
  },
  {
   "cell_type": "markdown",
   "metadata": {},
   "source": [
    "## Condicion de Kato"
   ]
  },
  {
   "cell_type": "code",
   "execution_count": 6,
   "metadata": {
    "collapsed": false
   },
   "outputs": [
    {
     "data": {
      "image/png": "[encoded data removed]",
      "text/latex": [
       "$$-3.0$$"
      ],
      "text/plain": [
       "-3.00000000000000"
      ]
     },
     "execution_count": 6,
     "metadata": {},
     "output_type": "execute_result"
    }
   ],
   "source": [
    "# Condicion de Kato\n",
    "\n",
    "orb_slater = slater(1,3,r)\n",
    "kato_num = sp.diff(orb_slater, r)\n",
    "kato_den = orb_slater\n",
    "kato = kato_num/kato_den\n",
    "kato"
   ]
  },
  {
   "cell_type": "markdown",
   "metadata": {},
   "source": [
    "## Condicion de Oppenheimer"
   ]
  },
  {
   "cell_type": "code",
   "execution_count": 17,
   "metadata": {
    "collapsed": false
   },
   "outputs": [
    {
     "data": {
      "text/latex": [
       "$$\\frac{0.125}{\\pi} {{{}_{1}F_{1}\\left(\\begin{matrix} -1 \\\\ 2 \\end{matrix}\\middle| {0} \\right)}}^{2}$$"
      ],
      "text/plain": [
       "                   2\n",
       "       ┌─  ⎛-1 │  ⎞ \n",
       "0.125⋅ ├─  ⎜   │ 0⎟ \n",
       "      1╵ 1 ⎝2  │  ⎠ \n",
       "────────────────────\n",
       "         π          "
      ]
     },
     "execution_count": 17,
     "metadata": {},
     "output_type": "execute_result"
    }
   ],
   "source": [
    "# Condicion de Oppenheimer\n",
    "\n",
    "opp = (1/sp.sqrt(4*sp.pi))*R_hyp(2,0,1,r)\n",
    "opp.subs(r,0)**2"
   ]
  },
  {
   "cell_type": "markdown",
   "metadata": {},
   "source": [
    "# Ejercicios:\n",
    "\n",
    "* Generar otras funciones de onda\n",
    "* Chequear ortonormalidad\n",
    "* Calcular los valores medio $\\langle r \\rangle$, $\\langle r^2 \\rangle$, \n",
    "  $\\langle \\frac{1}{r} \\rangle$ \n"
   ]
  },
  {
   "cell_type": "markdown",
   "metadata": {},
   "source": [
    "## Funcion radial del estado 2s"
   ]
  },
  {
   "cell_type": "code",
   "execution_count": 19,
   "metadata": {
    "collapsed": false
   },
   "outputs": [
    {
     "data": {
      "image/png": "[encoded data removed]",
      "text/plain": [
       "<matplotlib.figure.Figure at 0xb4c1470>"
      ]
     },
     "metadata": {},
     "output_type": "display_data"
    }
   ],
   "source": [
    "# Plot de psi2 (2s) n=2;l=0\n",
    "\n",
    "plt.plot(x,x*psi2);\n",
    "plt.title(\"Radial Wavefunction $\\Psi_{2s}$ of Hydrogen\");\n",
    "plt.xlabel(\"r (a.u.)\");\n",
    "plt.ylabel(\"$\\psi_{2s}(r)$\");"
   ]
  },
  {
   "cell_type": "code",
   "execution_count": 20,
   "metadata": {
    "collapsed": false
   },
   "outputs": [
    {
     "data": {
      "text/latex": [
       "$$1.0 {{{}_{1}F_{1}\\left(\\begin{matrix} -1 \\\\ 2 \\end{matrix}\\middle| {0} \\right)}}^{2} - 3.0 {{}_{1}F_{1}\\left(\\begin{matrix} -1 \\\\ 2 \\end{matrix}\\middle| {0} \\right)} {{}_{1}F_{1}\\left(\\begin{matrix} 0 \\\\ 3 \\end{matrix}\\middle| {0} \\right)} + 3.0 {{{}_{1}F_{1}\\left(\\begin{matrix} 0 \\\\ 3 \\end{matrix}\\middle| {0} \\right)}}^{2}$$"
      ],
      "text/plain": [
       "                 2                                                    2\n",
       "     ┌─  ⎛-1 │  ⎞         ┌─  ⎛-1 │  ⎞  ┌─  ⎛0 │  ⎞        ┌─  ⎛0 │  ⎞ \n",
       "1.0⋅ ├─  ⎜   │ 0⎟  - 3.0⋅ ├─  ⎜   │ 0⎟⋅ ├─  ⎜  │ 0⎟ + 3.0⋅ ├─  ⎜  │ 0⎟ \n",
       "    1╵ 1 ⎝2  │  ⎠        1╵ 1 ⎝2  │  ⎠ 1╵ 1 ⎝3 │  ⎠       1╵ 1 ⎝3 │  ⎠ "
      ]
     },
     "execution_count": 20,
     "metadata": {},
     "output_type": "execute_result"
    }
   ],
   "source": [
    "# Integral simbólica\n",
    "\n",
    "sp.integrate( (r * R_hyp(2,0,1,r))**2, (r,0,oo))"
   ]
  },
  {
   "cell_type": "markdown",
   "metadata": {},
   "source": [
    "### Chequeo normalizacion"
   ]
  },
  {
   "cell_type": "code",
   "execution_count": 21,
   "metadata": {
    "collapsed": false
   },
   "outputs": [
    {
     "data": {
      "image/png": "[encoded data removed]",
      "text/latex": [
       "$$1.0$$"
      ],
      "text/plain": [
       "1.00000000000000"
      ]
     },
     "execution_count": 21,
     "metadata": {},
     "output_type": "execute_result"
    }
   ],
   "source": [
    "# Chequear que esta normalizada\n",
    "sp.integrate( (r * R_hyp(2,0,1,r))**2, (r,0,oo)).evalf()"
   ]
  },
  {
   "cell_type": "markdown",
   "metadata": {},
   "source": [
    "### Chequeo ortogonalidad con el estado 1s y 2p"
   ]
  },
  {
   "cell_type": "code",
   "execution_count": 24,
   "metadata": {
    "collapsed": false
   },
   "outputs": [
    {
     "data": {
      "image/png": "[encoded data removed]",
      "text/latex": [
       "$$1.0 \\cdot 10^{-125}$$"
      ],
      "text/plain": [
       "0.e-125"
      ]
     },
     "execution_count": 24,
     "metadata": {},
     "output_type": "execute_result"
    }
   ],
   "source": [
    "# Chequeo ortogonalidad entre 1s y 2s\n",
    "\n",
    "sp.integrate(r*R_hyp(1,0,1,r)*r*R_hyp(2,0,1,r), (r,0,oo)).evalf()"
   ]
  },
  {
   "cell_type": "code",
   "execution_count": 25,
   "metadata": {
    "collapsed": false
   },
   "outputs": [
    {
     "data": {
      "image/png": "[encoded data removed]",
      "text/latex": [
       "$$0.483849825734949$$"
      ],
      "text/plain": [
       "0.483849825734949"
      ]
     },
     "execution_count": 25,
     "metadata": {},
     "output_type": "execute_result"
    }
   ],
   "source": [
    "# Chequeo ortogonalidad entre 1s y 2p\n",
    "\n",
    "sp.integrate(r*R_hyp(1,0,1,r)*r*R_hyp(2,1,1,r), (r,0,oo)).evalf()"
   ]
  },
  {
   "cell_type": "markdown",
   "metadata": {},
   "source": [
    "### Valores medios"
   ]
  },
  {
   "cell_type": "code",
   "execution_count": 38,
   "metadata": {
    "collapsed": false
   },
   "outputs": [
    {
     "data": {
      "image/png": "[encoded data removed]",
      "text/latex": [
       "$$6.0$$"
      ],
      "text/plain": [
       "6.0"
      ]
     },
     "execution_count": 38,
     "metadata": {},
     "output_type": "execute_result"
    }
   ],
   "source": [
    "# <r>\n",
    "# Deberia dar:\n",
    "def VM_r(n, l, z):\n",
    "    return ((n*n)/(2*z)) * (3 - (1/n**2) * l*(l+1))\n",
    "\n",
    "VM_r(2,0,1)"
   ]
  },
  {
   "cell_type": "code",
   "execution_count": 36,
   "metadata": {
    "collapsed": false
   },
   "outputs": [
    {
     "data": {
      "image/png": "[encoded data removed]",
      "text/latex": [
       "$$6.0$$"
      ],
      "text/plain": [
       "6.00000000000000"
      ]
     },
     "execution_count": 36,
     "metadata": {},
     "output_type": "execute_result"
    }
   ],
   "source": [
    "# Integrando:\n",
    "sp.integrate(r * (r * R_hyp(2,0,1,r))**2, (r,0,oo)).evalf()"
   ]
  },
  {
   "cell_type": "code",
   "execution_count": 39,
   "metadata": {
    "collapsed": false
   },
   "outputs": [
    {
     "data": {
      "image/png": "[encoded data removed]",
      "text/latex": [
       "$$42.0$$"
      ],
      "text/plain": [
       "42.0"
      ]
     },
     "execution_count": 39,
     "metadata": {},
     "output_type": "execute_result"
    }
   ],
   "source": [
    "# <r**2>\n",
    "# Deberia dar:\n",
    "def VM_r2(n, l, z):\n",
    "    return ((n**4)/(2*z**2)) * (5 + (1/n**2) - (3/n**2)*l*(l+1))\n",
    "\n",
    "VM_r2(2,0,1)"
   ]
  },
  {
   "cell_type": "code",
   "execution_count": 40,
   "metadata": {
    "collapsed": false
   },
   "outputs": [
    {
     "data": {
      "image/png": "[encoded data removed]",
      "text/latex": [
       "$$42.0$$"
      ],
      "text/plain": [
       "42.0000000000000"
      ]
     },
     "execution_count": 40,
     "metadata": {},
     "output_type": "execute_result"
    }
   ],
   "source": [
    "# <r**2>\n",
    "\n",
    "sp.integrate(r**2 * (r * R_hyp(2,0,1,r))**2, (r,0,oo)).evalf()"
   ]
  },
  {
   "cell_type": "code",
   "execution_count": 41,
   "metadata": {
    "collapsed": false
   },
   "outputs": [
    {
     "data": {
      "image/png": "[encoded data removed]",
      "text/latex": [
       "$$1.0 \\cdot 10^{2}$$"
      ],
      "text/plain": [
       "0.e+2"
      ]
     },
     "execution_count": 41,
     "metadata": {},
     "output_type": "execute_result"
    }
   ],
   "source": [
    "# <r**-3>\n",
    "\n",
    "sp.integrate((1/r**3) * (r * R_hyp(2,0,1,r))**2, (r,0,oo)).evalf()"
   ]
  },
  {
   "cell_type": "code",
   "execution_count": 42,
   "metadata": {
    "collapsed": false
   },
   "outputs": [
    {
     "data": {
      "image/png": "[encoded data removed]",
      "text/latex": [
       "$$0.25$$"
      ],
      "text/plain": [
       "0.250000000000000"
      ]
     },
     "execution_count": 42,
     "metadata": {},
     "output_type": "execute_result"
    }
   ],
   "source": [
    "# <r**-2>\n",
    "\n",
    "sp.integrate((1/r**2) * (r * R_hyp(2,0,1,r))**2, (r,0,oo)).evalf()"
   ]
  },
  {
   "cell_type": "code",
   "execution_count": 43,
   "metadata": {
    "collapsed": false
   },
   "outputs": [
    {
     "data": {
      "image/png": "[encoded data removed]",
      "text/latex": [
       "$$0.25$$"
      ],
      "text/plain": [
       "0.250000000000000"
      ]
     },
     "execution_count": 43,
     "metadata": {},
     "output_type": "execute_result"
    }
   ],
   "source": [
    "# <r**-1>\n",
    "\n",
    "sp.integrate((1/r) * (r * R_hyp(2,0,1,r))**2, (r,0,oo)).evalf()"
   ]
  },
  {
   "cell_type": "code",
   "execution_count": 44,
   "metadata": {
    "collapsed": false
   },
   "outputs": [
    {
     "data": {
      "image/png": "[encoded data removed]",
      "text/latex": [
       "$$1.0$$"
      ],
      "text/plain": [
       "1.00000000000000"
      ]
     },
     "execution_count": 44,
     "metadata": {},
     "output_type": "execute_result"
    }
   ],
   "source": [
    "# <r**0> Es el de chequear que este normalizada y da 1\n",
    "\n",
    "sp.integrate((r * R_hyp(2,0,1,r))**2, (r,0,oo)).evalf()"
   ]
  },
  {
   "cell_type": "markdown",
   "metadata": {},
   "source": [
    "### Teorema del Virial"
   ]
  },
  {
   "cell_type": "code",
   "execution_count": null,
   "metadata": {
    "collapsed": true
   },
   "outputs": [],
   "source": [
    "e_kin = \n",
    "e_pot = 1/4 # Z**2/n**2"
   ]
  },
  {
   "cell_type": "markdown",
   "metadata": {
    "collapsed": true
   },
   "source": [
    "# Otra forma de hacerlo (con numpy)"
   ]
  },
  {
   "cell_type": "code",
   "execution_count": 30,
   "metadata": {
    "collapsed": true
   },
   "outputs": [],
   "source": [
    "from scipy import integrate\n",
    "from scipy.special import hyp1f1\n",
    "from math import factorial\n"
   ]
  },
  {
   "cell_type": "code",
   "execution_count": 31,
   "metadata": {
    "collapsed": true
   },
   "outputs": [],
   "source": [
    "def R1F1(n,l,z,r):\n",
    "    rho=2*r*z/n \n",
    "    rnum = (2*z/n)**3 * factorial(n+l)\n",
    "    rden = (factorial(2*l+1))**2 * 2*n * factorial(n-l-1)\n",
    "    rnorm = np.sqrt(rnum/rden)\n",
    "    rfunc = (rho)**l * np.exp(-rho/2) * hyp1f1(-n+l+1,2*l+2,rho)\n",
    "    R = rnorm * rfunc\n",
    "    return R "
   ]
  },
  {
   "cell_type": "code",
   "execution_count": 32,
   "metadata": {
    "collapsed": false
   },
   "outputs": [
    {
     "data": {
      "image/png": "[encoded data removed]",
      "text/plain": [
       "<matplotlib.figure.Figure at 0x7f2b7f8aab50>"
      ]
     },
     "metadata": {},
     "output_type": "display_data"
    }
   ],
   "source": [
    "r = np.linspace(0,10,200);\n",
    "plt.plot(r,r*R1F1(1,0,1,r),'-',label='R1F1',linewidth=2);\n",
    "plt.title(\"Radial Wavefunction $\\Psi_{1s}$ of Hydrogen (numpy)\");\n",
    "plt.xlabel(\"r (a.u.)\");\n",
    "plt.ylabel(\"$\\psi_{1s}(r)$\");\n"
   ]
  },
  {
   "cell_type": "code",
   "execution_count": 33,
   "metadata": {
    "collapsed": false
   },
   "outputs": [
    {
     "name": "stdout",
     "output_type": "stream",
     "text": [
      "(1.0000000000000002, 1.3633023322217214e-10)\n"
     ]
    }
   ],
   "source": [
    "# Integral\n",
    "\n",
    "rR2=lambda r:(R1F1(1,0,1,r) * r)**2 \n",
    "Integral=integrate.quad(rR2,0,float('inf'))\n",
    "print(Integral)"
   ]
  },
  {
   "cell_type": "code",
   "execution_count": null,
   "metadata": {
    "collapsed": true
   },
   "outputs": [],
   "source": []
  }
 ],
 "metadata": {
  "kernelspec": {
   "display_name": "Python 2",
   "language": "python",
   "name": "python2"
  },
  "language_info": {
   "codemirror_mode": {
    "name": "ipython",
    "version": 2
   },
   "file_extension": ".py",
   "mimetype": "text/x-python",
   "name": "python",
   "nbconvert_exporter": "python",
   "pygments_lexer": "ipython2",
   "version": "2.7.11"
  }
 },
 "nbformat": 4,
 "nbformat_minor": 1
}
