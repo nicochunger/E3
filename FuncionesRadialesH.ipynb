{
 "cells": [
  {
   "cell_type": "markdown",
   "metadata": {},
   "source": [
    "# Funciones Radiales del Hidrógeno\n",
    "\n",
    "Darío Mitnik\n"
   ]
  },
  {
   "cell_type": "code",
   "execution_count": 137,
   "metadata": {
    "collapsed": true
   },
   "outputs": [],
   "source": [
    "import numpy as np\n",
    "import sympy as sp\n",
    "import matplotlib.pyplot as plt\n",
    "\n",
    "# Cosas útiles para utilizar luego\n",
    "from sympy import oo\n",
    "from sympy.plotting import plot\n",
    "from __future__ import division \n",
    "\n",
    "# Estética\n",
    "sp.init_printing()\n",
    "%matplotlib inline\n",
    "\n",
    "#Definimos los simbolos que vamos a usar.\n",
    "\n",
    "r=sp.Symbol('r',positive=True)\n",
    "l=sp.Symbol('l',positive=True,integer=True)\n",
    "n=sp.Symbol('n',positive=True,integer=True)\n",
    "z=sp.Symbol('z',positive=True,integer=True)\n",
    "k=sp.Symbol('k',positive=True)\n",
    "N=sp.Symbol('N',positive=True) # Para los orbitales de Slater"
   ]
  },
  {
   "cell_type": "code",
   "execution_count": 138,
   "metadata": {
    "collapsed": true
   },
   "outputs": [],
   "source": [
    "# Función Radial Hidrogénica (con hipergeométricas)\n",
    "\n",
    "def R_hyp(n,l,z,r):\n",
    "    rho=2*r*z/n \n",
    "    rnum = (2*z/n)**3 * sp.factorial(n+l)\n",
    "    rden = (sp.factorial(2*l+1))**2 * 2*n * sp.factorial(n-l-1)\n",
    "    rnorm = sp.sqrt(rnum/rden)\n",
    "    rfunc = (rho)**l * sp.exp(-rho/2) * sp.hyper((-n+l+1,),(2*l+2,),(rho))\n",
    "    R = rnorm * rfunc\n",
    "    return R\n"
   ]
  },
  {
   "cell_type": "code",
   "execution_count": 139,
   "metadata": {
    "collapsed": true
   },
   "outputs": [],
   "source": [
    "# Orbitales de Slater\n",
    "\n",
    "def slater(N,z,r):\n",
    "    sl1 = 2*z**(N+1/2)\n",
    "    sl2 = sp.sqrt(sp.factorial(2*N))\n",
    "    sl3 = r**(N-1)*sp.exp(-z*r)\n",
    "    return sl1*sl3/sl2"
   ]
  },
  {
   "cell_type": "code",
   "execution_count": 140,
   "metadata": {
    "collapsed": true
   },
   "outputs": [],
   "source": [
    "# Definición de los vectores para plotear\n",
    "\n",
    "nsize=500\n",
    "xmax=10.0\n",
    "xmin=0.\n",
    "x = np.linspace(xmin,xmax,nsize)\n",
    "psi = np.zeros(nsize)\n",
    "psi2 = np.zeros(nsize)"
   ]
  },
  {
   "cell_type": "code",
   "execution_count": 141,
   "metadata": {
    "collapsed": true
   },
   "outputs": [],
   "source": [
    "# Copiamos el array simbólico a numérico\n",
    "\n",
    "for i in range(nsize):\n",
    "    psi[i] = R_hyp(1,0,1,x[i]) # n=1; l=0; z=1\n",
    "    psi2[i] = R_hyp(2,0,1,x[i]) # n=2; l=0; z=1"
   ]
  },
  {
   "cell_type": "code",
   "execution_count": 142,
   "metadata": {},
   "outputs": [
    {
     "data": {
      "image/png": "[encoded data removed]",
      "text/plain": [
       "<matplotlib.figure.Figure at 0xe9d3c88>"
      ]
     },
     "metadata": {},
     "output_type": "display_data"
    }
   ],
   "source": [
    "# Ploteo\n",
    "\n",
    "plt.plot(x,x*psi);\n",
    "plt.title(\"Radial Wavefunction $\\Psi_{1s}$ of Hydrogen\");\n",
    "plt.xlabel(\"r (a.u.)\");\n",
    "plt.ylabel(\"$\\psi_{1s}(r)$\");"
   ]
  },
  {
   "cell_type": "code",
   "execution_count": 143,
   "metadata": {},
   "outputs": [
    {
     "data": {
      "text/latex": [
       "$$1.0 {{{}_{1}F_{1}\\left(\\begin{matrix} 0 \\\\ 2 \\end{matrix}\\middle| {0} \\right)}}^{2}$$"
      ],
      "text/plain": [
       "                2\n",
       "     ┌─  ⎛0 │  ⎞ \n",
       "1.0⋅ ├─  ⎜  │ 0⎟ \n",
       "    1╵ 1 ⎝2 │  ⎠ "
      ]
     },
     "execution_count": 143,
     "metadata": {},
     "output_type": "execute_result"
    }
   ],
   "source": [
    "# Integral simbólica\n",
    "\n",
    "sp.integrate( (r * R_hyp(1,0,1,r))**2, (r,0,oo))"
   ]
  },
  {
   "cell_type": "code",
   "execution_count": 144,
   "metadata": {},
   "outputs": [
    {
     "data": {
      "image/png": "[encoded data removed]",
      "text/latex": [
       "$$1.0$$"
      ],
      "text/plain": [
       "1.00000000000000"
      ]
     },
     "execution_count": 144,
     "metadata": {},
     "output_type": "execute_result"
    }
   ],
   "source": [
    "# Chequear que esta normalizada\n",
    "sp.integrate((r * R_hyp(1,0,1,r))**2, (r,0,oo)).evalf()"
   ]
  },
  {
   "cell_type": "code",
   "execution_count": 145,
   "metadata": {},
   "outputs": [
    {
     "data": {
      "text/latex": [
       "$$1.5 {{{}_{1}F_{1}\\left(\\begin{matrix} 0 \\\\ 2 \\end{matrix}\\middle| {0} \\right)}}^{2}$$"
      ],
      "text/plain": [
       "                2\n",
       "     ┌─  ⎛0 │  ⎞ \n",
       "1.5⋅ ├─  ⎜  │ 0⎟ \n",
       "    1╵ 1 ⎝2 │  ⎠ "
      ]
     },
     "execution_count": 145,
     "metadata": {},
     "output_type": "execute_result"
    }
   ],
   "source": [
    "#Valor medio del fundamental\n",
    "# <r>\n",
    "\n",
    "sp.integrate(r * (r * R_hyp(1,0,1,r))**2, (r,0,oo))"
   ]
  },
  {
   "cell_type": "code",
   "execution_count": 146,
   "metadata": {},
   "outputs": [
    {
     "data": {
      "image/png": "[encoded data removed]",
      "text/latex": [
       "$$1.5$$"
      ],
      "text/plain": [
       "1.50000000000000"
      ]
     },
     "execution_count": 146,
     "metadata": {},
     "output_type": "execute_result"
    }
   ],
   "source": [
    "# Evaluada\n",
    "sp.integrate(r * (r * R_hyp(1,0,1,r))**2, (r,0,oo)).evalf()"
   ]
  },
  {
   "cell_type": "code",
   "execution_count": 147,
   "metadata": {},
   "outputs": [
    {
     "data": {
      "text/latex": [
       "$$1.0 {{{}_{1}F_{1}\\left(\\begin{matrix} 0 \\\\ 2 \\end{matrix}\\middle| {0} \\right)}}^{2}$$"
      ],
      "text/plain": [
       "                2\n",
       "     ┌─  ⎛0 │  ⎞ \n",
       "1.0⋅ ├─  ⎜  │ 0⎟ \n",
       "    1╵ 1 ⎝2 │  ⎠ "
      ]
     },
     "execution_count": 147,
     "metadata": {},
     "output_type": "execute_result"
    }
   ],
   "source": [
    "#Valor medio\n",
    "# <1/r>\n",
    "\n",
    "sp.integrate(r**(-1.) * (r * R_hyp(1,0,1,r))**2, (r,0,oo))"
   ]
  },
  {
   "cell_type": "code",
   "execution_count": 148,
   "metadata": {},
   "outputs": [
    {
     "name": "stdout",
     "output_type": "stream",
     "text": [
      "3.0*hyper((0,), (2,), 0)**2\n",
      "3.00000000000000\n"
     ]
    }
   ],
   "source": [
    "# Valor medio del fundamental\n",
    "# <r**2>\n",
    "\n",
    "print(sp.integrate(r**2 * (r * R_hyp(1,0,1,r))**2, (r,0,oo)))\n",
    "print(sp.integrate(r**2 * (r * R_hyp(1,0,1,r))**2, (r,0,oo)).evalf())"
   ]
  },
  {
   "cell_type": "markdown",
   "metadata": {},
   "source": [
    "## Solucion de ec de Schrödinger"
   ]
  },
  {
   "cell_type": "code",
   "execution_count": 149,
   "metadata": {
    "collapsed": true
   },
   "outputs": [],
   "source": [
    "# Chequear que es solucion de la ec de Schrödinger\n",
    "\n",
    "n_schro = 5\n",
    "l_schro = 3\n",
    "z_schro = 5\n",
    "\n",
    "sp_Psi = r*R_hyp(n_schro,l_schro,z_schro,r) # La funcion de onda Radial reducida para los numeros cuanticos indicados arriba\n",
    "schrodinger = -(1/2)*sp.diff(sp_Psi,r,r) - (z_schro/r)*sp_Psi + l_schro*(l_schro+1)/(2*r**2)*sp_Psi\n",
    "energia_psi = -(1/2)*(z_schro**2/n_schro**2)*sp_Psi"
   ]
  },
  {
   "cell_type": "code",
   "execution_count": 150,
   "metadata": {},
   "outputs": [
    {
     "data": {
      "image/png": "[encoded data removed]",
      "text/plain": [
       "<matplotlib.figure.Figure at 0x112c4940>"
      ]
     },
     "metadata": {},
     "output_type": "display_data"
    }
   ],
   "source": [
    "# Plotear ambas funciones\n",
    "# Uso el plotter de sympy para no tener que samplear las funciones\n",
    "\n",
    "p1 = plot(schrodinger, energia_psi, (r,0,10), line_color='blue')"
   ]
  },
  {
   "cell_type": "markdown",
   "metadata": {},
   "source": [
    "Con cualquier n, l, z las dos partes de la ecuacion de schrödinger caen una arriba de la otra."
   ]
  },
  {
   "cell_type": "markdown",
   "metadata": {},
   "source": [
    "## Condicion de Kato"
   ]
  },
  {
   "cell_type": "code",
   "execution_count": 151,
   "metadata": {},
   "outputs": [
    {
     "data": {
      "image/png": "[encoded data removed]",
      "text/latex": [
       "$$-5.0$$"
      ],
      "text/plain": [
       "-5.00000000000000"
      ]
     },
     "execution_count": 151,
     "metadata": {},
     "output_type": "execute_result"
    }
   ],
   "source": [
    "# Condicion de Kato\n",
    "# Lo hago usando los orbitales de Slater\n",
    "\n",
    "orb_slater = slater(1,z_schro,r)\n",
    "kato_num = sp.diff(orb_slater, r)\n",
    "kato_den = orb_slater\n",
    "kato = kato_num/kato_den\n",
    "kato"
   ]
  },
  {
   "cell_type": "markdown",
   "metadata": {},
   "source": [
    "Con un Z=5 me da -5 lo cual esta bien"
   ]
  },
  {
   "cell_type": "markdown",
   "metadata": {},
   "source": [
    "## Condicion de Oppenheimer"
   ]
  },
  {
   "cell_type": "code",
   "execution_count": 152,
   "metadata": {},
   "outputs": [
    {
     "data": {
      "text/latex": [
       "$$\\frac{0.125}{\\pi} {{{}_{1}F_{1}\\left(\\begin{matrix} -1 \\\\ 2 \\end{matrix}\\middle| {0} \\right)}}^{2}$$"
      ],
      "text/plain": [
       "                   2\n",
       "       ┌─  ⎛-1 │  ⎞ \n",
       "0.125⋅ ├─  ⎜   │ 0⎟ \n",
       "      1╵ 1 ⎝2  │  ⎠ \n",
       "────────────────────\n",
       "         π          "
      ]
     },
     "execution_count": 152,
     "metadata": {},
     "output_type": "execute_result"
    }
   ],
   "source": [
    "# Condicion de Oppenheimer\n",
    "\n",
    "opp = (1/sp.sqrt(4*sp.pi))*R_hyp(2,0,1,r)\n",
    "opp.subs(r,0)**2"
   ]
  },
  {
   "cell_type": "markdown",
   "metadata": {},
   "source": [
    "# Ejercicios:\n",
    "\n",
    "* Generar otras funciones de onda\n",
    "* Chequear ortonormalidad\n",
    "* Calcular los valores medio $\\langle r \\rangle$, $\\langle r^2 \\rangle$, \n",
    "  $\\langle \\frac{1}{r} \\rangle$ \n"
   ]
  },
  {
   "cell_type": "markdown",
   "metadata": {},
   "source": [
    "## Funcion radial del estado 2s"
   ]
  },
  {
   "cell_type": "code",
   "execution_count": 153,
   "metadata": {},
   "outputs": [
    {
     "data": {
      "image/png": "[encoded data removed]",
      "text/plain": [
       "<matplotlib.figure.Figure at 0xe499b38>"
      ]
     },
     "metadata": {},
     "output_type": "display_data"
    }
   ],
   "source": [
    "# Plot de psi2 (2s) n=2;l=0\n",
    "\n",
    "plt.plot(x,x*psi2);\n",
    "plt.title(\"Radial Wavefunction $\\Psi_{2s}$ of Hydrogen\");\n",
    "plt.xlabel(\"r (a.u.)\");\n",
    "plt.ylabel(\"$\\psi_{2s}(r)$\");"
   ]
  },
  {
   "cell_type": "markdown",
   "metadata": {},
   "source": [
    "### Chequeo normalizacion"
   ]
  },
  {
   "cell_type": "code",
   "execution_count": 154,
   "metadata": {},
   "outputs": [
    {
     "data": {
      "image/png": "[encoded data removed]",
      "text/latex": [
       "$$1.0$$"
      ],
      "text/plain": [
       "1.00000000000000"
      ]
     },
     "execution_count": 154,
     "metadata": {},
     "output_type": "execute_result"
    }
   ],
   "source": [
    "# Chequear que esta normalizada\n",
    "sp.integrate( (r * R_hyp(2,0,1,r))**2, (r,0,oo)).evalf()"
   ]
  },
  {
   "cell_type": "markdown",
   "metadata": {},
   "source": [
    "### Chequeo ortogonalidad con el estado 1s y 2p"
   ]
  },
  {
   "cell_type": "code",
   "execution_count": 155,
   "metadata": {
    "collapsed": true
   },
   "outputs": [],
   "source": [
    "# Simplifico las funciones radiales\n",
    "R10_simpl = sp.simplify(R_hyp(1,0,1,r)) # 1s\n",
    "R20_simpl = sp.simplify(R_hyp(2,0,1,r)) # 2s\n",
    "R21_simpl = sp.simplify(R_hyp(2,1,1,r)) # 2p"
   ]
  },
  {
   "cell_type": "code",
   "execution_count": 156,
   "metadata": {},
   "outputs": [
    {
     "data": {
      "image/png": "[encoded data removed]",
      "text/latex": [
       "$$-1.11022302462516 \\cdot 10^{-16}$$"
      ],
      "text/plain": [
       "-1.11022302462516e-16"
      ]
     },
     "execution_count": 156,
     "metadata": {},
     "output_type": "execute_result"
    }
   ],
   "source": [
    "# Chequeo ortogonalidad entre 1s y 2s\n",
    "\n",
    "sp.integrate(r*R10_simpl*r*R20_simpl, (r,0,oo)).evalf()"
   ]
  },
  {
   "cell_type": "markdown",
   "metadata": {},
   "source": [
    "Practicamente cero => Son ortogonales"
   ]
  },
  {
   "cell_type": "code",
   "execution_count": 157,
   "metadata": {},
   "outputs": [
    {
     "data": {
      "image/png": "[encoded data removed]",
      "text/latex": [
       "$$0.483849825734949$$"
      ],
      "text/plain": [
       "0.483849825734949"
      ]
     },
     "execution_count": 157,
     "metadata": {},
     "output_type": "execute_result"
    }
   ],
   "source": [
    "# Chequeo ortogonalidad entre 1s y 2p\n",
    "\n",
    "sp.integrate(r*R10_simpl*r*R21_simpl, (r,0,oo)).evalf()"
   ]
  },
  {
   "cell_type": "markdown",
   "metadata": {},
   "source": [
    "El caso entre 1s y 2p no da ortogonal, lo cual es esperable porque aca solo estoy comparando la parte radial de las funciones de onda."
   ]
  },
  {
   "cell_type": "markdown",
   "metadata": {},
   "source": [
    "### Valores medios"
   ]
  },
  {
   "cell_type": "code",
   "execution_count": 158,
   "metadata": {},
   "outputs": [
    {
     "data": {
      "image/png": "[encoded data removed]",
      "text/latex": [
       "$$6.0$$"
      ],
      "text/plain": [
       "6.0"
      ]
     },
     "execution_count": 158,
     "metadata": {},
     "output_type": "execute_result"
    }
   ],
   "source": [
    "# <r>\n",
    "# Deberia dar:\n",
    "def VM_r(n, l, z):\n",
    "    return ((n*n)/(2*z)) * (3 - (1/n**2) * l*(l+1))\n",
    "\n",
    "VM_r(2,0,1)"
   ]
  },
  {
   "cell_type": "code",
   "execution_count": 160,
   "metadata": {},
   "outputs": [
    {
     "data": {
      "image/png": "[encoded data removed]",
      "text/latex": [
       "$$6.0$$"
      ],
      "text/plain": [
       "6.00000000000000"
      ]
     },
     "execution_count": 160,
     "metadata": {},
     "output_type": "execute_result"
    }
   ],
   "source": [
    "# Integrando:\n",
    "sp.integrate(sp.simplify(r * (r * R_hyp(2,0,1,r))**2), (r,0,oo)).evalf()"
   ]
  },
  {
   "cell_type": "code",
   "execution_count": 161,
   "metadata": {},
   "outputs": [
    {
     "data": {
      "image/png": "[encoded data removed]",
      "text/latex": [
       "$$42.0$$"
      ],
      "text/plain": [
       "42.0"
      ]
     },
     "execution_count": 161,
     "metadata": {},
     "output_type": "execute_result"
    }
   ],
   "source": [
    "# <r**2>\n",
    "# Deberia dar:\n",
    "def VM_r2(n, l, z):\n",
    "    return ((n**4)/(2*z**2)) * (5 + (1/n**2) - (3/n**2)*l*(l+1))\n",
    "\n",
    "VM_r2(2,0,1)"
   ]
  },
  {
   "cell_type": "code",
   "execution_count": 162,
   "metadata": {},
   "outputs": [
    {
     "data": {
      "image/png": "[encoded data removed]",
      "text/latex": [
       "$$42.0$$"
      ],
      "text/plain": [
       "42.0000000000000"
      ]
     },
     "execution_count": 162,
     "metadata": {},
     "output_type": "execute_result"
    }
   ],
   "source": [
    "# <r**2>\n",
    "\n",
    "sp.integrate(sp.simplify(r**2 * (r * R_hyp(2,0,1,r))**2), (r,0,oo)).evalf()"
   ]
  },
  {
   "cell_type": "code",
   "execution_count": 164,
   "metadata": {},
   "outputs": [
    {
     "data": {
      "image/png": "[encoded data removed]",
      "text/latex": [
       "$$1.0 \\cdot 10^{2}$$"
      ],
      "text/plain": [
       "0.e+2"
      ]
     },
     "execution_count": 164,
     "metadata": {},
     "output_type": "execute_result"
    }
   ],
   "source": [
    "# <r**-3>\n",
    "\n",
    "sp.integrate((1/r**3) * (r * R_hyp(2,0,1,r))**2, (r,0,oo)).evalf()"
   ]
  },
  {
   "cell_type": "code",
   "execution_count": 165,
   "metadata": {},
   "outputs": [
    {
     "data": {
      "image/png": "[encoded data removed]",
      "text/latex": [
       "$$0.25$$"
      ],
      "text/plain": [
       "0.250000000000000"
      ]
     },
     "execution_count": 165,
     "metadata": {},
     "output_type": "execute_result"
    }
   ],
   "source": [
    "# <r**-2>\n",
    "\n",
    "sp.integrate((1/r**2) * (r * R_hyp(2,0,1,r))**2, (r,0,oo)).evalf()"
   ]
  },
  {
   "cell_type": "code",
   "execution_count": 166,
   "metadata": {},
   "outputs": [
    {
     "data": {
      "image/png": "[encoded data removed]",
      "text/latex": [
       "$$0.25$$"
      ],
      "text/plain": [
       "0.250000000000000"
      ]
     },
     "execution_count": 166,
     "metadata": {},
     "output_type": "execute_result"
    }
   ],
   "source": [
    "# <r**-1>\n",
    "\n",
    "sp.integrate((1/r) * (r * R_hyp(2,0,1,r))**2, (r,0,oo)).evalf()"
   ]
  },
  {
   "cell_type": "code",
   "execution_count": 167,
   "metadata": {},
   "outputs": [
    {
     "data": {
      "image/png": "[encoded data removed]",
      "text/latex": [
       "$$1.0$$"
      ],
      "text/plain": [
       "1.00000000000000"
      ]
     },
     "execution_count": 167,
     "metadata": {},
     "output_type": "execute_result"
    }
   ],
   "source": [
    "# <r**0> Es el de chequear que este normalizada y da 1\n",
    "\n",
    "sp.integrate((r * R_hyp(2,0,1,r))**2, (r,0,oo)).evalf()"
   ]
  },
  {
   "cell_type": "markdown",
   "metadata": {},
   "source": [
    "### Teorema del Virial"
   ]
  },
  {
   "cell_type": "code",
   "execution_count": 168,
   "metadata": {},
   "outputs": [
    {
     "data": {
      "image/png": "[encoded data removed]",
      "text/latex": [
       "$$-20.0$$"
      ],
      "text/plain": [
       "-20.0000000000000"
      ]
     },
     "execution_count": 168,
     "metadata": {},
     "output_type": "execute_result"
    }
   ],
   "source": [
    "e_kin = sp.integrate(sp.simplify(-(1/2)*sp.diff(r*R_hyp(1,0,1,r),r,r)*r*R_hyp(1,0,1,r)),(r,0,oo))\n",
    "e_pot = sp.integrate(sp.simplify(-(z_schro/r)*r*R_hyp(1,0,1,r)),(r,0,oo))\n",
    "e_pot/e_kin"
   ]
  },
  {
   "cell_type": "markdown",
   "metadata": {},
   "source": [
    "Con n=1, l=0 y z=1 me da -20 en vez de -2... No encuentro donde puede estar el error\n",
    "\n",
    "De todos modos, el virial en el atomo de hidrogeno simple generalmente no da bien"
   ]
  },
  {
   "cell_type": "markdown",
   "metadata": {
    "collapsed": true
   },
   "source": [
    "# Otra forma de hacerlo (con numpy)"
   ]
  },
  {
   "cell_type": "code",
   "execution_count": 169,
   "metadata": {
    "collapsed": true
   },
   "outputs": [],
   "source": [
    "from scipy import integrate\n",
    "from scipy.special import hyp1f1\n",
    "from math import factorial\n"
   ]
  },
  {
   "cell_type": "code",
   "execution_count": 170,
   "metadata": {
    "collapsed": true
   },
   "outputs": [],
   "source": [
    "def R1F1(n,l,z,r):\n",
    "    rho=2*r*z/n \n",
    "    rnum = (2*z/n)**3 * factorial(n+l)\n",
    "    rden = (factorial(2*l+1))**2 * 2*n * factorial(n-l-1)\n",
    "    rnorm = np.sqrt(rnum/rden)\n",
    "    rfunc = (rho)**l * np.exp(-rho/2) * hyp1f1(-n+l+1,2*l+2,rho)\n",
    "    R = rnorm * rfunc\n",
    "    return R "
   ]
  },
  {
   "cell_type": "code",
   "execution_count": 171,
   "metadata": {},
   "outputs": [
    {
     "data": {
      "image/png": "[encoded data removed]",
      "text/plain": [
       "<matplotlib.figure.Figure at 0x13b4b2e8>"
      ]
     },
     "metadata": {},
     "output_type": "display_data"
    }
   ],
   "source": [
    "r = np.linspace(0,10,200);\n",
    "plt.plot(r,r*R1F1(1,0,1,r),'-',label='R1F1',linewidth=2);\n",
    "plt.title(\"Radial Wavefunction $\\Psi_{1s}$ of Hydrogen (numpy)\");\n",
    "plt.xlabel(\"r (a.u.)\");\n",
    "plt.ylabel(\"$\\psi_{1s}(r)$\");\n",
    "plt.show()"
   ]
  },
  {
   "cell_type": "code",
   "execution_count": 172,
   "metadata": {},
   "outputs": [
    {
     "name": "stdout",
     "output_type": "stream",
     "text": [
      "(1.0000000000000002, 1.3633026310134024e-10)\n"
     ]
    }
   ],
   "source": [
    "# Integral\n",
    "\n",
    "rR2=lambda r:(R1F1(1,0,1,r) * r)**2 \n",
    "Integral=integrate.quad(rR2,0,float('inf'))\n",
    "print(Integral)"
   ]
  }
 ],
 "metadata": {
  "kernelspec": {
   "display_name": "Python 2",
   "language": "python",
   "name": "python2"
  },
  "language_info": {
   "codemirror_mode": {
    "name": "ipython",
    "version": 2
   },
   "file_extension": ".py",
   "mimetype": "text/x-python",
   "name": "python",
   "nbconvert_exporter": "python",
   "pygments_lexer": "ipython2",
   "version": "2.7.14"
  }
 },
 "nbformat": 4,
 "nbformat_minor": 1
}
