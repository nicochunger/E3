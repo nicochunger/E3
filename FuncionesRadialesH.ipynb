{
 "cells": [
  {
   "cell_type": "markdown",
   "metadata": {},
   "source": [
    "# Funciones Radiales del Hidrógeno\n",
    "\n",
    "Darío Mitnik\n"
   ]
  },
  {
   "cell_type": "code",
   "execution_count": 8,
   "metadata": {},
   "outputs": [],
   "source": [
    "import numpy as np\n",
    "import sympy as sp\n",
    "import matplotlib.pyplot as plt\n",
    "\n",
    "# Cosas útiles para utilizar luego\n",
    "from sympy import oo\n",
    "from __future__ import division \n",
    "\n",
    "# Estética\n",
    "sp.init_printing()\n",
    "%matplotlib inline\n",
    "\n",
    "#Definimos los simbolos que vamos a usar.\n",
    "\n",
    "r=sp.Symbol('r',positive=True)\n",
    "l=sp.Symbol('l',positive=True,integer=True)\n",
    "n=sp.Symbol('n',positive=True,integer=True)\n",
    "z=sp.Symbol('z',positive=True,integer=True)\n",
    "k=sp.Symbol('k',positive=True)"
   ]
  },
  {
   "cell_type": "code",
   "execution_count": 2,
   "metadata": {},
   "outputs": [],
   "source": [
    "# Función Radial Hidrogénica (con hipergeométricas)\n",
    "\n",
    "def R_hyp(n,l,z,r):\n",
    "    rho=2*r*z/n \n",
    "    rnum = (2*z/n)**3 * sp.factorial(n+l)\n",
    "    rden = (sp.factorial(2*l+1))**2 * 2*n * sp.factorial(n-l-1)\n",
    "    rnorm = sp.sqrt(rnum/rden)\n",
    "    rfunc = (rho)**l * sp.exp(-rho/2) * sp.hyper((-n+l+1,),(2*l+2,),(rho))\n",
    "    R = rnorm * rfunc\n",
    "    return R\n"
   ]
  },
  {
   "cell_type": "code",
   "execution_count": 11,
   "metadata": {
    "collapsed": true
   },
   "outputs": [],
   "source": [
    "# Definición de los vectores para plotear\n",
    "\n",
    "nsize=500\n",
    "xmax=10.0\n",
    "xmin=0.\n",
    "x = np.linspace(xmin,xmax,nsize)\n",
    "psi = np.zeros(nsize)\n",
    "psi2 = np.zeros(nsize)"
   ]
  },
  {
   "cell_type": "code",
   "execution_count": 15,
   "metadata": {},
   "outputs": [],
   "source": [
    "# Copiamos el array simbólico a numérico\n",
    "\n",
    "for i in range(nsize):\n",
    "    psi[i] = R_hyp(1,0,1,x[i])\n",
    "    psi2[i] = R_hyp(2,0,1,x[i])"
   ]
  },
  {
   "cell_type": "code",
   "execution_count": 13,
   "metadata": {},
   "outputs": [
    {
     "data": {
      "image/png": "[encoded data removed]",
      "text/plain": [
       "<matplotlib.figure.Figure at 0x7f75b7d4b710>"
      ]
     },
     "metadata": {},
     "output_type": "display_data"
    }
   ],
   "source": [
    "# Ploteo\n",
    "\n",
    "plt.plot(x,x*psi);\n",
    "plt.title(\"Radial Wavefunction $\\Psi_{1s}$ of Hydrogen\");\n",
    "plt.xlabel(\"r (a.u.)\");\n",
    "plt.ylabel(\"$\\psi_{1s}(r)$\");\n"
   ]
  },
  {
   "cell_type": "code",
   "execution_count": 6,
   "metadata": {},
   "outputs": [
    {
     "data": {
      "image/png": "[encoded data removed]",
      "text/latex": [
       "$$1.0 {{{}_{1}F_{1}\\left(\\begin{matrix} 0 \\\\ 2 \\end{matrix}\\middle| {0} \\right)}}^{2}$$"
      ],
      "text/plain": [
       "                2\n",
       "     ┌─  ⎛0 │  ⎞ \n",
       "1.0⋅ ├─  ⎜  │ 0⎟ \n",
       "    1╵ 1 ⎝2 │  ⎠ "
      ]
     },
     "execution_count": 6,
     "metadata": {},
     "output_type": "execute_result"
    }
   ],
   "source": [
    "# Integral simbólica\n",
    "\n",
    "sp.integrate( (r * R_hyp(1,0,1,r))**2, (r,0,oo))"
   ]
  },
  {
   "cell_type": "code",
   "execution_count": 7,
   "metadata": {},
   "outputs": [
    {
     "data": {
      "image/png": "[encoded data removed]",
      "text/latex": [
       "$$1.0$$"
      ],
      "text/plain": [
       "1.00000000000000"
      ]
     },
     "execution_count": 7,
     "metadata": {},
     "output_type": "execute_result"
    }
   ],
   "source": [
    "# Chequear que esta normalizada\n",
    "sp.integrate((r * R_hyp(1,0,1,r))**2, (r,0,oo)).evalf()"
   ]
  },
  {
   "cell_type": "code",
   "execution_count": 23,
   "metadata": {},
   "outputs": [
    {
     "data": {
      "image/png": "[encoded data removed]",
      "text/latex": [
       "$$1.5 {{{}_{1}F_{1}\\left(\\begin{matrix} 0 \\\\ 2 \\end{matrix}\\middle| {0} \\right)}}^{2}$$"
      ],
      "text/plain": [
       "                2\n",
       "     ┌─  ⎛0 │  ⎞ \n",
       "1.5⋅ ├─  ⎜  │ 0⎟ \n",
       "    1╵ 1 ⎝2 │  ⎠ "
      ]
     },
     "execution_count": 23,
     "metadata": {},
     "output_type": "execute_result"
    }
   ],
   "source": [
    "#Valor medio del fundamental\n",
    "# <r>\n",
    "\n",
    "sp.integrate(r * (r * R_hyp(1,0,1,r))**2, (r,0,oo))"
   ]
  },
  {
   "cell_type": "code",
   "execution_count": 24,
   "metadata": {},
   "outputs": [
    {
     "data": {
      "image/png": "[encoded data removed]",
      "text/latex": [
       "$$1.5$$"
      ],
      "text/plain": [
       "1.50000000000000"
      ]
     },
     "execution_count": 24,
     "metadata": {},
     "output_type": "execute_result"
    }
   ],
   "source": [
    "sp.integrate(r * (r * R_hyp(1,0,1,r))**2, (r,0,oo)).evalf()"
   ]
  },
  {
   "cell_type": "code",
   "execution_count": 27,
   "metadata": {},
   "outputs": [
    {
     "data": {
      "image/png": "[encoded data removed]",
      "text/latex": [
       "$$0$$"
      ],
      "text/plain": [
       "0"
      ]
     },
     "execution_count": 27,
     "metadata": {},
     "output_type": "execute_result"
    }
   ],
   "source": [
    "#Valor medio del fundamental\n",
    "# <r**(-1)>\n",
    "\n",
    "sp.integrate(r**(-1.) * (r * R_hyp(1,0,1,r))**2, (r,0,oo))"
   ]
  },
  {
   "cell_type": "code",
   "execution_count": 29,
   "metadata": {},
   "outputs": [
    {
     "name": "stdout",
     "output_type": "stream",
     "text": [
      "3.0*hyper((0,), (2,), 0)**2\n",
      "3.00000000000000\n"
     ]
    }
   ],
   "source": [
    "#Valor medio del fundamental\n",
    "# <r**2>\n",
    "\n",
    "print(sp.integrate(r**2 * (r * R_hyp(1,0,1,r))**2, (r,0,oo)))\n",
    "print(sp.integrate(r**2 * (r * R_hyp(1,0,1,r))**2, (r,0,oo)).evalf())"
   ]
  },
  {
   "cell_type": "markdown",
   "metadata": {},
   "source": [
    "# Ejercicios:\n",
    "\n",
    "* Generar otras funciones de onda\n",
    "* Chequear ortonormalidad\n",
    "* Calcular los valores medio $\\langle r \\rangle$, $\\langle r^2 \\rangle$, \n",
    "  $\\langle \\frac{1}{r} \\rangle$ \n"
   ]
  },
  {
   "cell_type": "code",
   "execution_count": 16,
   "metadata": {},
   "outputs": [
    {
     "data": {
      "image/png": "[encoded data removed]",
      "text/plain": [
       "<matplotlib.figure.Figure at 0x7f75b5ac98d0>"
      ]
     },
     "metadata": {},
     "output_type": "display_data"
    }
   ],
   "source": [
    "# Plot de psi2 n=2;l=0\n",
    "\n",
    "plt.plot(x,x*psi2);\n",
    "plt.title(\"Radial Wavefunction $\\Psi_{1s}$ of Hydrogen\");\n",
    "plt.xlabel(\"r (a.u.)\");\n",
    "plt.ylabel(\"$\\psi_{1s}(r)$\");"
   ]
  },
  {
   "cell_type": "code",
   "execution_count": 17,
   "metadata": {},
   "outputs": [
    {
     "data": {
      "image/png": "[encoded data removed]",
      "text/latex": [
       "$$1.0 {{{}_{1}F_{1}\\left(\\begin{matrix} -1 \\\\ 2 \\end{matrix}\\middle| {0} \\right)}}^{2} - 3.0 {{}_{1}F_{1}\\left(\\begin{matrix} -1 \\\\ 2 \\end{matrix}\\middle| {0} \\right)} {{}_{1}F_{1}\\left(\\begin{matrix} 0 \\\\ 3 \\end{matrix}\\middle| {0} \\right)} + 3.0 {{{}_{1}F_{1}\\left(\\begin{matrix} 0 \\\\ 3 \\end{matrix}\\middle| {0} \\right)}}^{2}$$"
      ],
      "text/plain": [
       "                 2                                                          2\n",
       "     ┌─  ⎛-1 │  ⎞               ┌─  ⎛-1 │  ⎞  ┌─  ⎛0 │  ⎞        ┌─  ⎛0 │  ⎞ \n",
       "1.0⋅ ├─  ⎜   │ 0⎟  - -3.0⋅(-1)⋅ ├─  ⎜   │ 0⎟⋅ ├─  ⎜  │ 0⎟ + 3.0⋅ ├─  ⎜  │ 0⎟ \n",
       "    1╵ 1 ⎝2  │  ⎠              1╵ 1 ⎝2  │  ⎠ 1╵ 1 ⎝3 │  ⎠       1╵ 1 ⎝3 │  ⎠ "
      ]
     },
     "execution_count": 17,
     "metadata": {},
     "output_type": "execute_result"
    }
   ],
   "source": [
    "# Integral simbólica\n",
    "\n",
    "sp.integrate( (r * R_hyp(2,0,1,r))**2, (r,0,oo))"
   ]
  },
  {
   "cell_type": "code",
   "execution_count": 18,
   "metadata": {},
   "outputs": [
    {
     "data": {
      "image/png": "[encoded data removed]",
      "text/latex": [
       "$$1.0$$"
      ],
      "text/plain": [
       "1.00000000000000"
      ]
     },
     "execution_count": 18,
     "metadata": {},
     "output_type": "execute_result"
    }
   ],
   "source": [
    "# Chequear que esta normalizada\n",
    "sp.integrate( (r * R_hyp(2,0,1,r))**2, (r,0,oo)).evalf()"
   ]
  },
  {
   "cell_type": "code",
   "execution_count": 21,
   "metadata": {},
   "outputs": [
    {
     "name": "stdout",
     "output_type": "stream",
     "text": [
      "3.0*hyper((-1,), (2,), 0)**2 - 12.0*hyper((-1,), (2,), 0)*hyper((0,), (3,), 0) + 15.0*hyper((0,), (3,), 0)**2\n",
      "6.00000000000000\n"
     ]
    }
   ],
   "source": [
    "# Valores medios\n",
    "# <r>\n",
    "\n",
    "print(sp.integrate(r * (r * R_hyp(2,0,1,r))**2, (r,0,oo))) \n",
    "print(sp.integrate(r * (r * R_hyp(2,0,1,r))**2, (r,0,oo)).evalf())"
   ]
  },
  {
   "cell_type": "code",
   "execution_count": 22,
   "metadata": {},
   "outputs": [
    {
     "name": "stdout",
     "output_type": "stream",
     "text": [
      "12.0*hyper((-1,), (2,), 0)**2 - 60.0*hyper((-1,), (2,), 0)*hyper((0,), (3,), 0) + 90.0*hyper((0,), (3,), 0)**2\n",
      "42.0000000000000\n"
     ]
    }
   ],
   "source": [
    "# Valores medios\n",
    "# <r**2>\n",
    "\n",
    "print(sp.integrate(r**2 * (r * R_hyp(2,0,1,r))**2, (r,0,oo))) \n",
    "print(sp.integrate(r**2 * (r * R_hyp(2,0,1,r))**2, (r,0,oo)).evalf())"
   ]
  },
  {
   "cell_type": "code",
   "execution_count": 8,
   "metadata": {
    "collapsed": true
   },
   "outputs": [],
   "source": [
    "#\n",
    "\n",
    "# Otra forma de hacerlo (con numpy)"
   ]
  },
  {
   "cell_type": "code",
   "execution_count": 30,
   "metadata": {
    "collapsed": true
   },
   "outputs": [],
   "source": [
    "from scipy import integrate\n",
    "from scipy.special import hyp1f1\n",
    "from math import factorial\n"
   ]
  },
  {
   "cell_type": "code",
   "execution_count": 31,
   "metadata": {
    "collapsed": true
   },
   "outputs": [],
   "source": [
    "def R1F1(n,l,z,r):\n",
    "    rho=2*r*z/n \n",
    "    rnum = (2*z/n)**3 * factorial(n+l)\n",
    "    rden = (factorial(2*l+1))**2 * 2*n * factorial(n-l-1)\n",
    "    rnorm = np.sqrt(rnum/rden)\n",
    "    rfunc = (rho)**l * np.exp(-rho/2) * hyp1f1(-n+l+1,2*l+2,rho)\n",
    "    R = rnorm * rfunc\n",
    "    return R "
   ]
  },
  {
   "cell_type": "code",
   "execution_count": 32,
   "metadata": {},
   "outputs": [
    {
     "data": {
      "image/png": "[encoded data removed]",
      "text/plain": [
       "<matplotlib.figure.Figure at 0x7f2b7f8aab50>"
      ]
     },
     "metadata": {},
     "output_type": "display_data"
    }
   ],
   "source": [
    "r = np.linspace(0,10,200);\n",
    "plt.plot(r,r*R1F1(1,0,1,r),'-',label='R1F1',linewidth=2);\n",
    "plt.title(\"Radial Wavefunction $\\Psi_{1s}$ of Hydrogen (numpy)\");\n",
    "plt.xlabel(\"r (a.u.)\");\n",
    "plt.ylabel(\"$\\psi_{1s}(r)$\");\n"
   ]
  },
  {
   "cell_type": "code",
   "execution_count": 33,
   "metadata": {},
   "outputs": [
    {
     "name": "stdout",
     "output_type": "stream",
     "text": [
      "(1.0000000000000002, 1.3633023322217214e-10)\n"
     ]
    }
   ],
   "source": [
    "# Integral\n",
    "\n",
    "rR2=lambda r:(R1F1(1,0,1,r) * r)**2 \n",
    "Integral=integrate.quad(rR2,0,float('inf'))\n",
    "print(Integral)"
   ]
  },
  {
   "cell_type": "code",
   "execution_count": null,
   "metadata": {
    "collapsed": true
   },
   "outputs": [],
   "source": []
  }
 ],
 "metadata": {
  "kernelspec": {
   "display_name": "Python 2",
   "language": "python",
   "name": "python2"
  },
  "language_info": {
   "codemirror_mode": {
    "name": "ipython",
    "version": 3
   },
   "file_extension": ".py",
   "mimetype": "text/x-python",
   "name": "python",
   "nbconvert_exporter": "python",
   "pygments_lexer": "ipython3",
   "version": "3.5.2"
  }
 },
 "nbformat": 4,
 "nbformat_minor": 1
}
