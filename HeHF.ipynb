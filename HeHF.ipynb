{
 "cells": [
  {
   "cell_type": "markdown",
   "metadata": {},
   "source": [
    "# Hartree Fock \n",
    "\n",
    "# CÃ¡lculo autoconsistente Ground State Helio\n",
    "\n",
    "DarÃ­o Mitnik"
   ]
  },
  {
   "cell_type": "code",
   "execution_count": 1,
   "metadata": {
    "collapsed": false
   },
   "outputs": [],
   "source": [
    "from numpy import  linspace, zeros, array, pi, sqrt\n",
    "from scipy.linalg import  eigh , eigvalsh\n",
    "\n",
    "%matplotlib inline\n",
    "from matplotlib.pyplot import plot, title, legend, show, axhline, \\\n",
    "                              xlabel, ylabel, axis, figure\n",
    "    "
   ]
  },
  {
   "cell_type": "code",
   "execution_count": 2,
   "metadata": {
    "collapsed": false
   },
   "outputs": [],
   "source": [
    "nsize = 4\n",
    "S = zeros((nsize,nsize))  # Overlap\n",
    "H = zeros((nsize,nsize))  # One-electron Hamiltonian\n",
    "G = zeros((nsize,nsize))  # Two-electron Operator\n",
    "F = zeros((nsize,nsize))  # Fock Operator Hij + Gij\n",
    "\n",
    "# Gaussian Basis  Ci*exp(-Alpha*r^2)\n",
    "Alpha = zeros((nsize))    \n",
    "Ci = zeros((nsize))\n",
    "\n",
    "EnergyGS = []"
   ]
  },
  {
   "cell_type": "code",
   "execution_count": 3,
   "metadata": {
    "collapsed": false
   },
   "outputs": [],
   "source": [
    "# Datos Iniciales\n",
    "Alpha[0] = 0.298073\n",
    "Alpha[1] = 1.242567\n",
    "Alpha[2] = 5.782948\n",
    "Alpha[3] = 38.47497\n",
    "#Alpha[4] = 0.1\n",
    "#Alpha[5] = 5\n",
    "#Alpha[6] = 20.\n",
    "#Alpha[7] = 50.0"
   ]
  },
  {
   "cell_type": "code",
   "execution_count": 4,
   "metadata": {
    "collapsed": false
   },
   "outputs": [],
   "source": [
    "# CÃ¡lculo de Overlaps  Sij=<xi|xj>\n",
    "\n",
    "def overlap(Alpha,p,q):\n",
    "    spq = ( pi / (Alpha[p] + Alpha[q]) )**(3./2.)\n",
    "    \n",
    "    return spq\n",
    "\n",
    "for i in range(0,nsize):\n",
    "    for j in range(i,nsize):        \n",
    "        S[i,j]=overlap(Alpha,i,j)\n",
    "        S[j,i]=S[i,j]\n"
   ]
  },
  {
   "cell_type": "code",
   "execution_count": 5,
   "metadata": {
    "collapsed": false
   },
   "outputs": [],
   "source": [
    " # CÃ¡lculo de Hamiltoniano Hij=<xi| H |xj>\n",
    "\n",
    "\n",
    "# CÃ¡lculo de EnergÃ­a CinÃ©tica  Tij=<xi|-1/2 D^2 |xj>\n",
    "def Tkin(Alpha,p,q):\n",
    "    rnum = 3 * pi**(3./2.) * Alpha[p] * Alpha[q]\n",
    "    rden =  (Alpha[p] + Alpha[q] )**(5./2.)    \n",
    "    Tpq = rnum/rden    \n",
    "    return Tpq\n",
    "\n",
    "\n",
    "# CÃ¡lculo de EnergÃ­a Potencial  Vij=<xi|-Z/r |xj>\n",
    "def Vpot(Alpha,p,q):\n",
    "    Vpq = 2 * ( -2*pi )  /  (Alpha[p] + Alpha[q])    \n",
    "    return Vpq\n",
    "\n",
    "for i in range(0,nsize):\n",
    "    for j in range(i,nsize): \n",
    "        H[i,j]=Tkin(Alpha,i,j) + Vpot(Alpha,i,j)\n",
    "        H[j,i]=H[i,j]\n",
    "   "
   ]
  },
  {
   "cell_type": "code",
   "execution_count": 6,
   "metadata": {
    "collapsed": false
   },
   "outputs": [],
   "source": [
    " # CÃ¡lculo de RepulsiÃ³n InterelectrÃ³nica \n",
    " #   Qirjs=<xi(r1)xr(r2)| 1/|r1-r2| |xj(r1)xs(r2)>\n",
    "\n",
    "\n",
    "# CÃ¡lculo de Integral de RepulsiÃ³n\n",
    " #   Qirjs=<xi(r1)xr(r2)| 1/|r1-r2| |xj(r1)xs(r2)>\n",
    "def Qirjs(Alpha,i,r,j,s):\n",
    "    rnum = 2 * pi**(5./2.) \n",
    "    sqrsum = sqrt(Alpha[i]+Alpha[j]+Alpha[r]+Alpha[s])\n",
    "    rden =  (Alpha[i]+Alpha[j])*(Alpha[r]+Alpha[s])*sqrsum    \n",
    "    Qirjs = rnum/rden    \n",
    "    return Qirjs\n",
    "\n"
   ]
  },
  {
   "cell_type": "markdown",
   "metadata": {},
   "source": [
    "## IteraciÃ³n Hartree"
   ]
  },
  {
   "cell_type": "code",
   "execution_count": 99,
   "metadata": {
    "collapsed": false
   },
   "outputs": [],
   "source": [
    "# AcÃ¡ Itera Hartree\n",
    "\n",
    "\n",
    " # Esto lleva al elemento de matriz\n",
    " # Gij= Sum_rs Qirjs Cr Cs\n",
    "\n",
    "# CÃ¡lculo de Elemento de Matriz  Vij=<xi|-Z/r |xj>\n",
    " # Gij= Sum_rs Qirjs Cr Cs\n",
    "\n",
    "for i in range(0,nsize):\n",
    "    for j in range(i,nsize):\n",
    "        sum = 0.0\n",
    "        for r in range(0,nsize):\n",
    "            for s in range(0,nsize):\n",
    "                sum = sum + Qirjs(Alpha,i,r,j,s)*Ci[r]*Ci[s]\n",
    "        G[i,j]=sum\n",
    "        G[j,i]=sum\n",
    "   "
   ]
  },
  {
   "cell_type": "code",
   "execution_count": 100,
   "metadata": {
    "collapsed": true
   },
   "outputs": [],
   "source": [
    "# ConstrucciÃ³n de Operador Fock\n",
    "\n",
    "for i in range(0,nsize):\n",
    "    for j in range(i,nsize): \n",
    "        F[i,j]=H[i,j] + G[i,j]\n",
    "        F[j,i]=F[i,j]\n",
    "   "
   ]
  },
  {
   "cell_type": "code",
   "execution_count": 101,
   "metadata": {
    "collapsed": false
   },
   "outputs": [
    {
     "data": {
      "text/plain": [
       "array([ -0.91412327,   0.5815142 ,   7.55426187,  61.02857702])"
      ]
     },
     "execution_count": 101,
     "metadata": {},
     "output_type": "execute_result"
    }
   ],
   "source": [
    "# SoluciÃ³n generalized eigenvalues (H-ES)(C)=0\n",
    "# SÃ³lo Autovalores !\n",
    "\n",
    "Ener = eigvalsh(F,S,type=1)\n",
    "Ener"
   ]
  },
  {
   "cell_type": "code",
   "execution_count": 102,
   "metadata": {
    "collapsed": false
   },
   "outputs": [],
   "source": [
    "# SoluciÃ³n generalized eigenvalues (H-ES)(C)=0\n",
    "\n",
    "Ener,coef = eigh(F,S,type=1)\n",
    "Ci = coef[:,0]"
   ]
  },
  {
   "cell_type": "code",
   "execution_count": 103,
   "metadata": {
    "collapsed": false
   },
   "outputs": [],
   "source": [
    "# NormalizaciÃ³n de los coeficientes\n",
    "\n",
    "sum = 0.0\n",
    "for i in range(0,nsize):\n",
    "    for j in range(0,nsize):\n",
    "        sum = sum + Ci[i]*S[i,j]*Ci[j]\n",
    "for i in range(0,nsize):\n",
    "    Ci[i] = Ci[i]/sqrt(sum)"
   ]
  },
  {
   "cell_type": "code",
   "execution_count": 104,
   "metadata": {
    "collapsed": false
   },
   "outputs": [
    {
     "data": {
      "text/plain": [
       "-2.8551600839385025"
      ]
     },
     "execution_count": 104,
     "metadata": {},
     "output_type": "execute_result"
    }
   ],
   "source": [
    "# EnergÃ­a Total\n",
    "\n",
    "\n",
    "sum = 0.0\n",
    "for i in range(0,nsize):\n",
    "    for j in range(0,nsize):\n",
    "        sum = sum + Ci[i]*Ci[j]*(2.0*H[i,j]+G[i,j])\n",
    "\n",
    "EnergyGSnew = sum\n",
    "EnergyGSnew"
   ]
  },
  {
   "cell_type": "code",
   "execution_count": 105,
   "metadata": {
    "collapsed": false
   },
   "outputs": [],
   "source": [
    "EnergyGS.append(EnergyGSnew)"
   ]
  },
  {
   "cell_type": "code",
   "execution_count": 106,
   "metadata": {
    "collapsed": false
   },
   "outputs": [
    {
     "data": {
      "text/plain": [
       "[-3.9885323142089351,\n",
       " -2.7290659114788491,\n",
       " -2.8907233747431555,\n",
       " -2.845554605983029,\n",
       " -2.8577918441290739,\n",
       " -2.8544421454201436,\n",
       " -2.855356618614842,\n",
       " -2.8551067816451137,\n",
       " -2.8551750241854199,\n",
       " -2.8551563828287003,\n",
       " -2.8551614748866272,\n",
       " -2.8551600839385025]"
      ]
     },
     "execution_count": 106,
     "metadata": {},
     "output_type": "execute_result"
    }
   ],
   "source": [
    "EnergyGS"
   ]
  },
  {
   "cell_type": "markdown",
   "metadata": {
    "collapsed": true
   },
   "source": [
    "## Fin IteraciÃ³n"
   ]
  },
  {
   "cell_type": "code",
   "execution_count": null,
   "metadata": {
    "collapsed": true
   },
   "outputs": [],
   "source": []
  },
  {
   "cell_type": "code",
   "execution_count": 146,
   "metadata": {
    "collapsed": false
   },
   "outputs": [],
   "source": [
    "# CÃ¡lculo de la funciÃ³n de onda\n",
    "    \n",
    "def psi(Ci,Alpha,x):\n",
    "\n",
    "    from math import  exp\n",
    "\n",
    "    nsize = len(Ci) \n",
    "    sum = 0.0\n",
    "    for i in range(0,nsize):\n",
    "        sum = sum + Ci[i]*exp(-Alpha[i]*x**2)\n",
    "    return sum"
   ]
  },
  {
   "cell_type": "code",
   "execution_count": 171,
   "metadata": {
    "collapsed": true
   },
   "outputs": [],
   "source": [
    "# GeneraciÃ³n de la SoluciÃ³n\n",
    "\n",
    "# array definitions\n",
    "npts = 100\n",
    "xmin=0.0\n",
    "xmax=12.0\n",
    "dx =  (xmax-xmin)/(npts-1)\n",
    "\n",
    "x = linspace(xmin,xmax,npts)\n",
    "wave1s = zeros(npts)\n",
    "\n",
    "for i in range(0,npts):\n",
    "        wave1s[i] = psi(-Ci,Alpha,x[i])"
   ]
  },
  {
   "cell_type": "code",
   "execution_count": 175,
   "metadata": {
    "collapsed": false
   },
   "outputs": [],
   "source": [
    "# Normalization\n",
    "\n",
    "rsum = 0.0\n",
    "for i in range(0,npts):\n",
    "        P1s = x[i]*wave1s[i]\n",
    "        rsum = rsum +  P1s**2\n",
    "rsum = rsum * dx\n",
    "rnorm = 1.0/sqrt(rsum)\n",
    "\n",
    "isign = 1\n",
    "if wave1s[2]<0:\n",
    "    isign = -1\n",
    "\n",
    "wave1s = wave1s*rnorm*isign \n"
   ]
  },
  {
   "cell_type": "code",
   "execution_count": 176,
   "metadata": {
    "collapsed": false
   },
   "outputs": [
    {
     "data": {
      "image/png": "[encoded data removed]",
      "text/plain": [
       "<matplotlib.figure.Figure at 0x7fa0be58d7d0>"
      ]
     },
     "metadata": {},
     "output_type": "display_data"
    }
   ],
   "source": [
    "# Ploteo de SoluciÃ³n\n",
    "\n",
    "\n",
    "plot(x,x*wave1s);\n",
    "#axis([xmin,xmax,-0.6,0.25]);\n",
    "title(\"Ground State Wavefunction of Helium Atom (HF)\");\n",
    "xlabel(\"r (a.u.)\");\n",
    "ylabel(\"$\\psi_{1s}$\");"
   ]
  },
  {
   "cell_type": "code",
   "execution_count": null,
   "metadata": {
    "collapsed": true
   },
   "outputs": [],
   "source": []
  }
 ],
 "metadata": {
  "kernelspec": {
   "display_name": "Python 2",
   "language": "python",
   "name": "python2"
  },
  "language_info": {
   "codemirror_mode": {
    "name": "ipython",
    "version": 2
   },
   "file_extension": ".py",
   "mimetype": "text/x-python",
   "name": "python",
   "nbconvert_exporter": "python",
   "pygments_lexer": "ipython2",
   "version": "2.7.6"
  }
 },
 "nbformat": 4,
 "nbformat_minor": 0
}
