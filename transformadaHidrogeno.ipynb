{
 "cells": [
  {
   "cell_type": "markdown",
   "metadata": {},
   "source": [
    "# Transformada de Fourier de Funciones HidrogÃ©nicas\n",
    "\n",
    "DarÃ­o Mitnik\n"
   ]
  },
  {
   "cell_type": "code",
   "execution_count": 1,
   "metadata": {},
   "outputs": [],
   "source": [
    "import time\n",
    "from sympy import *\n",
    "init_printing()\n",
    "\n",
    "#Definimos todos los parametros que vamos a usar, darle informacion extra \n",
    "#como que es real, o positivo, ayuda a la hora de integral\n",
    "r=Symbol('r',positive=True)\n",
    "z=Symbol('z',integrer=True,positive=True)\n",
    "t=Symbol('t',positive=True)\n",
    "k=Symbol('k',positive=True)\n"
   ]
  },
  {
   "cell_type": "code",
   "execution_count": 2,
   "metadata": {},
   "outputs": [],
   "source": [
    "# DefiniciÃ³n de las funciones de onda HidrogÃ©nicas\n",
    "R1s=2*z**(3./2)*exp(-z*r)\n",
    "R2s=z**(3./2)*exp(-z*r/2)/sqrt(8)*(2-z*r)\n",
    "R2p=2*z**(5./2)*exp(-z*r/2)/sqrt(24)*r\n",
    "V=-z/r"
   ]
  },
  {
   "cell_type": "markdown",
   "metadata": {},
   "source": [
    "La integral que queremos resolver es\n",
    "\n",
    "\\begin{equation}  \n",
    "\\tilde{\\phi}_{n_i,l_i,m_i}(\\vec{k})=\\int Y_{l_i}^{m_i}(\\hat{r}) \\, R_{n_il_i}(r) \n",
    "\\, e^{-i\\vec{r}\\vec{k}} d\\vec{r} \\, \n",
    "\\end{equation}\n",
    "\n",
    "En la exponencial aparece el Ã¡ngulo entre  $\\vec{k}$  y $\\vec{r}$  (no es el mismo que el Ã¡ngulo entre $\\vec{z}$  y $\\vec{r}$)\n"
   ]
  },
  {
   "cell_type": "code",
   "execution_count": 3,
   "metadata": {},
   "outputs": [
    {
     "ename": "NameError",
     "evalue": "name 'theta' is not defined",
     "output_type": "error",
     "traceback": [
      "\u001b[0;31m---------------------------------------------------------------------------\u001b[0m",
      "\u001b[0;31mNameError\u001b[0m                                 Traceback (most recent call last)",
      "\u001b[0;32m<ipython-input-3-5bc6b9bac03a>\u001b[0m in \u001b[0;36m<module>\u001b[0;34m()\u001b[0m\n\u001b[1;32m      2\u001b[0m \u001b[0;34m\u001b[0m\u001b[0m\n\u001b[1;32m      3\u001b[0m \u001b[0mtic\u001b[0m\u001b[0;34m=\u001b[0m\u001b[0mtime\u001b[0m\u001b[0;34m.\u001b[0m\u001b[0mclock\u001b[0m\u001b[0;34m(\u001b[0m\u001b[0;34m)\u001b[0m\u001b[0;34m\u001b[0m\u001b[0m\n\u001b[0;32m----> 4\u001b[0;31m T_1s_mal=integrate(2*pi/sqrt(4*pi)*R1s*r**2*sin(theta)*exp(-I*k*r*cos(theta)),\n\u001b[0m\u001b[1;32m      5\u001b[0m                    (theta,0,pi),(r,0,oo))\n\u001b[1;32m      6\u001b[0m \u001b[0;34m\u001b[0m\u001b[0m\n",
      "\u001b[0;31mNameError\u001b[0m: name 'theta' is not defined"
     ]
    }
   ],
   "source": [
    "# Ejemplo:  Transformada de R_1s (No es la mejor forma!)\n",
    "\n",
    "tic=time.clock()\n",
    "T_1s_mal=integrate(2*pi/sqrt(4*pi)*R1s*r**2*sin(theta)*exp(-I*k*r*cos(theta)),\n",
    "                   (theta,0,pi),(r,0,oo))\n",
    "\n",
    "time.clock()-tic,factor(simplify(T_1s_mal))\n"
   ]
  },
  {
   "cell_type": "markdown",
   "metadata": {
    "collapsed": true
   },
   "source": [
    "\\begin{equation}\n",
    "\\frac{8 \\sqrt(\\pi) z^{2.5}}{(k^2 + z^2)^2}\n",
    "\\end{equation}"
   ]
  },
  {
   "cell_type": "code",
   "execution_count": 5,
   "metadata": {
    "collapsed": true
   },
   "outputs": [],
   "source": [
    "# Forma correcta: \n",
    "# Expandiendo la onda plana en ArmÃ³nicos EsfÃ©ricos"
   ]
  },
  {
   "cell_type": "markdown",
   "metadata": {
    "collapsed": true
   },
   "source": [
    "\n",
    "Usamos la expansiÃ³n de la onda plana:\n",
    "\n",
    "\\begin{equation}\n",
    "e^{i\\vec{k}\\vec{r}} = \\sum_l (2l+1) \\, i^l \\, j_l(kr) \\, P_l(\\hat{k}\\cdot\\hat{r})  \\, , \n",
    "\\end{equation} \n",
    " \n",
    "en donde $j_{l}(rk)$ son las funciones esfÃ©ricas de Bessel. \n",
    "Usamos el teorema de adiciÃ³n de los armÃ³nicos esfÃ©ricos: \n",
    "    \n",
    "\\begin{equation}\n",
    "P_l(\\hat{k}\\cdot\\hat{r})= \n",
    "\\frac{4\\pi}{2l+1} \\sum_m {Y_l^m}^*(\\hat{r}) Y_l^m(\\hat{k}) \\, .\n",
    "\\end{equation}\n",
    "\n",
    "La transformada de Fourier resulta\n",
    "\n",
    "\n",
    "\\begin{equation}\n",
    "\\tilde{\\phi}(\\vec{k}) = 4\\pi i^{l} \\sum_l  \\sum_m \n",
    "Y_l^m(\\hat{k}) \\int_{\\Omega} {Y_l^m}^*(\\hat{r}) Y_{l_i}^{m_i}(\\hat{r}) \\, d\\Omega \n",
    "\\int_{\\infty} R_{n_il_i}(r) \\, j_l(kr) \\, r^2 \\, dr \n",
    "\\end{equation}\n",
    "\n",
    "La integral angular es  $\\delta_{l_i,l}\\,\\delta_{m_i,m}$  que usamos para eliminar las sumatorias. \n",
    "\n",
    "Finalmente:\n",
    "\n",
    "\\begin{equation} \n",
    "\\tilde{\\phi}(\\vec{k}) = 4\\pi i^{l_1} Y_{l_i}^{m_i}(\\hat{k}) \n",
    "\\int_{\\infty} R_{n_il_i}(r) \\, j_{l_1}(kr) \\, r^{2} \\, dr  \n",
    "\\end{equation}\n",
    "\n",
    "Todo esto resulta operacionalmente ventajoso por dos motivos: \n",
    "* Es una unica integral en una sola variable. \n",
    "* Nos podemos despreocupar de la parte angular.\n",
    "    \n",
    "\n",
    "Notar que la transformada de Fourier tiene la **misma simetrÃ­a** que la \n",
    "funciÃ³n original.\n",
    "\n",
    "    "
   ]
  },
  {
   "cell_type": "code",
   "execution_count": 6,
   "metadata": {
    "collapsed": true
   },
   "outputs": [],
   "source": [
    "#Vamos a definir las j que usamos\n",
    "j0=sin(k*r)/(k*r)\n",
    "j1=sin(k*r)/(k*r)**2-cos(k*r)/(k*r)"
   ]
  },
  {
   "cell_type": "code",
   "execution_count": 7,
   "metadata": {},
   "outputs": [
    {
     "data": {
      "text/plain": [
       "(0.23345199999999977, 8*sqrt(pi)*z**2.5/(k**2 + z**2)**2)"
      ]
     },
     "execution_count": 7,
     "metadata": {},
     "output_type": "execute_result"
    }
   ],
   "source": [
    "tic=time.clock()\n",
    "T_1s_bien=integrate(R1s*r**2*j0,(r,0,oo))\n",
    "toc=time.clock()\n",
    "toc-tic,simplify(4*pi/sqrt(4*pi)*T_1s_bien)"
   ]
  },
  {
   "cell_type": "markdown",
   "metadata": {},
   "source": [
    "\\begin{equation}\n",
    "\\frac{8 \\sqrt(\\pi) z^{2.5}}{(k^2 + z^2)^2}\n",
    "\\end{equation}"
   ]
  },
  {
   "cell_type": "code",
   "execution_count": 8,
   "metadata": {},
   "outputs": [
    {
     "data": {
      "text/plain": [
       "32*sqrt(2)*sqrt(pi)*z**2.5*(4*k**2 - z**2)/(4*k**2 + z**2)**3"
      ]
     },
     "execution_count": 8,
     "metadata": {},
     "output_type": "execute_result"
    }
   ],
   "source": [
    "# Transformada de la funciÃ³n 2s\n",
    "\n",
    "T_2s=integrate(R2s*r**2*j0,(r,0,oo))\n",
    "simplify(4*pi/sqrt(4*pi)*T_2s)"
   ]
  },
  {
   "cell_type": "markdown",
   "metadata": {},
   "source": [
    "\\begin{equation}\n",
    "\\frac{32 \\sqrt{2  \\pi z^5}    \\, (4 k^2 - z^2)}{(4 k^2 + z^2)^3}\n",
    "\\end{equation}"
   ]
  },
  {
   "cell_type": "markdown",
   "metadata": {
    "collapsed": true
   },
   "source": [
    "## Ejercicios:\n",
    "\n",
    "* Comprobar que la Transformada de la funciÃ³n 2s es correcta\n",
    "* Repetir el ejercicio para la funciÃ³n 2p"
   ]
  },
  {
   "cell_type": "markdown",
   "metadata": {},
   "source": [
    "## La EcuaciÃ³n de Schrodinger en el Espacio de los Momentos:\n",
    "\n",
    "Transformando Fourier ambos lados de la ecuaciÃ³n de SchrÃ¶dinger se obtiene:\n",
    "    \n",
    "\\begin{equation} \n",
    "\\left( E_n-\\frac{k^2}{2} \\right)\\tilde{\\phi}_{n,l}(\\vec{k})= \n",
    "\\frac{1}{(2\\pi)^{3/2}} \\int V(\\vec{r}) \\, \\phi_{n,l}(\\vec{r}) \n",
    "\\, e^{-i\\vec{k}\\cdot\\vec{r}} d\\vec{r} \n",
    "\\end{equation}\n",
    "\n",
    "Vamos a comprobar que las funciones halladas previamente son efectivamente soluciones \n",
    "de esta nueva ecuaciÃ³n."
   ]
  },
  {
   "cell_type": "code",
   "execution_count": 66,
   "metadata": {},
   "outputs": [
    {
     "data": {
      "text/plain": [
       "2*sqrt(2)*z**2.5/(pi*(k**2 + z**2)**2)"
      ]
     },
     "execution_count": 66,
     "metadata": {},
     "output_type": "execute_result"
    }
   ],
   "source": [
    "# Volvemos (por las dudas) a calcular la transformada de Fourier de 1s\n",
    "\n",
    "rint=integrate(  R1s * j0 * r**2 ,(r,0,oo))\n",
    "T1s = 1/(sqrt(2*pi))**3  * (4 * pi)/ sqrt(4*pi) * rint\n",
    "simplify(T1s)"
   ]
  },
  {
   "cell_type": "markdown",
   "metadata": {},
   "source": [
    "\\begin{equation}\n",
    "\\frac{2 \\sqrt{2 z^5}}{ \\pi (k^2 + z^2)^2}\n",
    "\\end{equation}"
   ]
  },
  {
   "cell_type": "code",
   "execution_count": 67,
   "metadata": {},
   "outputs": [
    {
     "data": {
      "text/plain": [
       "-sqrt(2)*z**2.5/(pi*(k**2 + z**2))"
      ]
     },
     "execution_count": 67,
     "metadata": {},
     "output_type": "execute_result"
    }
   ],
   "source": [
    "# Integramos el lado derecho \n",
    "\n",
    "rint=integrate(V *  R1s * j0 * r**2 ,(r,0,oo))\n",
    "rhs = 1/(sqrt(2*pi))**3  * (4 * pi)/ sqrt(4*pi) * rint\n",
    "simplify(rhs)"
   ]
  },
  {
   "cell_type": "markdown",
   "metadata": {},
   "source": [
    "\\begin{equation}\n",
    "-\\frac{\\sqrt{2 z^5} }{ \\pi (k^2 + z^2)}\n",
    "\\end{equation}"
   ]
  },
  {
   "cell_type": "code",
   "execution_count": 70,
   "metadata": {},
   "outputs": [
    {
     "data": {
      "text/plain": [
       "2*sqrt(2)*z**(-1.5)*(-k**2/2 - z**2/2)/(pi*(k**2/z**2 + 1)**2) + sqrt(2)*z**2.5/(pi*k**2*(1 + z**2/k**2))"
      ]
     },
     "execution_count": 70,
     "metadata": {},
     "output_type": "execute_result"
    }
   ],
   "source": [
    "T1s*(-z*z/2 -k*k/2) - rhs"
   ]
  },
  {
   "cell_type": "markdown",
   "metadata": {},
   "source": [
    "\\begin{equation}\n",
    "2 \\sqrt{\\frac{2}{z^3}} \\frac{ (-\\frac{k^2}{2} - \\frac{z^2}{2}) }{\\pi (\\frac{k^2}{z^2} + 1)^2} + \n",
    "\\frac{ \\sqrt{2 z^5} }{\\pi k^2 (1 + \\frac{z^2}{k^2})}\n",
    "\\end{equation}"
   ]
  },
  {
   "cell_type": "code",
   "execution_count": 71,
   "metadata": {},
   "outputs": [
    {
     "data": {
      "text/plain": [
       "0"
      ]
     },
     "execution_count": 71,
     "metadata": {},
     "output_type": "execute_result"
    }
   ],
   "source": [
    "simplify (T1s*(-z*z/2 -k*k/2) - rhs)"
   ]
  },
  {
   "cell_type": "markdown",
   "metadata": {},
   "source": [
    "## Ejercicios:\n",
    "\n",
    "* Comprobar que la Transformada de la funciÃ³n 2s es soluciÃ³n de la ecuaciÃ³n correspondiente\n",
    "* Repetir el ejercicio para la funciÃ³n 2p"
   ]
  }
 ],
 "metadata": {
  "kernelspec": {
   "display_name": "Python 2",
   "language": "python",
   "name": "python2"
  },
  "language_info": {
   "codemirror_mode": {
    "name": "ipython",
    "version": 2
   },
   "file_extension": ".py",
   "mimetype": "text/x-python",
   "name": "python",
   "nbconvert_exporter": "python",
   "pygments_lexer": "ipython2",
   "version": "2.7.14"
  }
 },
 "nbformat": 4,
 "nbformat_minor": 1
}
