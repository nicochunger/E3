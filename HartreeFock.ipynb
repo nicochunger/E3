{
 "cells": [
  {
   "cell_type": "markdown",
   "metadata": {},
   "source": [
    "# Calculo de estados del Helio mediante el metodo de Hartree Fock\n",
    "\n",
    "Nicolas Unger"
   ]
  },
  {
   "cell_type": "code",
   "execution_count": 1,
   "metadata": {
    "collapsed": true
   },
   "outputs": [],
   "source": [
    "import numpy as np\n",
    "import sympy as sp\n",
    "from scipy.linalg import eigh\n",
    "import matplotlib.pyplot as plt\n",
    "\n",
    "# Estética\n",
    "#sp.init_printing()\n",
    "#%matplotlib inline"
   ]
  },
  {
   "cell_type": "code",
   "execution_count": 9,
   "metadata": {
    "collapsed": true
   },
   "outputs": [],
   "source": [
    "nsize = 4\n",
    "\n",
    "alpha = np.zeros((nsize)) # Alphas de la base gaussiana\n",
    "Ci = np.zeros((nsize)) # Coeficientes para cada elemento de la base\n",
    "Efund = []\n",
    "\n",
    "Spq = np.zeros((nsize,nsize)) # Overlap\n",
    "Hpq = np.zeros((nsize,nsize)) # Hamiltoniano\n",
    "Fpq = np.zeros((nsize,nsize)) # Operador de Fock\n",
    "F2 = np.zeros((nsize,nsize))"
   ]
  },
  {
   "cell_type": "code",
   "execution_count": 10,
   "metadata": {
    "collapsed": true
   },
   "outputs": [],
   "source": [
    "# Parametros alpha para construir la funcion de onda\n",
    "\n",
    "# Los del Thijssen\n",
    "alpha[0] = 0.297104\n",
    "alpha[1] = 1.236745\n",
    "alpha[2] = 5.749982\n",
    "alpha[3] = 38.216677\n",
    "\n",
    "# Los de Mitnik\n",
    "alpha[0] = 0.298073\n",
    "alpha[1] = 1.242567\n",
    "alpha[2] = 5.782948\n",
    "alpha[3] = 38.47497\n",
    "\n",
    "# Para el hidrogeno\n",
    "alpha[0] = 13.00773\n",
    "alpha[1] = 1.962079\n",
    "alpha[2] = 0.444529\n",
    "alpha[3] = 0.1219492"
   ]
  },
  {
   "cell_type": "code",
   "execution_count": 11,
   "metadata": {
    "collapsed": true
   },
   "outputs": [],
   "source": [
    "# Funcion de onda con base gaussiana\n",
    "\n",
    "def psi(alpha,Ci,x):\n",
    "    suma = 0\n",
    "    for i in range(nsize):\n",
    "        suma += Ci*np.exp(-alpha[i]*x**2)\n",
    "    return suma"
   ]
  },
  {
   "cell_type": "code",
   "execution_count": 12,
   "metadata": {
    "collapsed": true
   },
   "outputs": [],
   "source": [
    "# Funcion para calcular el resultado de las integrales J y K para este caso\n",
    "\n",
    "def Qprqs(p,r,q,s,alpha):\n",
    "    num = 2 * np.pi ** (5./2.)\n",
    "    den1 = (alpha[p]+alpha[q])*(alpha[r]+alpha[s])\n",
    "    den2 = np.sqrt(alpha[p]+alpha[q]+alpha[r]+alpha[s])\n",
    "    return num/(den1*den2)"
   ]
  },
  {
   "cell_type": "markdown",
   "metadata": {},
   "source": [
    "### Genero la matriz de overlap calculando los overlaps de la base Gaussiana"
   ]
  },
  {
   "cell_type": "markdown",
   "metadata": {},
   "source": [
    "Saco el overlap calculando $\\left <\\chi_p\\middle|\\chi_q\\right >$\n",
    "\n",
    "\\begin{equation}\n",
    "\\left <\\chi_p\\middle|\\chi_q\\right > = \\int_0^\\infty e^{-\\alpha_p r^2} e^{-\\alpha_q r^2} d^3\\boldsymbol{r} = \\int_0^\\infty e^{-(\\alpha_p + \\alpha_q) r^2} d^3\\boldsymbol{r}\n",
    "\\end{equation}"
   ]
  },
  {
   "cell_type": "code",
   "execution_count": 13,
   "metadata": {},
   "outputs": [
    {
     "data": {
      "text/plain": [
       "pi**(3/2)/(a + b)**(3/2)"
      ]
     },
     "execution_count": 13,
     "metadata": {},
     "output_type": "execute_result"
    }
   ],
   "source": [
    "# Calculo el overlap entre la base de funciones\n",
    "\n",
    "r = sp.Symbol('r',positive=True)\n",
    "a = sp.Symbol('a',positive=True)\n",
    "b = sp.Symbol('b',positive=True)\n",
    "z = sp.Symbol('z',positive=True)\n",
    "\n",
    "# La integral mas la contribucion esferica\n",
    "sp.simplify(sp.integrate( r**2 * sp.exp(-(a+b)*r**2) , (r,0,sp.oo))) * 4*sp.pi"
   ]
  },
  {
   "cell_type": "code",
   "execution_count": 14,
   "metadata": {},
   "outputs": [
    {
     "data": {
      "text/plain": [
       "array([[  4.19640644e-02,   9.61391815e-02,   1.12857904e-01,\n",
       "          1.17042513e-01],\n",
       "       [  9.61391815e-02,   7.16316708e-01,   1.49147774e+00,\n",
       "          1.85084232e+00],\n",
       "       [  1.12857904e-01,   1.49147774e+00,   6.64247101e+00,\n",
       "          1.30602054e+01],\n",
       "       [  1.17042513e-01,   1.85084232e+00,   1.30602054e+01,\n",
       "          4.62286682e+01]])"
      ]
     },
     "execution_count": 14,
     "metadata": {},
     "output_type": "execute_result"
    }
   ],
   "source": [
    "# Genero la Matriz Spq\n",
    "# Uso el resultado que me dio integrando el overlap de dos gaussianas.\n",
    "\n",
    "for p in range(nsize):\n",
    "    for q in range(p,nsize):\n",
    "        Spq[p,q] = np.pi**(3./2.) / (alpha[p]+alpha[q])**(3./2.)\n",
    "        Spq[q,p] = Spq[p,q] # Reflejo los valores ya que Spq es simetrica\n",
    "Spq"
   ]
  },
  {
   "cell_type": "markdown",
   "metadata": {},
   "source": [
    "### Genero la matriz del Hamiltoniano\n",
    "\n",
    "Hpq esta compuesta por la parte cinetica y la parte potencial"
   ]
  },
  {
   "cell_type": "markdown",
   "metadata": {},
   "source": [
    "Cinetica:\n",
    "\n",
    "\\begin{equation}\n",
    "\\left <\\chi_p\\middle| -\\frac{1}{2} \\nabla^2 \\middle|\\chi_q\\right > = \\int_0^\\infty e^{-\\alpha_p r^2} -\\frac{1}{2} \\nabla^2 e^{-\\alpha_q r^2} d^3\\boldsymbol{r}\n",
    "\\end{equation}"
   ]
  },
  {
   "cell_type": "code",
   "execution_count": 15,
   "metadata": {},
   "outputs": [
    {
     "data": {
      "text/plain": [
       "3.0*pi**(3/2)*a*b/(a + b)**(5/2)"
      ]
     },
     "execution_count": 15,
     "metadata": {},
     "output_type": "execute_result"
    }
   ],
   "source": [
    "# Parte cinectica\n",
    "# Calculo cuanto da el overlap entre los elementos de la base\n",
    "\n",
    "sp.simplify(sp.integrate( -0.5 * r**2 * sp.exp(-a*r**2) * (sp.diff(sp.exp(-b*r**2),r,r) + (2/r)*sp.diff(sp.exp(-b*r**2),r)), (r,0,sp.oo))) * 4*sp.pi"
   ]
  },
  {
   "cell_type": "markdown",
   "metadata": {},
   "source": [
    "Potencial:\n",
    "\n",
    "\\begin{equation}\n",
    "\\left <\\chi_p\\middle| -\\frac{Z}{r} \\middle|\\chi_q\\right > = \\int_0^\\infty e^{-\\alpha_p r^2} \\left(-\\frac{Z}{r}\\right) e^{-\\alpha_q r^2} d^3\\boldsymbol{r}\n",
    "\\end{equation}"
   ]
  },
  {
   "cell_type": "code",
   "execution_count": 16,
   "metadata": {},
   "outputs": [
    {
     "data": {
      "text/plain": [
       "-2*pi*z/(a + b)"
      ]
     },
     "execution_count": 16,
     "metadata": {},
     "output_type": "execute_result"
    }
   ],
   "source": [
    "# Parte Potencial\n",
    "# Calculo cuanto da el overlap entre los elementos de la base\n",
    "\n",
    "sp.simplify(sp.integrate( sp.exp(-(a)*r**2) * -(z*r) * sp.exp(-(b)*r**2), (r,0,sp.oo)) * 4*sp.pi )"
   ]
  },
  {
   "cell_type": "code",
   "execution_count": 17,
   "metadata": {},
   "outputs": [
    {
     "data": {
      "text/plain": [
       "array([[  0.57726847,   0.07200247,  -0.3215405 ,  -0.43612626],\n",
       "       [  0.07200247,   0.50704993,  -0.98918483,  -2.37741992],\n",
       "       [ -0.3215405 ,  -0.98918483,  -2.63808243,  -7.34221693],\n",
       "       [ -0.43612626,  -2.37741992,  -7.34221693, -17.30516271]])"
      ]
     },
     "execution_count": 17,
     "metadata": {},
     "output_type": "execute_result"
    }
   ],
   "source": [
    "# Valor medio de la energia cinetica\n",
    "\n",
    "Z = 1\n",
    "\n",
    "def Tpq(alpha,p,q):\n",
    "    num = 3 * np.pi**(3./2.) * alpha[p] * alpha[q]\n",
    "    den = (alpha[p] + alpha[q])**(5./2.)\n",
    "    return num/den\n",
    "\n",
    "def Vpq(alpha,p,q):\n",
    "    return -(2*Z*np.pi) / (alpha[p] + alpha[q])\n",
    "\n",
    "for p in range(nsize):\n",
    "    for q in range(p,nsize):\n",
    "        Hpq[p,q] = Tpq(alpha,p,q) + Vpq(alpha,p,q)\n",
    "        Hpq[q,p] = Hpq[p,q]\n",
    "        \n",
    "Hpq"
   ]
  },
  {
   "cell_type": "markdown",
   "metadata": {},
   "source": [
    "## Comienzo la iteracion"
   ]
  },
  {
   "cell_type": "code",
   "execution_count": 782,
   "metadata": {
    "collapsed": true
   },
   "outputs": [],
   "source": [
    "#Ci = [0,0,1.,1.] # Valores iniciales para los coeficientes\n",
    "#Ci = [ 0.1226577 ,  0.45030895,  0.44547247,  0.28272299]"
   ]
  },
  {
   "cell_type": "code",
   "execution_count": 828,
   "metadata": {},
   "outputs": [
    {
     "data": {
      "text/plain": [
       "array([-0.06643041, -0.13252026, -0.07542911, -0.11656649])"
      ]
     },
     "execution_count": 828,
     "metadata": {},
     "output_type": "execute_result"
    }
   ],
   "source": [
    "Ci"
   ]
  },
  {
   "cell_type": "code",
   "execution_count": 829,
   "metadata": {},
   "outputs": [
    {
     "data": {
      "text/plain": [
       "array([[  0.03202547,   0.07240888,   0.08472162,   0.08779394],\n",
       "       [  0.07240888,   0.50433582,   1.00469629,   1.22734165],\n",
       "       [  0.08472162,   1.00469629,   3.89287277,   6.99390228],\n",
       "       [  0.08779394,   1.22734165,   6.99390228,  19.81476637]])"
      ]
     },
     "execution_count": 829,
     "metadata": {},
     "output_type": "execute_result"
    }
   ],
   "source": [
    "# Construyo el operador de Fock\n",
    "# Primero hago la suma\n",
    "\n",
    "F2 = np.zeros((nsize,nsize))\n",
    "\n",
    "for p in range(nsize):\n",
    "    for q in range(p,nsize):\n",
    "        suma = 0\n",
    "        for r in range(nsize):\n",
    "            for s in range(nsize):\n",
    "                suma += Qprqs(p,r,q,s,alpha)*Ci[r]*Ci[s]\n",
    "        F2[p,q] = suma\n",
    "        F2[q,p] = F2[p,q]\n",
    "        \n",
    "F2"
   ]
  },
  {
   "cell_type": "code",
   "execution_count": 830,
   "metadata": {},
   "outputs": [
    {
     "data": {
      "text/plain": [
       "array([[ 0.60929393,  0.14441135, -0.23681887, -0.34833232],\n",
       "       [ 0.14441135,  1.01138575,  0.01551146, -1.15007827],\n",
       "       [-0.23681887,  0.01551146,  1.25479034, -0.34831465],\n",
       "       [-0.34833232, -1.15007827, -0.34831465,  2.50960366]])"
      ]
     },
     "execution_count": 830,
     "metadata": {},
     "output_type": "execute_result"
    }
   ],
   "source": [
    "for p in range(nsize):\n",
    "    for q in range(p,nsize):\n",
    "        Fpq[p,q] = Hpq[p,q] + F2[p,q]\n",
    "        Fpq[q,p] = Fpq[p,q]\n",
    "        \n",
    "Fpq"
   ]
  },
  {
   "cell_type": "code",
   "execution_count": 831,
   "metadata": {},
   "outputs": [
    {
     "data": {
      "text/plain": [
       "array([-0.06492225, -0.13068511, -0.0701039 , -0.11847642])"
      ]
     },
     "execution_count": 831,
     "metadata": {},
     "output_type": "execute_result"
    }
   ],
   "source": [
    "# Saco autovectores y autovalores\n",
    "\n",
    "Energias, Cnuevo = eigh(Fpq,Spq,type=1)\n",
    "Ci = Cnuevo[:,0]\n",
    "Ci"
   ]
  },
  {
   "cell_type": "code",
   "execution_count": 832,
   "metadata": {},
   "outputs": [
    {
     "data": {
      "text/plain": [
       "array([  1.50552846e-02,   5.58438918e-01,   3.21310496e+00,\n",
       "         2.18812440e+01])"
      ]
     },
     "execution_count": 832,
     "metadata": {},
     "output_type": "execute_result"
    }
   ],
   "source": [
    "Energias"
   ]
  },
  {
   "cell_type": "code",
   "execution_count": 833,
   "metadata": {},
   "outputs": [
    {
     "data": {
      "text/plain": [
       "array([-0.06492225, -0.13068511, -0.0701039 , -0.11847642])"
      ]
     },
     "execution_count": 833,
     "metadata": {},
     "output_type": "execute_result"
    }
   ],
   "source": [
    "# Normalizo el vector Ci mediante la matriz de overlap\n",
    "\n",
    "def norm(C,S):\n",
    "    suma = 0\n",
    "    for p in range(nsize):\n",
    "        for q in range(nsize):\n",
    "            suma += C[p]*S[p,q]*C[q]\n",
    "    return suma\n",
    "\n",
    "norma = norm(Ci,Spq)\n",
    "for i in range(nsize):\n",
    "    Ci[i] /= np.sqrt(norma)\n",
    "    \n",
    "Ci"
   ]
  },
  {
   "cell_type": "code",
   "execution_count": 834,
   "metadata": {},
   "outputs": [
    {
     "data": {
      "image/png": "[encoded data removed]",
      "text/latex": [
       "$$1.0$$"
      ],
      "text/plain": [
       "1.0"
      ]
     },
     "execution_count": 834,
     "metadata": {},
     "output_type": "execute_result"
    }
   ],
   "source": [
    "norm(Ci,Spq)"
   ]
  },
  {
   "cell_type": "code",
   "execution_count": 835,
   "metadata": {},
   "outputs": [],
   "source": [
    "# Calculo de la energia del fundamental\n",
    "\n",
    "E = 0\n",
    "for p in range(nsize):\n",
    "    for q in range(nsize):\n",
    "        E += (2*Hpq[p,q] + F2[p,q])*Ci[p]*Ci[q]\n",
    "        \n",
    "Efund.append(E)"
   ]
  },
  {
   "cell_type": "code",
   "execution_count": 836,
   "metadata": {},
   "outputs": [
    {
     "data": {
      "image/png": "[encoded data removed]",
      "text/latex": [
       "$$\\left [ -0.998556811335, \\quad -0.369713344942, \\quad -0.490825515918, \\quad -0.439235276078, \\quad -0.461374367686, \\quad -0.451846320489\\right ]$$"
      ],
      "text/plain": [
       "[-0.998556811335, -0.369713344942, -0.490825515918, -0.439235276078, -0.461374\n",
       "367686, -0.451846320489]"
      ]
     },
     "execution_count": 836,
     "metadata": {},
     "output_type": "execute_result"
    }
   ],
   "source": [
    "Efund"
   ]
  },
  {
   "cell_type": "code",
   "execution_count": 18,
   "metadata": {},
   "outputs": [],
   "source": [
    "## Interacion automatica\n",
    "\n",
    "for i in range(20):\n",
    "    for p in range(nsize):\n",
    "        for q in range(p,nsize):\n",
    "            suma = 0\n",
    "            for r in range(nsize):\n",
    "                for s in range(nsize):\n",
    "                    suma += Qprqs(p,r,q,s,alpha)*Ci[r]*Ci[s]\n",
    "            F2[p,q] = suma\n",
    "            F2[q,p] = F2[p,q]\n",
    "\n",
    "    for p in range(nsize):\n",
    "        for q in range(p,nsize):\n",
    "            Fpq[p,q] = Hpq[p,q] + F2[p,q]\n",
    "            Fpq[q,p] = Fpq[p,q]\n",
    "\n",
    "    Energias, Cnuevo = eigh(Fpq,Spq,type=1)\n",
    "    Ci = Cnuevo[:,0]\n",
    "\n",
    "    E = 0\n",
    "    for p in range(nsize):\n",
    "        for q in range(nsize):\n",
    "            E += (2*Hpq[p,q] + F2[p,q])*Ci[p]*Ci[q]\n",
    "\n",
    "    Efund.append(E)"
   ]
  },
  {
   "cell_type": "code",
   "execution_count": 19,
   "metadata": {},
   "outputs": [
    {
     "data": {
      "text/plain": [
       "[-0.99855681133497098,\n",
       " -0.36971334494202512,\n",
       " -0.49082551591837598,\n",
       " -0.43923527607800328,\n",
       " -0.46137436768614049,\n",
       " -0.45184632048889606,\n",
       " -0.45594628853069735,\n",
       " -0.45418162322500755,\n",
       " -0.4549410972221839,\n",
       " -0.45461422389582756,\n",
       " -0.45475490625213733,\n",
       " -0.4546943578571237,\n",
       " -0.45472041725798773,\n",
       " -0.45470920154875538,\n",
       " -0.45471402867694055,\n",
       " -0.45471195112916934,\n",
       " -0.45471284528489975,\n",
       " -0.45471246044922353,\n",
       " -0.45471262607864238,\n",
       " -0.45471255479339923]"
      ]
     },
     "execution_count": 19,
     "metadata": {},
     "output_type": "execute_result"
    }
   ],
   "source": [
    "Efund"
   ]
  },
  {
   "cell_type": "code",
   "execution_count": null,
   "metadata": {
    "collapsed": true
   },
   "outputs": [],
   "source": []
  }
 ],
 "metadata": {
  "kernelspec": {
   "display_name": "Python 2",
   "language": "python",
   "name": "python2"
  },
  "language_info": {
   "codemirror_mode": {
    "name": "ipython",
    "version": 2
   },
   "file_extension": ".py",
   "mimetype": "text/x-python",
   "name": "python",
   "nbconvert_exporter": "python",
   "pygments_lexer": "ipython2",
   "version": "2.7.14"
  }
 },
 "nbformat": 4,
 "nbformat_minor": 2
}
