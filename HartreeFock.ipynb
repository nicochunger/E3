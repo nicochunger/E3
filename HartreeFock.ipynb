{
 "cells": [
  {
   "cell_type": "markdown",
   "metadata": {},
   "source": [
    "# Calculo de estados del Helio mediante el metodo de Hartree Fock\n",
    "\n",
    "Nicolas Unger"
   ]
  },
  {
   "cell_type": "code",
   "execution_count": 1,
   "metadata": {
    "collapsed": true
   },
   "outputs": [],
   "source": [
    "import numpy as np\n",
    "import sympy as sp\n",
    "from scipy.linalg import eigh\n",
    "import matplotlib.pyplot as plt\n",
    "\n",
    "# Estética\n",
    "#sp.init_printing()\n",
    "#%matplotlib inline"
   ]
  },
  {
   "cell_type": "code",
   "execution_count": 159,
   "metadata": {
    "collapsed": true
   },
   "outputs": [],
   "source": [
    "nsize = 4\n",
    "\n",
    "alpha = np.zeros((nsize)) # Alphas de la base gaussiana\n",
    "Ci = np.zeros((nsize)) # Coeficientes para cada elemento de la base\n",
    "Efund = []\n",
    "\n",
    "Spq = np.zeros((nsize,nsize)) # Overlap\n",
    "Hpq = np.zeros((nsize,nsize)) # Hamiltoniano\n",
    "Fpq = np.zeros((nsize,nsize)) # Operador de Fock\n",
    "F2 = np.zeros((nsize,nsize))"
   ]
  },
  {
   "cell_type": "code",
   "execution_count": 160,
   "metadata": {
    "collapsed": true
   },
   "outputs": [],
   "source": [
    "# Parametros alpha para construir la funcion de onda\n",
    "\n",
    "alpha[0] = 0.298073\n",
    "alpha[1] = 1.242567\n",
    "alpha[2] = 5.782948\n",
    "alpha[3] = 38.47497"
   ]
  },
  {
   "cell_type": "code",
   "execution_count": 161,
   "metadata": {
    "collapsed": true
   },
   "outputs": [],
   "source": [
    "# Funcion de onda con base gaussiana\n",
    "\n",
    "def psi(alpha,Ci,x):\n",
    "    suma = 0\n",
    "    for i in range(nsize):\n",
    "        suma += Ci*np.exp(-alpha[i]*x**2)\n",
    "    return suma"
   ]
  },
  {
   "cell_type": "code",
   "execution_count": 162,
   "metadata": {
    "collapsed": true
   },
   "outputs": [],
   "source": [
    "# Funcion para calcular el resultado de las integrales J y K para este caso\n",
    "\n",
    "def Qprqs(p,r,q,s,alpha):\n",
    "    num = 2 * np.pi ** (5./2.)\n",
    "    den1 = (alpha[p]+alpha[q])*(alpha[r]+alpha[s])\n",
    "    den2 = np.sqrt(alpha[p]+alpha[q]+alpha[r]+alpha[s])\n",
    "    return num/(den1*den2)"
   ]
  },
  {
   "cell_type": "markdown",
   "metadata": {},
   "source": [
    "### Genero la matriz de overlap calculando los overlaps de la base Gaussiana"
   ]
  },
  {
   "cell_type": "markdown",
   "metadata": {},
   "source": [
    "Saco el overlap calculando $\\left <\\chi_p\\middle|\\chi_q\\right >$\n",
    "\n",
    "\\begin{equation}\n",
    "\\left <\\chi_p\\middle|\\chi_q\\right > = \\int_0^\\infty e^{-\\alpha_p r^2} e^{-\\alpha_q r^2} d^3\\boldsymbol{r} = \\int_0^\\infty e^{-(\\alpha_p + \\alpha_q) r^2} d^3\\boldsymbol{r}\n",
    "\\end{equation}"
   ]
  },
  {
   "cell_type": "code",
   "execution_count": 6,
   "metadata": {},
   "outputs": [
    {
     "data": {
      "text/plain": [
       "pi**(3/2)/(a + b)**(3/2)"
      ]
     },
     "execution_count": 6,
     "metadata": {},
     "output_type": "execute_result"
    }
   ],
   "source": [
    "# Calculo el overlap entre la base de funciones\n",
    "\n",
    "r = sp.Symbol('r',positive=True)\n",
    "a = sp.Symbol('a',positive=True)\n",
    "b = sp.Symbol('b',positive=True)\n",
    "z = sp.Symbol('z',positive=True)\n",
    "\n",
    "# La integral mas la contribucion esferica\n",
    "sp.simplify(sp.integrate( r**2 * sp.exp(-(a+b)*r**2) , (r,0,sp.oo))) * 4*sp.pi"
   ]
  },
  {
   "cell_type": "code",
   "execution_count": 163,
   "metadata": {},
   "outputs": [
    {
     "data": {
      "text/plain": [
       "array([[  1.20975063e+01,   2.91187719e+00,   3.71330014e-01,\n",
       "          2.30637530e-02],\n",
       "       [  2.91187719e+00,   1.42134692e+00,   2.99025043e-01,\n",
       "          2.22459699e-02],\n",
       "       [  3.71330014e-01,   2.99025043e-01,   1.41564997e-01,\n",
       "          1.89120383e-02],\n",
       "       [  2.30637530e-02,   2.22459699e-02,   1.89120383e-02,\n",
       "          8.24921040e-03]])"
      ]
     },
     "execution_count": 163,
     "metadata": {},
     "output_type": "execute_result"
    }
   ],
   "source": [
    "# Genero la Matriz Spq\n",
    "# Uso el resultado que me dio integrando el overlap de dos gaussianas.\n",
    "\n",
    "for p in range(nsize):\n",
    "    for q in range(p,nsize):\n",
    "        Spq[p,q] = np.pi**(3./2.) / (alpha[p]+alpha[q])**(3./2.)\n",
    "        Spq[q,p] = Spq[p,q] # Reflejo los valores ya que Spq es simetrica\n",
    "Spq"
   ]
  },
  {
   "cell_type": "markdown",
   "metadata": {},
   "source": [
    "### Genero la matriz del Hamiltoniano\n",
    "\n",
    "Hpq esta compuesta por la parte cinetica y la parte potencial"
   ]
  },
  {
   "cell_type": "markdown",
   "metadata": {},
   "source": [
    "Cinetica:\n",
    "\n",
    "\\begin{equation}\n",
    "\\left <\\chi_p\\middle| -\\frac{1}{2} \\nabla^2 \\middle|\\chi_q\\right > = \\int_0^\\infty e^{-\\alpha_p r^2} -\\frac{1}{2} \\nabla^2 e^{-\\alpha_q r^2} d^3\\boldsymbol{r}\n",
    "\\end{equation}"
   ]
  },
  {
   "cell_type": "code",
   "execution_count": 8,
   "metadata": {},
   "outputs": [
    {
     "data": {
      "text/plain": [
       "3.0*pi**(3/2)*a*b/(a + b)**(5/2)"
      ]
     },
     "execution_count": 8,
     "metadata": {},
     "output_type": "execute_result"
    }
   ],
   "source": [
    "# Parte cinectica\n",
    "# Calculo cuanto da el overlap entre los elementos de la base\n",
    "\n",
    "sp.simplify(sp.integrate( -0.5 * r**2 * sp.exp(-a*r**2) * (sp.diff(sp.exp(-b*r**2),r,r) + (2/r)*sp.diff(sp.exp(-b*r**2),r)), (r,0,sp.oo))) * 4*sp.pi"
   ]
  },
  {
   "cell_type": "markdown",
   "metadata": {},
   "source": [
    "Potencial:\n",
    "\n",
    "\\begin{equation}\n",
    "\\left <\\chi_p\\middle| -\\frac{Z}{r} \\middle|\\chi_q\\right > = \\int_0^\\infty e^{-\\alpha_p r^2} \\left(-\\frac{Z}{r}\\right) e^{-\\alpha_q r^2} d^3\\boldsymbol{r}\n",
    "\\end{equation}"
   ]
  },
  {
   "cell_type": "code",
   "execution_count": 9,
   "metadata": {},
   "outputs": [
    {
     "data": {
      "text/plain": [
       "-2*pi*z/(a + b)"
      ]
     },
     "execution_count": 9,
     "metadata": {},
     "output_type": "execute_result"
    }
   ],
   "source": [
    "# Parte Potencial\n",
    "# Calculo cuanto da el overlap entre los elementos de la base\n",
    "\n",
    "sp.simplify(sp.integrate( sp.exp(-(a)*r**2) * -(z*r) * sp.exp(-(b)*r**2), (r,0,sp.oo)) * 4*sp.pi )"
   ]
  },
  {
   "cell_type": "code",
   "execution_count": 164,
   "metadata": {},
   "outputs": [
    {
     "data": {
      "text/plain": [
       "array([[ -1.56704407e+01,  -6.05651235e+00,  -1.75071599e+00,\n",
       "         -3.03635210e-01],\n",
       "       [ -6.05651235e+00,  -2.40743875e+00,  -8.71147177e-01,\n",
       "         -2.36061536e-01],\n",
       "       [ -1.75071599e+00,  -8.71147177e-01,   1.41492399e-01,\n",
       "          1.29567990e-03],\n",
       "       [ -3.03635210e-01,  -2.36061536e-01,   1.29567990e-03,\n",
       "          3.12776396e-01]])"
      ]
     },
     "execution_count": 164,
     "metadata": {},
     "output_type": "execute_result"
    }
   ],
   "source": [
    "# Valor medio de la energia cinetica\n",
    "\n",
    "Z = 2\n",
    "\n",
    "def Tpq(alpha,p,q):\n",
    "    num = 3 * np.pi**(3./2.) * alpha[p] * alpha[q]\n",
    "    den = (alpha[p] + alpha[q])**(5./2.)\n",
    "    return num/den\n",
    "\n",
    "def Vpq(alpha,p,q):\n",
    "    return -(2*Z*np.pi) / (alpha[p] + alpha[q])\n",
    "\n",
    "for p in range(nsize):\n",
    "    for q in range(p,nsize):\n",
    "        Hpq[p,q] = Tpq(alpha,p,q) + Vpq(alpha,p,q)\n",
    "        Hpq[q,p] = Hpq[p,q]\n",
    "        \n",
    "Hpq"
   ]
  },
  {
   "cell_type": "markdown",
   "metadata": {},
   "source": [
    "## Comienzo la iteracion"
   ]
  },
  {
   "cell_type": "code",
   "execution_count": 221,
   "metadata": {},
   "outputs": [
    {
     "data": {
      "text/plain": [
       "array([[ 8.87980689,  2.90944144,  0.498356  ,  0.03674245],\n",
       "       [ 2.90944144,  1.60583072,  0.40995444,  0.0354791 ],\n",
       "       [ 0.498356  ,  0.40995444,  0.20639586,  0.03030594],\n",
       "       [ 0.03674245,  0.0354791 ,  0.03030594,  0.01347282]])"
      ]
     },
     "execution_count": 221,
     "metadata": {},
     "output_type": "execute_result"
    }
   ],
   "source": [
    "# Construyo el operador de Fock\n",
    "# Primero hago la suma\n",
    "\n",
    "for p in range(nsize):\n",
    "    for q in range(p,nsize):\n",
    "        suma = 0\n",
    "        for r in range(nsize):\n",
    "            for s in range(nsize):\n",
    "                suma += Qprqs(p,r,q,s,alpha)*Ci[r]*Ci[s]\n",
    "        F2[p,q] = suma\n",
    "        F2[q,p] = F2[p,q]\n",
    "        \n",
    "F2"
   ]
  },
  {
   "cell_type": "code",
   "execution_count": 222,
   "metadata": {},
   "outputs": [
    {
     "data": {
      "text/plain": [
       "array([[-6.79063383, -3.14707091, -1.25235998, -0.26689276],\n",
       "       [-3.14707091, -0.80160803, -0.46119274, -0.20058244],\n",
       "       [-1.25235998, -0.46119274,  0.34788826,  0.03160162],\n",
       "       [-0.26689276, -0.20058244,  0.03160162,  0.32624922]])"
      ]
     },
     "execution_count": 222,
     "metadata": {},
     "output_type": "execute_result"
    }
   ],
   "source": [
    "for p in range(nsize):\n",
    "    for q in range(p,nsize):\n",
    "        Fpq[p,q] = Hpq[p,q] + F2[p,q]\n",
    "        Fpq[q,p] = Fpq[p,q]\n",
    "        \n",
    "Fpq"
   ]
  },
  {
   "cell_type": "code",
   "execution_count": 223,
   "metadata": {},
   "outputs": [
    {
     "data": {
      "text/plain": [
       "array([ 0.14772928,  0.39382958,  0.41081413,  0.26129074])"
      ]
     },
     "execution_count": 223,
     "metadata": {},
     "output_type": "execute_result"
    }
   ],
   "source": [
    "# Saco autovectores y autovalores\n",
    "\n",
    "Energias, Cnuevo = eigh(Fpq,Spq,type=1)\n",
    "Ci = Cnuevo[:,0]\n",
    "Ci"
   ]
  },
  {
   "cell_type": "code",
   "execution_count": 224,
   "metadata": {},
   "outputs": [
    {
     "data": {
      "text/plain": [
       "array([ -0.9140814 ,   0.58153905,   7.55432944,  61.02868532])"
      ]
     },
     "execution_count": 224,
     "metadata": {},
     "output_type": "execute_result"
    }
   ],
   "source": [
    "Energias"
   ]
  },
  {
   "cell_type": "code",
   "execution_count": 225,
   "metadata": {},
   "outputs": [
    {
     "data": {
      "text/plain": [
       "array([ 0.14772928,  0.39382958,  0.41081413,  0.26129074])"
      ]
     },
     "execution_count": 225,
     "metadata": {},
     "output_type": "execute_result"
    }
   ],
   "source": [
    "# Normalizo el vector Ci mediante la matriz de overlap\n",
    "\n",
    "def norm(C,S):\n",
    "    suma = 0\n",
    "    for p in range(nsize):\n",
    "        for q in range(nsize):\n",
    "            suma += C[p]*S[p,q]*C[q]\n",
    "    return suma\n",
    "\n",
    "norma = norm(Ci,Spq)\n",
    "for i in range(nsize):\n",
    "    Ci[i] /= np.sqrt(norma)\n",
    "    \n",
    "Ci"
   ]
  },
  {
   "cell_type": "code",
   "execution_count": 226,
   "metadata": {},
   "outputs": [
    {
     "data": {
      "text/plain": [
       "1.0000000000000002"
      ]
     },
     "execution_count": 226,
     "metadata": {},
     "output_type": "execute_result"
    }
   ],
   "source": [
    "norm(Ci,Spq)"
   ]
  },
  {
   "cell_type": "code",
   "execution_count": 227,
   "metadata": {
    "collapsed": true
   },
   "outputs": [],
   "source": [
    "# Calculo de la energia del fundamental\n",
    "\n",
    "E = 0\n",
    "for p in range(nsize):\n",
    "    for q in range(nsize):\n",
    "        E += (2*Hpq[p,q] + F2[p,q])*Ci[p]*Ci[q]\n",
    "        \n",
    "Efund.append(E)"
   ]
  },
  {
   "cell_type": "code",
   "execution_count": 228,
   "metadata": {},
   "outputs": [
    {
     "data": {
      "text/plain": [
       "[-3.9885323142089342,\n",
       " -2.7290659114788505,\n",
       " -2.8907233747431542,\n",
       " -2.8455546059830303,\n",
       " -2.8577918441290731,\n",
       " -2.8544421454201405,\n",
       " -2.8553566186148469,\n",
       " -2.8551067816451106]"
      ]
     },
     "execution_count": 228,
     "metadata": {},
     "output_type": "execute_result"
    }
   ],
   "source": [
    "Efund"
   ]
  },
  {
   "cell_type": "markdown",
   "metadata": {},
   "source": [
    "La energia que da con el programa de Fischer es: -2.86167 au"
   ]
  },
  {
   "cell_type": "markdown",
   "metadata": {},
   "source": [
    "### Grafico la funcion de onda"
   ]
  },
  {
   "cell_type": "code",
   "execution_count": 229,
   "metadata": {},
   "outputs": [
    {
     "data": {
      "image/png": "[encoded data removed]",
      "text/plain": [
       "<matplotlib.figure.Figure at 0x7f4e54d88f50>"
      ]
     },
     "metadata": {},
     "output_type": "display_data"
    }
   ],
   "source": [
    "xmin = 0.01\n",
    "xmax = 10\n",
    "npts = 500\n",
    "x = np.linspace(xmin,xmax,npts)\n",
    "\n",
    "psi1 = np.zeros(npts)\n",
    "\n",
    "def psi(alpha,Ci,x):\n",
    "    suma = 0\n",
    "    for i in range(nsize):\n",
    "        suma += Ci[i]*np.exp(-alpha[i]*x**2)\n",
    "    return suma\n",
    "\n",
    "for i in range(npts):\n",
    "    psi1[i] = psi(alpha,Ci,x[i])\n",
    "    \n",
    "plt.plot(x,x*psi1)\n",
    "plt.xlabel(\"r (a.u)\")\n",
    "plt.ylabel(\"$\\Psi$\")\n",
    "plt.show()"
   ]
  },
  {
   "cell_type": "code",
   "execution_count": 242,
   "metadata": {},
   "outputs": [
    {
     "data": {
      "text/plain": [
       "1.0000000000000002"
      ]
     },
     "execution_count": 242,
     "metadata": {},
     "output_type": "execute_result"
    }
   ],
   "source": [
    "# Normalizo la funcion de onda\n",
    "\n",
    "integral = np.trapz(x**2*psi1**2,x)\n",
    "psi1 /= np.sqrt(integral)\n",
    "np.trapz(x**2*psi1**2,x)"
   ]
  },
  {
   "cell_type": "code",
   "execution_count": 243,
   "metadata": {},
   "outputs": [
    {
     "data": {
      "image/png": "[encoded data removed]",
      "text/plain": [
       "<matplotlib.figure.Figure at 0x7f4e54817d50>"
      ]
     },
     "metadata": {},
     "output_type": "display_data"
    }
   ],
   "source": [
    "x2,wave1s = np.loadtxt(\"./hf/Helio/wave.1s\",unpack=True)\n",
    "plt.plot(x,x*psi1)\n",
    "plt.plot(x2,wave1s)\n",
    "plt.axis([0,10,0,1])\n",
    "\n",
    "plt.show()"
   ]
  },
  {
   "cell_type": "code",
   "execution_count": 244,
   "metadata": {},
   "outputs": [
    {
     "data": {
      "text/plain": [
       "0.92332199824661731"
      ]
     },
     "execution_count": 244,
     "metadata": {},
     "output_type": "execute_result"
    }
   ],
   "source": [
    "# Valor medio de r de mi funcion\n",
    "\n",
    "np.trapz(psi1*psi1*x**3,x)"
   ]
  },
  {
   "cell_type": "code",
   "execution_count": 246,
   "metadata": {},
   "outputs": [
    {
     "data": {
      "text/plain": [
       "0.92787719686497316"
      ]
     },
     "execution_count": 246,
     "metadata": {},
     "output_type": "execute_result"
    }
   ],
   "source": [
    "# Valor medio de r de wave1s (Fischer)\n",
    "\n",
    "np.trapz(wave1s**2*x2,x2)"
   ]
  },
  {
   "cell_type": "markdown",
   "metadata": {},
   "source": [
    "Da parecido"
   ]
  },
  {
   "cell_type": "code",
   "execution_count": 248,
   "metadata": {},
   "outputs": [
    {
     "data": {
      "text/plain": [
       "1.1625445981039011"
      ]
     },
     "execution_count": 248,
     "metadata": {},
     "output_type": "execute_result"
    }
   ],
   "source": [
    "# Valor medio de r**2 de mi funcion\n",
    "\n",
    "np.trapz((psi1*x)**2*x**2,x)"
   ]
  },
  {
   "cell_type": "code",
   "execution_count": 249,
   "metadata": {},
   "outputs": [
    {
     "data": {
      "text/plain": [
       "1.1856000892041505"
      ]
     },
     "execution_count": 249,
     "metadata": {},
     "output_type": "execute_result"
    }
   ],
   "source": [
    "# Valor medio de r**2 de wave1s (Fischer)\n",
    "\n",
    "np.trapz((wave1s)**2*x2**2,x2)"
   ]
  },
  {
   "cell_type": "markdown",
   "metadata": {},
   "source": [
    "Sigue dando parecido pero peor que el de r"
   ]
  },
  {
   "cell_type": "markdown",
   "metadata": {},
   "source": [
    "# Calculo de Hartree Fock para el ion H-"
   ]
  },
  {
   "cell_type": "markdown",
   "metadata": {},
   "source": [
    "## Proceso automatizado"
   ]
  },
  {
   "cell_type": "code",
   "execution_count": 252,
   "metadata": {},
   "outputs": [],
   "source": [
    "# Parametros iniciales\n",
    "\n",
    "nsize = 6 # Tamano de la base\n",
    "niter = 15 # Numero de iteraciones\n",
    "\n",
    "alpha = np.zeros((nsize)) # Alphas de la base gaussiana\n",
    "Ci = np.zeros((nsize)) # Coeficientes para cada elemento de la base\n",
    "Efund = [] # Matriz con las energias\n",
    "\n",
    "Spq = np.zeros((nsize,nsize)) # Overlap\n",
    "Hpq = np.zeros((nsize,nsize)) # Hamiltoniano\n",
    "Fpq = np.zeros((nsize,nsize)) # Operador de Fock\n",
    "F2 = np.zeros((nsize,nsize))\n",
    "\n",
    "# Para el hidrogeno\n",
    "alpha[0] = 13.00773\n",
    "alpha[1] = 2.962079\n",
    "alpha[2] = 0.444529\n",
    "alpha[3] = 0.1219492\n",
    "alpha[4] = 25.01773\n",
    "alpha[5] = 50.00962079\n",
    "#alpha[6] = 0.00444529\n",
    "#alpha[7] = 0.011219492\n",
    "\n",
    "# Numero atomico\n",
    "Z = 1\n",
    "\n",
    "# Funcion para calcular el resultado de las integrales J y K para este caso\n",
    "def Qprqs(p,r,q,s,alpha):\n",
    "    num = 2 * np.pi ** (5./2.)\n",
    "    den1 = (alpha[p]+alpha[q])*(alpha[r]+alpha[s])\n",
    "    den2 = np.sqrt(alpha[p]+alpha[q]+alpha[r]+alpha[s])\n",
    "    return num/(den1*den2)"
   ]
  },
  {
   "cell_type": "code",
   "execution_count": 253,
   "metadata": {
    "collapsed": true
   },
   "outputs": [],
   "source": [
    "## Setup\n",
    "# Construyo la matriz de overlap (Spq) y el Hamiltoniano (Hpq)\n",
    "# Tambien me armo la matriz F2 que voy a necesitar para armar el operador de Fock (Fpq)\n",
    "\n",
    "def Tpq(alpha,p,q):\n",
    "    num = 3 * np.pi**(3./2.) * alpha[p] * alpha[q]\n",
    "    den = (alpha[p] + alpha[q])**(5./2.)\n",
    "    return num/den\n",
    "\n",
    "def Vpq(alpha,p,q):\n",
    "    return -(2*Z*np.pi) / (alpha[p] + alpha[q])\n",
    "\n",
    "for p in range(nsize):\n",
    "    for q in range(p,nsize):\n",
    "        Spq[p,q] = np.pi**(3./2.) / (alpha[p]+alpha[q])**(3./2.)\n",
    "        Spq[q,p] = Spq[p,q] # Reflejo los valores ya que Spq es simetrica\n",
    "        Hpq[p,q] = Tpq(alpha,p,q) + Vpq(alpha,p,q)\n",
    "        Hpq[q,p] = Hpq[p,q]"
   ]
  },
  {
   "cell_type": "code",
   "execution_count": 254,
   "metadata": {},
   "outputs": [
    {
     "data": {
      "text/plain": [
       "[-0.995657281809044,\n",
       " -0.36747691828722656,\n",
       " -0.48551514891719788,\n",
       " -0.43569620739900428,\n",
       " -0.45680967386080729,\n",
       " -0.44782725665321399,\n",
       " -0.45164630964491537,\n",
       " -0.45002186828072221,\n",
       " -0.45071272209982555,\n",
       " -0.45041889034112131,\n",
       " -0.45054385832678429,\n",
       " -0.45049070821147619,\n",
       " -0.45051331336006867,\n",
       " -0.45050369919675254,\n",
       " -0.4505077881788474]"
      ]
     },
     "execution_count": 254,
     "metadata": {},
     "output_type": "execute_result"
    }
   ],
   "source": [
    "## Iteracion automatica\n",
    "\n",
    "for i in range(niter):\n",
    "    for p in range(nsize):\n",
    "        for q in range(p,nsize):\n",
    "            suma = 0\n",
    "            for r in range(nsize):\n",
    "                for s in range(nsize):\n",
    "                    suma += Qprqs(p,r,q,s,alpha)*Ci[r]*Ci[s]\n",
    "            F2[p,q] = suma\n",
    "            F2[q,p] = F2[p,q]\n",
    "\n",
    "    for p in range(nsize):\n",
    "        for q in range(p,nsize):\n",
    "            Fpq[p,q] = Hpq[p,q] + F2[p,q]\n",
    "            Fpq[q,p] = Fpq[p,q]\n",
    "\n",
    "    Energias, Cnuevo = eigh(Fpq,Spq,type=1)\n",
    "    Ci = Cnuevo[:,0]\n",
    "\n",
    "    E = 0\n",
    "    for p in range(nsize):\n",
    "        for q in range(nsize):\n",
    "            E += (2*Hpq[p,q] + F2[p,q])*Ci[p]*Ci[q]\n",
    "\n",
    "    Efund.append(E)\n",
    "    \n",
    "Efund"
   ]
  },
  {
   "cell_type": "markdown",
   "metadata": {},
   "source": [
    "Es el mejor resultado que pude conseguir.\n",
    "\n",
    "La energia del H- calculada con el programa de Johnson da -0.4879"
   ]
  },
  {
   "cell_type": "markdown",
   "metadata": {},
   "source": [
    "## Grafico la funcion de onda resultante"
   ]
  },
  {
   "cell_type": "code",
   "execution_count": 256,
   "metadata": {
    "scrolled": true
   },
   "outputs": [
    {
     "data": {
      "image/png": "[encoded data removed]",
      "text/plain": [
       "<matplotlib.figure.Figure at 0x7f4e546dd390>"
      ]
     },
     "metadata": {},
     "output_type": "display_data"
    }
   ],
   "source": [
    "xmin = 0.01\n",
    "xmax = 10\n",
    "npts = 500\n",
    "x = np.linspace(xmin,xmax,npts)\n",
    "\n",
    "psi2 = np.zeros(npts)\n",
    "\n",
    "for i in range(npts):\n",
    "    psi2[i] = psi(alpha,Ci,x[i])\n",
    "    \n",
    "plt.plot(x,x*psi2)\n",
    "plt.xlabel(\"r (a.u)\")\n",
    "plt.ylabel(\"$\\Psi$\")\n",
    "plt.show()"
   ]
  },
  {
   "cell_type": "code",
   "execution_count": 260,
   "metadata": {},
   "outputs": [
    {
     "data": {
      "text/plain": [
       "1.0"
      ]
     },
     "execution_count": 260,
     "metadata": {},
     "output_type": "execute_result"
    }
   ],
   "source": [
    "# Normalizo la funcion de onda\n",
    "\n",
    "integral = np.trapz(x**2*psi2**2,x)\n",
    "psi2 /= np.sqrt(integral)\n",
    "np.trapz(x**2*psi2**2,x)"
   ]
  },
  {
   "cell_type": "code",
   "execution_count": 268,
   "metadata": {},
   "outputs": [
    {
     "data": {
      "image/png": "[encoded data removed]",
      "text/plain": [
       "<matplotlib.figure.Figure at 0x7f4e54da7450>"
      ]
     },
     "metadata": {},
     "output_type": "display_data"
    }
   ],
   "source": [
    "# Comparo con la funcion obtenida del programa de Johnson\n",
    "\n",
    "x3,wave1s_j = np.loadtxt(\"./nrhf/wave.1s\",unpack=True)\n",
    "plt.plot(x,x*psi2,label=\"Calculada con mi HF\")\n",
    "plt.plot(x3,wave1s_j,label=\"Calculada con Johnson\")\n",
    "plt.axis([0,10,0,0.8])\n",
    "plt.xlabel(\"r (a.u.)\")\n",
    "plt.ylabel(\"$\\Psi$\")\n",
    "plt.legend()\n",
    "\n",
    "plt.show()"
   ]
  },
  {
   "cell_type": "markdown",
   "metadata": {},
   "source": [
    "### Valores medios"
   ]
  },
  {
   "cell_type": "markdown",
   "metadata": {},
   "source": [
    "#### Valor medio de r"
   ]
  },
  {
   "cell_type": "code",
   "execution_count": 250,
   "metadata": {},
   "outputs": [
    {
     "data": {
      "text/plain": [
       "0.92332199824661731"
      ]
     },
     "execution_count": 250,
     "metadata": {},
     "output_type": "execute_result"
    }
   ],
   "source": [
    "# Valor medio de r de mi funcion\n",
    "\n",
    "np.trapz(psi1*psi1*x**3,x)"
   ]
  },
  {
   "cell_type": "code",
   "execution_count": 264,
   "metadata": {},
   "outputs": [
    {
     "data": {
      "text/plain": [
       "2.5043352505956471"
      ]
     },
     "execution_count": 264,
     "metadata": {},
     "output_type": "execute_result"
    }
   ],
   "source": [
    "# Valor medio de r de la funcion de Johnson\n",
    "np.trapz(wave1s_j**2*x3,x3)"
   ]
  },
  {
   "cell_type": "markdown",
   "metadata": {},
   "source": [
    "#### Valor medio de r**2"
   ]
  },
  {
   "cell_type": "code",
   "execution_count": 265,
   "metadata": {},
   "outputs": [
    {
     "data": {
      "text/plain": [
       "4.574751042281628"
      ]
     },
     "execution_count": 265,
     "metadata": {},
     "output_type": "execute_result"
    }
   ],
   "source": [
    "np.trapz(psi2*psi2*x**4,x)"
   ]
  },
  {
   "cell_type": "code",
   "execution_count": 266,
   "metadata": {
    "scrolled": true
   },
   "outputs": [
    {
     "data": {
      "text/plain": [
       "9.4125092700301813"
      ]
     },
     "execution_count": 266,
     "metadata": {},
     "output_type": "execute_result"
    }
   ],
   "source": [
    "# Valor medio de r**2 de la funcion de Johnson\n",
    "np.trapz(wave1s_j**2*x3**2,x3)"
   ]
  },
  {
   "cell_type": "markdown",
   "metadata": {},
   "source": [
    "Dan bastante distintos los resultados"
   ]
  },
  {
   "cell_type": "markdown",
   "metadata": {},
   "source": [
    "# Orbitales del Sodio (Na)\n",
    "\n",
    "## Calculadas con el programa de Fischer"
   ]
  },
  {
   "cell_type": "code",
   "execution_count": null,
   "metadata": {
    "collapsed": true
   },
   "outputs": [],
   "source": []
  }
 ],
 "metadata": {
  "kernelspec": {
   "display_name": "Python 2",
   "language": "python",
   "name": "python2"
  },
  "language_info": {
   "codemirror_mode": {
    "name": "ipython",
    "version": 2
   },
   "file_extension": ".py",
   "mimetype": "text/x-python",
   "name": "python",
   "nbconvert_exporter": "python",
   "pygments_lexer": "ipython2",
   "version": "2.7.14"
  }
 },
 "nbformat": 4,
 "nbformat_minor": 2
}
