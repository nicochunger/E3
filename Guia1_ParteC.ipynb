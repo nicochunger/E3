{
 "cells": [
  {
   "cell_type": "markdown",
   "metadata": {},
   "source": [
    "# Guia 1, Parte C\n",
    "## Solucion numerica resolviendo la ecuacion diferencial"
   ]
  },
  {
   "cell_type": "code",
   "execution_count": 56,
   "metadata": {},
   "outputs": [],
   "source": [
    "import numpy as np\n",
    "import scipy as sp\n",
    "from scipy.integrate import odeint\n",
    "import matplotlib.pyplot as plt"
   ]
  },
  {
   "cell_type": "code",
   "execution_count": 90,
   "metadata": {},
   "outputs": [],
   "source": [
    "# Definición del Potencial\n",
    "def Vpot(x):\n",
    "    return 1/x"
   ]
  },
  {
   "cell_type": "code",
   "execution_count": 91,
   "metadata": {
    "collapsed": true
   },
   "outputs": [],
   "source": [
    "def g(y, x, E):\n",
    "    return [y[1],2*(Vpot(x)-E)*y[0]]"
   ]
  },
  {
   "cell_type": "code",
   "execution_count": 95,
   "metadata": {},
   "outputs": [
    {
     "data": {
      "image/png": "[encoded data removed]",
      "text/plain": [
       "<matplotlib.figure.Figure at 0x7fd2677d2710>"
      ]
     },
     "metadata": {},
     "output_type": "display_data"
    }
   ],
   "source": [
    "# Valores iniciales de phi(x) y phi’(x)\n",
    "initialY = 0.0,0.0005\n",
    "\n",
    "# Valor tentativo de E\n",
    "E = 0.5\n",
    "\n",
    "end = 10\n",
    "x = np.linspace(0.01,end,1000)\n",
    "\n",
    "# Solucion ecuación diferencial\n",
    "sol = odeint(g,initialY,x,args=(E,))\n",
    "\n",
    "# Ploteo de solución\n",
    "plt.plot(x, sol[:,0], color='b')\n",
    "#plt.axis([0, 10, 0, 500])\n",
    "#plt.plot(x,Vpot(x),color='k')\n",
    "plt.show()"
   ]
  },
  {
   "cell_type": "code",
   "execution_count": null,
   "metadata": {
    "collapsed": true
   },
   "outputs": [],
   "source": []
  }
 ],
 "metadata": {
  "kernelspec": {
   "display_name": "Python 2",
   "language": "python",
   "name": "python2"
  },
  "language_info": {
   "codemirror_mode": {
    "name": "ipython",
    "version": 2
   },
   "file_extension": ".py",
   "mimetype": "text/x-python",
   "name": "python",
   "nbconvert_exporter": "python",
   "pygments_lexer": "ipython2",
   "version": "2.7.14"
  }
 },
 "nbformat": 4,
 "nbformat_minor": 1
}
