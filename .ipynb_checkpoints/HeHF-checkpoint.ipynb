{
 "cells": [
  {
   "cell_type": "markdown",
   "metadata": {},
   "source": [
    "# Hartree Fock \n",
    "\n",
    "# Cálculo autoconsistente Ground State Helio\n",
    "\n",
    "Darío Mitnik"
   ]
  },
  {
   "cell_type": "code",
   "execution_count": 36,
   "metadata": {
    "collapsed": true
   },
   "outputs": [],
   "source": [
    "from numpy import  linspace, zeros, array, pi, sqrt\n",
    "from scipy.linalg import  eigh , eigvalsh\n",
    "\n",
    "%matplotlib inline\n",
    "from matplotlib.pyplot import plot, title, legend, show, axhline, \\\n",
    "                              xlabel, ylabel, axis, figure"
   ]
  },
  {
   "cell_type": "code",
   "execution_count": 37,
   "metadata": {
    "collapsed": true
   },
   "outputs": [],
   "source": [
    "nsize = 4\n",
    "S = zeros((nsize,nsize))  # Overlap\n",
    "H = zeros((nsize,nsize))  # One-electron Hamiltonian\n",
    "G = zeros((nsize,nsize))  # Two-electron Operator\n",
    "F = zeros((nsize,nsize))  # Fock Operator Hij + Gij\n",
    "\n",
    "# Gaussian Basis  Ci*exp(-Alpha*r^2)\n",
    "Alpha = zeros((nsize))    \n",
    "Ci = zeros((nsize))\n",
    "\n",
    "EnergyGS = []"
   ]
  },
  {
   "cell_type": "code",
   "execution_count": 38,
   "metadata": {
    "collapsed": true
   },
   "outputs": [],
   "source": [
    "# Datos Iniciales\n",
    "Alpha[0] = 0.298073\n",
    "Alpha[1] = 1.242567\n",
    "Alpha[2] = 5.782948\n",
    "Alpha[3] = 38.47497"
   ]
  },
  {
   "cell_type": "code",
   "execution_count": 39,
   "metadata": {},
   "outputs": [
    {
     "data": {
      "text/plain": [
       "array([[  1.20975063e+01,   2.91187719e+00,   3.71330014e-01,\n",
       "          2.30637530e-02],\n",
       "       [  2.91187719e+00,   1.42134692e+00,   2.99025043e-01,\n",
       "          2.22459699e-02],\n",
       "       [  3.71330014e-01,   2.99025043e-01,   1.41564997e-01,\n",
       "          1.89120383e-02],\n",
       "       [  2.30637530e-02,   2.22459699e-02,   1.89120383e-02,\n",
       "          8.24921040e-03]])"
      ]
     },
     "execution_count": 39,
     "metadata": {},
     "output_type": "execute_result"
    }
   ],
   "source": [
    "# Cálculo de Overlaps  Sij=<xi|xj>\n",
    "\n",
    "def overlap(Alpha,p,q):\n",
    "    spq = ( pi / (Alpha[p] + Alpha[q]) )**(3./2.)\n",
    "    \n",
    "    return spq\n",
    "\n",
    "for i in range(0,nsize):\n",
    "    for j in range(i,nsize):        \n",
    "        S[i,j]=overlap(Alpha,i,j)\n",
    "        S[j,i]=S[i,j]\n",
    "\n",
    "S"
   ]
  },
  {
   "cell_type": "code",
   "execution_count": 40,
   "metadata": {},
   "outputs": [
    {
     "data": {
      "text/plain": [
       "array([[ -1.56704407e+01,  -6.05651235e+00,  -1.75071599e+00,\n",
       "         -3.03635210e-01],\n",
       "       [ -6.05651235e+00,  -2.40743875e+00,  -8.71147177e-01,\n",
       "         -2.36061536e-01],\n",
       "       [ -1.75071599e+00,  -8.71147177e-01,   1.41492399e-01,\n",
       "          1.29567990e-03],\n",
       "       [ -3.03635210e-01,  -2.36061536e-01,   1.29567990e-03,\n",
       "          3.12776396e-01]])"
      ]
     },
     "execution_count": 40,
     "metadata": {},
     "output_type": "execute_result"
    }
   ],
   "source": [
    "# Cálculo de Hamiltoniano Hij=<xi| H |xj>\n",
    "\n",
    "# Cálculo de Energía Cinética  Tij=<xi|-1/2 D^2 |xj>\n",
    "def Tkin(Alpha,p,q):\n",
    "    rnum = 3 * pi**(3./2.) * Alpha[p] * Alpha[q]\n",
    "    rden =  (Alpha[p] + Alpha[q] )**(5./2.)    \n",
    "    Tpq = rnum/rden\n",
    "    return Tpq\n",
    "\n",
    "\n",
    "# Cálculo de Energía Potencial  Vij=<xi|-Z/r |xj>\n",
    "def Vpot(Alpha,p,q):\n",
    "    Vpq = 2 * ( -2*pi )  /  (Alpha[p] + Alpha[q])    \n",
    "    return Vpq\n",
    "\n",
    "for i in range(0,nsize):\n",
    "    for j in range(i,nsize): \n",
    "        H[i,j] = Tkin(Alpha,i,j) + Vpot(Alpha,i,j)\n",
    "        H[j,i] = H[i,j]\n",
    "        \n",
    "H"
   ]
  },
  {
   "cell_type": "code",
   "execution_count": 41,
   "metadata": {
    "collapsed": true
   },
   "outputs": [],
   "source": [
    "# Cálculo de Repulsión Interelectrónica \n",
    "# Qirjs=<xi(r1)xr(r2)| 1/|r1-r2| |xj(r1)xs(r2)>\n",
    "\n",
    "\n",
    "# Cálculo de Integral de Repulsión\n",
    "# Qirjs=<xi(r1)xr(r2)| 1/|r1-r2| |xj(r1)xs(r2)>\n",
    "def Qirjs(Alpha,i,r,j,s):\n",
    "    rnum = 2 * pi**(5./2.) \n",
    "    sqrsum = sqrt(Alpha[i]+Alpha[j]+Alpha[r]+Alpha[s])\n",
    "    rden =  (Alpha[i]+Alpha[j])*(Alpha[r]+Alpha[s])*sqrsum    \n",
    "    Qirjs = rnum/rden    \n",
    "    return Qirjs"
   ]
  },
  {
   "cell_type": "markdown",
   "metadata": {},
   "source": [
    "## Iteración Hartree"
   ]
  },
  {
   "cell_type": "code",
   "execution_count": 42,
   "metadata": {
    "collapsed": true
   },
   "outputs": [],
   "source": [
    "#Ci = [ 0.14769958,  0.39389831,  0.4108749 ,  0.26131933]"
   ]
  },
  {
   "cell_type": "code",
   "execution_count": 54,
   "metadata": {},
   "outputs": [
    {
     "data": {
      "text/plain": [
       "array([ 0.08704173,  0.52509737,  0.51920929,  0.31233737])"
      ]
     },
     "execution_count": 54,
     "metadata": {},
     "output_type": "execute_result"
    }
   ],
   "source": [
    "Ci"
   ]
  },
  {
   "cell_type": "code",
   "execution_count": 55,
   "metadata": {
    "collapsed": true
   },
   "outputs": [],
   "source": [
    "# Acá Itera Hartree\n",
    "\n",
    "# Esto lleva al elemento de matriz\n",
    "# Gij = Sum_rs Qirjs Cr Cs\n",
    "\n",
    "# Cálculo de Elemento de Matriz  Vij=<xi|-Z/r |xj>\n",
    "# Gij = Sum_rs Qirjs Cr Cs\n",
    "\n",
    "for i in range(0,nsize):\n",
    "    for j in range(i,nsize):\n",
    "        sum = 0.0\n",
    "        for r in range(0,nsize):\n",
    "            for s in range(0,nsize):\n",
    "                sum = sum + Qirjs(Alpha,i,r,j,s)*Ci[r]*Ci[s]\n",
    "        G[i,j]=sum\n",
    "        G[j,i]=sum  "
   ]
  },
  {
   "cell_type": "code",
   "execution_count": 56,
   "metadata": {},
   "outputs": [
    {
     "data": {
      "text/plain": [
       "array([[ 9.31657706,  3.15353154,  0.56481032,  0.04297898],\n",
       "       [ 3.15353154,  1.77029783,  0.46635437,  0.04151012],\n",
       "       [ 0.56481032,  0.46635437,  0.23741181,  0.03549034],\n",
       "       [ 0.04297898,  0.04151012,  0.03549034,  0.0158361 ]])"
      ]
     },
     "execution_count": 56,
     "metadata": {},
     "output_type": "execute_result"
    }
   ],
   "source": [
    "G"
   ]
  },
  {
   "cell_type": "code",
   "execution_count": 45,
   "metadata": {
    "collapsed": true
   },
   "outputs": [],
   "source": [
    "# Construcción de Operador Fock\n",
    "\n",
    "for i in range(0,nsize):\n",
    "    for j in range(i,nsize): \n",
    "        F[i,j] = H[i,j] + G[i,j]\n",
    "        F[j,i] = F[i,j]"
   ]
  },
  {
   "cell_type": "code",
   "execution_count": 46,
   "metadata": {},
   "outputs": [
    {
     "data": {
      "text/plain": [
       "array([[ -1.56704407e+01,  -6.05651235e+00,  -1.75071599e+00,\n",
       "         -3.03635210e-01],\n",
       "       [ -6.05651235e+00,  -2.40743875e+00,  -8.71147177e-01,\n",
       "         -2.36061536e-01],\n",
       "       [ -1.75071599e+00,  -8.71147177e-01,   1.41492399e-01,\n",
       "          1.29567990e-03],\n",
       "       [ -3.03635210e-01,  -2.36061536e-01,   1.29567990e-03,\n",
       "          3.12776396e-01]])"
      ]
     },
     "execution_count": 46,
     "metadata": {},
     "output_type": "execute_result"
    }
   ],
   "source": [
    "F"
   ]
  },
  {
   "cell_type": "code",
   "execution_count": 47,
   "metadata": {},
   "outputs": [
    {
     "data": {
      "text/plain": [
       "array([ -1.99426616,  -0.14710077,   6.32502944,  59.47036431])"
      ]
     },
     "execution_count": 47,
     "metadata": {},
     "output_type": "execute_result"
    }
   ],
   "source": [
    "# Solución generalized eigenvalues (H-ES)(C)=0\n",
    "# Sólo Autovalores!\n",
    "\n",
    "Ener = eigvalsh(F,S,type=1)\n",
    "Ener"
   ]
  },
  {
   "cell_type": "code",
   "execution_count": 48,
   "metadata": {},
   "outputs": [
    {
     "data": {
      "text/plain": [
       "array([ 0.08704173,  0.52509737,  0.51920929,  0.31233737])"
      ]
     },
     "execution_count": 48,
     "metadata": {},
     "output_type": "execute_result"
    }
   ],
   "source": [
    "# Solución generalized eigenvalues (H-ES)(C)=0\n",
    "\n",
    "Ener,coef = eigh(F,S,type=1)\n",
    "Ci = coef[:,0]\n",
    "Ci"
   ]
  },
  {
   "cell_type": "code",
   "execution_count": 49,
   "metadata": {
    "collapsed": true
   },
   "outputs": [],
   "source": [
    "# Normalización de los coeficientes\n",
    "\n",
    "sum = 0.0\n",
    "for i in range(0,nsize):\n",
    "    for j in range(0,nsize):\n",
    "        sum = sum + Ci[i]*S[i,j]*Ci[j]\n",
    "for i in range(0,nsize):\n",
    "    Ci[i] = Ci[i]/sqrt(sum)"
   ]
  },
  {
   "cell_type": "code",
   "execution_count": 50,
   "metadata": {},
   "outputs": [
    {
     "data": {
      "text/plain": [
       "array([ 0.08704173,  0.52509737,  0.51920929,  0.31233737])"
      ]
     },
     "execution_count": 50,
     "metadata": {},
     "output_type": "execute_result"
    }
   ],
   "source": [
    "Ci"
   ]
  },
  {
   "cell_type": "code",
   "execution_count": 51,
   "metadata": {},
   "outputs": [
    {
     "data": {
      "text/plain": [
       "-3.9885323142089333"
      ]
     },
     "execution_count": 51,
     "metadata": {},
     "output_type": "execute_result"
    }
   ],
   "source": [
    "# Energía Total\n",
    "\n",
    "sum = 0.0\n",
    "for i in range(0,nsize):\n",
    "    for j in range(0,nsize):\n",
    "        sum = sum + Ci[i]*Ci[j]*(2.0*H[i,j]+G[i,j])\n",
    "\n",
    "EnergyGSnew = sum\n",
    "EnergyGSnew"
   ]
  },
  {
   "cell_type": "code",
   "execution_count": 52,
   "metadata": {
    "collapsed": true
   },
   "outputs": [],
   "source": [
    "EnergyGS.append(EnergyGSnew)"
   ]
  },
  {
   "cell_type": "code",
   "execution_count": 53,
   "metadata": {},
   "outputs": [
    {
     "data": {
      "text/plain": [
       "[-3.9885323142089333]"
      ]
     },
     "execution_count": 53,
     "metadata": {},
     "output_type": "execute_result"
    }
   ],
   "source": [
    "EnergyGS"
   ]
  },
  {
   "cell_type": "markdown",
   "metadata": {
    "collapsed": true
   },
   "source": [
    "## Fin Iteración"
   ]
  },
  {
   "cell_type": "code",
   "execution_count": 96,
   "metadata": {
    "collapsed": true
   },
   "outputs": [],
   "source": [
    "# Cálculo de la función de onda\n",
    "    \n",
    "def psi(Ci,Alpha,x):\n",
    "\n",
    "    from math import  exp\n",
    "\n",
    "    nsize = len(Ci) \n",
    "    sum = 0.0\n",
    "    for i in range(0,nsize):\n",
    "        sum = sum + Ci[i]*exp(-Alpha[i]*x**2)\n",
    "    return sum"
   ]
  },
  {
   "cell_type": "code",
   "execution_count": 97,
   "metadata": {
    "collapsed": true
   },
   "outputs": [],
   "source": [
    "# Generación de la Solución\n",
    "\n",
    "# array definitions\n",
    "npts = 500\n",
    "xmin = 0.0\n",
    "xmax = 6\n",
    "dx = (xmax-xmin)/(npts-1)\n",
    "\n",
    "x = linspace(xmin,xmax,npts)\n",
    "wave1s = zeros(npts)\n",
    "\n",
    "for i in range(0,npts):\n",
    "        wave1s[i] = psi(-Ci,Alpha,x[i])"
   ]
  },
  {
   "cell_type": "code",
   "execution_count": 98,
   "metadata": {
    "collapsed": true
   },
   "outputs": [],
   "source": [
    "# Normalization\n",
    "\n",
    "rsum = 0.0\n",
    "for i in range(0,npts):\n",
    "        P1s = x[i]*wave1s[i]\n",
    "        rsum = rsum +  P1s**2\n",
    "rsum = rsum * dx\n",
    "rnorm = 1.0/sqrt(rsum)\n",
    "\n",
    "isign = 1\n",
    "if wave1s[2]<0:\n",
    "    isign = -1\n",
    "\n",
    "wave1s = wave1s*rnorm*isign"
   ]
  },
  {
   "cell_type": "code",
   "execution_count": 99,
   "metadata": {},
   "outputs": [
    {
     "data": {
      "image/png": "[encoded data removed]",
      "text/plain": [
       "<matplotlib.figure.Figure at 0x7f5bbb74b310>"
      ]
     },
     "metadata": {},
     "output_type": "display_data"
    }
   ],
   "source": [
    "# Ploteo de Solución\n",
    "\n",
    "plot(x,x*wave1s);\n",
    "#axis([xmin,xmax,-0.6,0.25]);\n",
    "title(\"Ground State Wavefunction of Helium Atom (HF)\");\n",
    "xlabel(\"r (a.u.)\");\n",
    "ylabel(\"$\\psi_{1s}$\");"
   ]
  },
  {
   "cell_type": "code",
   "execution_count": null,
   "metadata": {
    "collapsed": true
   },
   "outputs": [],
   "source": []
  }
 ],
 "metadata": {
  "kernelspec": {
   "display_name": "Python 2",
   "language": "python",
   "name": "python2"
  },
  "language_info": {
   "codemirror_mode": {
    "name": "ipython",
    "version": 2
   },
   "file_extension": ".py",
   "mimetype": "text/x-python",
   "name": "python",
   "nbconvert_exporter": "python",
   "pygments_lexer": "ipython2",
   "version": "2.7.14"
  }
 },
 "nbformat": 4,
 "nbformat_minor": 1
}
