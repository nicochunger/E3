{
 "cells": [
  {
   "cell_type": "markdown",
   "metadata": {},
   "source": [
    "# Transiciones Radiativas\n",
    "\n",
    "Nicolas Unger"
   ]
  },
  {
   "cell_type": "code",
   "execution_count": 128,
   "metadata": {
    "collapsed": true
   },
   "outputs": [],
   "source": [
    "import numpy as np\n",
    "import matplotlib.pyplot as plt\n",
    "Ry = 13.605693 # Energia de Rydberg (eV)\n",
    "h = 4.135667e-15 # Constante de Planck (eV*s)\n",
    "c = 299792458 # Velocidad de la luz (m/s)"
   ]
  },
  {
   "cell_type": "markdown",
   "metadata": {},
   "source": [
    "## Uso el programa de diagonalizacion para sacar las energias"
   ]
  },
  {
   "cell_type": "code",
   "execution_count": 129,
   "metadata": {},
   "outputs": [],
   "source": [
    "from numpy import diag,  linspace, array ,arange\n",
    "from matplotlib.pyplot import axhline, xlabel, ylabel, plot, axis, \\\n",
    "                                figure, title, show\n",
    "from numpy import pi,sqrt,zeros,sin,cos\n",
    "\n",
    "    \n",
    "%matplotlib inline\n",
    "\n",
    "import time\n",
    "from __future__ import division"
   ]
  },
  {
   "cell_type": "code",
   "execution_count": 130,
   "metadata": {
    "collapsed": true
   },
   "outputs": [],
   "source": [
    "from numpy import identity \n",
    "\n",
    "def Laplacian(x):\n",
    "    h = x[1]-x[0] # assume uniformly spaced points\n",
    "    n = len(x)\n",
    "    M = -2*identity(n,'d')\n",
    "    for i in range(1,n):\n",
    "        M[i,i-1] = M[i-1,i] = 1\n",
    "    return M/h**2"
   ]
  },
  {
   "cell_type": "code",
   "execution_count": 131,
   "metadata": {
    "collapsed": true
   },
   "outputs": [],
   "source": [
    "from numpy import sqrt\n",
    "\n",
    "# Normalización de las funciones \n",
    "\n",
    "def Normalizate(U,x):\n",
    "    \n",
    "    h = x[1]-x[0] # assume uniformly spaced points\n",
    "    n = len(x)\n",
    "\n",
    "        \n",
    "    for j in range(0,n):\n",
    "        suma = 0.0\n",
    "        for i in range(1,n):\n",
    "             suma = suma + U[i,j]**2\n",
    "\n",
    "        suma = suma*h\n",
    "        rnorm = 1/sqrt(suma)\n",
    "#        print j,' integral (sin normalizar) =',rnorm\n",
    "       \n",
    "#       Normalization\n",
    "        rsign = 1\n",
    "        if U[1,j] < 0:\n",
    "            rsign = -1\n",
    "            \n",
    "        rnorm = rnorm * rsign\n",
    "        for i in range(0,n):\n",
    "            U[i,j] = U[i,j]*rnorm\n",
    "         \n",
    "    return  U"
   ]
  },
  {
   "cell_type": "code",
   "execution_count": 132,
   "metadata": {
    "collapsed": true
   },
   "outputs": [],
   "source": [
    "from numpy import diag,  linspace, array, arange, zeros\n",
    "from numpy.linalg import eigh\n",
    "from matplotlib.pyplot import axhline, xlabel, ylabel, plot, axis, \\\n",
    "                                figure, title, show\n",
    "\n",
    "step = 0.1\n",
    "xmin = step\n",
    "xmax = 40\n",
    "x = arange(xmin,xmax,step)\n",
    "nsize = len(x)\n",
    " \n",
    "# array defined above\n",
    "nsize = len(x)\n",
    "Dx = step\n",
    "\n",
    "x = linspace(xmin,xmax,nsize)\n",
    "T = array([nsize,nsize])\n",
    "V = array([nsize,nsize])\n",
    "H = array([nsize,nsize])"
   ]
  },
  {
   "cell_type": "markdown",
   "metadata": {},
   "source": [
    "## Diferencia de energia entre el estado 2p y 1s del Hidrogeno (H)"
   ]
  },
  {
   "cell_type": "markdown",
   "metadata": {},
   "source": [
    "### Estado 1s"
   ]
  },
  {
   "cell_type": "code",
   "execution_count": 133,
   "metadata": {},
   "outputs": [],
   "source": [
    "# Kinetic (T) and Potential (V)\n",
    "lq = 0 # s\n",
    "zq = 1 # H\n",
    "\n",
    "T = -0.5*Laplacian(x)\n",
    "V = -zq/x + lq*(lq+1)/(2 * x * x)\n",
    "\n",
    "# Hamiltonian\n",
    "H = T + diag(V)\n",
    "\n",
    "# Eigenvalues (E) and Eigenvectors (U)\n",
    "E_Hs,U_Hs = eigh(H)\n",
    "E_H1s = E_Hs[0]\n",
    "\n",
    "# Normalization\n",
    "U_Hs=Normalizate(U_Hs,x)"
   ]
  },
  {
   "cell_type": "markdown",
   "metadata": {},
   "source": [
    "### Estado 2p"
   ]
  },
  {
   "cell_type": "code",
   "execution_count": 134,
   "metadata": {
    "collapsed": true
   },
   "outputs": [],
   "source": [
    "# Kinetic (T) and Potential (V)\n",
    "lq = 1 # p\n",
    "zq = 1 # H\n",
    "\n",
    "T = -0.5*Laplacian(x)\n",
    "V = -zq/x + lq*(lq+1)/(2 * x * x)\n",
    "\n",
    "# Hamiltonian\n",
    "H = T + diag(V)\n",
    "\n",
    "# Eigenvalues (E) and Eigenvectors (U)\n",
    "E_Hp,U_Hp = eigh(H)\n",
    "E_H2p = E_Hp[1]\n",
    "\n",
    "# Normalization\n",
    "U_Hp=Normalizate(U_Hp,x)"
   ]
  },
  {
   "cell_type": "code",
   "execution_count": 135,
   "metadata": {},
   "outputs": [
    {
     "name": "stdout",
     "output_type": "stream",
     "text": [
      "La diferencia de energia entre el estado 2p y 1s es: 12.072 eV\n"
     ]
    }
   ],
   "source": [
    "Delta_E = E_H2p - E_H1s\n",
    "DE_eV = Delta_E * 2 * Ry\n",
    "print \"La diferencia de energia entre el estado 2p y 1s es: {:.3f} eV\".format(DE_eV)"
   ]
  },
  {
   "cell_type": "code",
   "execution_count": 140,
   "metadata": {},
   "outputs": [
    {
     "name": "stdout",
     "output_type": "stream",
     "text": [
      "La fercuencia angular de esa transicion es: 1.83405379269e+16 Hz\n",
      "La longitud de onda de la transicion es: 102.704 nm\n"
     ]
    }
   ],
   "source": [
    "omegaH = 2*np.pi * DE_eV / h\n",
    "omegaH_au = Delta_E # En unidades atomicas (h(barra) = 1)\n",
    "lamdaH = h*c/DE_eV\n",
    "print \"La fercuencia angular de esa transicion es: {} Hz\".format(omegaH)\n",
    "print \"La longitud de onda de la transicion es: {:.3f} nm\".format(lamdaH*1e9)"
   ]
  },
  {
   "cell_type": "markdown",
   "metadata": {},
   "source": [
    "### Elemento de Matriz $\\left< \\phi_{1s} \\; \\middle| \\; r \\; \\middle| \\; \\phi_{2p} \\right>$\n"
   ]
  },
  {
   "cell_type": "code",
   "execution_count": 141,
   "metadata": {},
   "outputs": [
    {
     "data": {
      "text/plain": [
       "0.51810582568271779"
      ]
     },
     "execution_count": 141,
     "metadata": {},
     "output_type": "execute_result"
    }
   ],
   "source": [
    "rif = np.trapz(U_Hs[:,0] * x * U_Hp[:,1], x)\n",
    "rif"
   ]
  },
  {
   "cell_type": "markdown",
   "metadata": {},
   "source": [
    "### Probabilidad de transicion de 2p a 1s"
   ]
  },
  {
   "cell_type": "code",
   "execution_count": 143,
   "metadata": {},
   "outputs": [
    {
     "data": {
      "text/plain": [
       "1.2153329931708469e-08"
      ]
     },
     "execution_count": 143,
     "metadata": {},
     "output_type": "execute_result"
    }
   ],
   "source": [
    "c_au = 137\n",
    "Aif = 4*omegaH_au**3 * rif**2 / (3 * c_au**3)\n",
    "Aif"
   ]
  },
  {
   "cell_type": "markdown",
   "metadata": {},
   "source": [
    "Da del orden correcto."
   ]
  },
  {
   "cell_type": "markdown",
   "metadata": {},
   "source": [
    "## Transicion entre el 2p y 1s del Molibdeno ($Mo^{+41}$)"
   ]
  },
  {
   "cell_type": "markdown",
   "metadata": {},
   "source": [
    "### Estado 1s"
   ]
  },
  {
   "cell_type": "code",
   "execution_count": 37,
   "metadata": {
    "collapsed": true
   },
   "outputs": [],
   "source": [
    "# Kinetic (T) and Potential (V)\n",
    "lq = 0 # s\n",
    "zq = 42 # H\n",
    "\n",
    "T = -0.5*Laplacian(x)\n",
    "V = -zq/x + lq*(lq+1)/(2 * x * x)\n",
    "\n",
    "# Hamiltonian\n",
    "H = T + diag(V)\n",
    "\n",
    "# Eigenvalues (E) and Eigenvectors (U)\n",
    "E_Mos,U_Mos = eigh(H)\n",
    "E_Mo1s = E_Mos[0]\n",
    "\n",
    "# Normalization\n",
    "U_Mos=Normalizate(U_Mos,x)"
   ]
  },
  {
   "cell_type": "markdown",
   "metadata": {},
   "source": [
    "### Estado 2p"
   ]
  },
  {
   "cell_type": "code",
   "execution_count": 38,
   "metadata": {
    "collapsed": true
   },
   "outputs": [],
   "source": [
    "# Kinetic (T) and Potential (V)\n",
    "lq = 1 # p\n",
    "zq = 42 # H\n",
    "\n",
    "T = -0.5*Laplacian(x)\n",
    "V = -zq/x + lq*(lq+1)/(2 * x * x)\n",
    "\n",
    "# Hamiltonian\n",
    "H = T + diag(V)\n",
    "\n",
    "# Eigenvalues (E) and Eigenvectors (U)\n",
    "E_Mop,U_Mop = eigh(H)\n",
    "E_Mo2p = E_Mop[1]\n",
    "\n",
    "# Normalization\n",
    "U_Mop=Normalizate(U_Mop,x)"
   ]
  },
  {
   "cell_type": "code",
   "execution_count": 39,
   "metadata": {},
   "outputs": [
    {
     "name": "stdout",
     "output_type": "stream",
     "text": [
      "La diferencia de energia entre el estado 2p y 1s es: 6046.411 eV\n"
     ]
    }
   ],
   "source": [
    "Delta_E = E_Mo2p - E_Mo1s\n",
    "DE_eV = Delta_E * 2 * Ry\n",
    "print \"La diferencia de energia entre el estado 2p y 1s es: {:.3f} eV\".format(DE_eV)"
   ]
  },
  {
   "cell_type": "code",
   "execution_count": 40,
   "metadata": {},
   "outputs": [
    {
     "name": "stdout",
     "output_type": "stream",
     "text": [
      "La fercuencia de esa transicion es: 1462015.980 THz\n",
      "La longitud de onda de la transicion es: 0.205 nm\n"
     ]
    }
   ],
   "source": [
    "print \"La fercuencia de esa transicion es: {:.3f} THz\".format(DE_eV*1e-12/h)\n",
    "print \"La longitud de onda de la transicion es: {:.3f} nm\".format(h*c/DE_eV*1e9)"
   ]
  },
  {
   "cell_type": "markdown",
   "metadata": {},
   "source": [
    "### Elemento de Matriz $\\left< \\phi_{1s} \\; \\middle| \\; r \\; \\middle| \\; \\phi_{2p} \\right>$\n"
   ]
  },
  {
   "cell_type": "code",
   "execution_count": 42,
   "metadata": {},
   "outputs": [
    {
     "data": {
      "text/plain": [
       "0.10508896537488693"
      ]
     },
     "execution_count": 42,
     "metadata": {},
     "output_type": "execute_result"
    }
   ],
   "source": [
    "np.trapz(U_Mos[:,0] * x * U_Mop[:,1], x)"
   ]
  },
  {
   "cell_type": "markdown",
   "metadata": {},
   "source": [
    "### Elemento de matriz $\\left< Y_{10} \\middle| Y_{10}Y_{21} \\right>$"
   ]
  },
  {
   "cell_type": "code",
   "execution_count": 100,
   "metadata": {
    "collapsed": true
   },
   "outputs": [],
   "source": [
    "import sympy as sp\n",
    "from scipy.special import sph_harm"
   ]
  },
  {
   "cell_type": "code",
   "execution_count": 101,
   "metadata": {},
   "outputs": [],
   "source": [
    "nsize = 300\n",
    "phinum = np.linspace(0,2*np.pi,nsize)\n",
    "thetanum = np.linspace(0,np.pi,nsize)\n",
    "Y10 = np.zeros([nsize, nsize],dtype=complex)\n",
    "Y21 = np.zeros([nsize, nsize],dtype=complex)\n",
    "sen = np.sin(thetanum)\n",
    "\n",
    "for i in range(nsize):\n",
    "    for j in range(nsize):\n",
    "        Y10[i,j] = sph_harm(0,1,phinum[i],thetanum[j])\n",
    "        Y21[i,j] = sph_harm(1,2,phinum[i],thetanum[j])"
   ]
  },
  {
   "cell_type": "code",
   "execution_count": 102,
   "metadata": {},
   "outputs": [
    {
     "name": "stdout",
     "output_type": "stream",
     "text": [
      "1.38121651277e-18 + -4.95853236795e-19i\n"
     ]
    }
   ],
   "source": [
    "#Integro\n",
    "res = np.trapz(sen * np.trapz(Y10*Y10*Y21,phinum,axis=0),thetanum)\n",
    "print \"{} + {}i\".format(res.real,res.imag)"
   ]
  },
  {
   "cell_type": "code",
   "execution_count": 108,
   "metadata": {},
   "outputs": [
    {
     "data": {
      "text/plain": [
       "16.263599922680477"
      ]
     },
     "execution_count": 108,
     "metadata": {},
     "output_type": "execute_result"
    }
   ],
   "source": [
    "np.trapz(x**2 * U_Hs[:,0] * U_Hp[:,1], x) * 4*np.pi"
   ]
  },
  {
   "cell_type": "code",
   "execution_count": null,
   "metadata": {
    "collapsed": true
   },
   "outputs": [],
   "source": []
  }
 ],
 "metadata": {
  "kernelspec": {
   "display_name": "Python 2",
   "language": "python",
   "name": "python2"
  },
  "language_info": {
   "codemirror_mode": {
    "name": "ipython",
    "version": 2
   },
   "file_extension": ".py",
   "mimetype": "text/x-python",
   "name": "python",
   "nbconvert_exporter": "python",
   "pygments_lexer": "ipython2",
   "version": "2.7.14"
  }
 },
 "nbformat": 4,
 "nbformat_minor": 2
}
