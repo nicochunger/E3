{
 "cells": [
  {
   "cell_type": "markdown",
   "metadata": {},
   "source": [
    "# Funciones Radiales del Hidrógeno\n",
    "\n",
    "Darío Mitnik\n"
   ]
  },
  {
   "cell_type": "code",
   "execution_count": 1,
   "metadata": {},
   "outputs": [
    {
     "name": "stderr",
     "output_type": "stream",
     "text": [
      "/usr/lib/python3/dist-packages/matplotlib/font_manager.py:273: UserWarning: Matplotlib is building the font cache using fc-list. This may take a moment.\n",
      "  warnings.warn('Matplotlib is building the font cache using fc-list. This may take a moment.')\n",
      "/usr/lib/python3/dist-packages/matplotlib/font_manager.py:273: UserWarning: Matplotlib is building the font cache using fc-list. This may take a moment.\n",
      "  warnings.warn('Matplotlib is building the font cache using fc-list. This may take a moment.')\n"
     ]
    }
   ],
   "source": [
    "import numpy as np\n",
    "import sympy as sp\n",
    "import matplotlib.pyplot as plt\n",
    "\n",
    "# Cosas útiles para utilizar luego\n",
    "from sympy import oo\n",
    "from __future__ import division \n",
    "\n",
    "# Estética\n",
    "sp.init_printing()\n",
    "%matplotlib inline\n",
    "\n",
    "#Definimos los simbolos que vamos a usar.\n",
    "\n",
    "r=sp.Symbol('r',positive=True)\n",
    "l=sp.Symbol('l',positive=True,integer=True)\n",
    "n=sp.Symbol('n',positive=True,integer=True)\n",
    "z=sp.Symbol('z',positive=True,integer=True)\n",
    "k=sp.Symbol('k',positive=True)"
   ]
  },
  {
   "cell_type": "code",
   "execution_count": 2,
   "metadata": {},
   "outputs": [],
   "source": [
    "# Función Radial Hidrogénica (con hipergeométricas)\n",
    "\n",
    "def R_hyp(n,l,z,r):\n",
    "    rho=2*r*z/n \n",
    "    rnum = (2*z/n)**3 * sp.factorial(n+l)\n",
    "    rden = (sp.factorial(2*l+1))**2 * 2*n * sp.factorial(n-l-1)\n",
    "    rnorm = sp.sqrt(rnum/rden)\n",
    "    rfunc = (rho)**l * sp.exp(-rho/2) * sp.hyper((-n+l+1,),(2*l+2,),(rho))\n",
    "    R = rnorm * rfunc\n",
    "    return R\n"
   ]
  },
  {
   "cell_type": "code",
   "execution_count": 3,
   "metadata": {
    "collapsed": true
   },
   "outputs": [],
   "source": [
    "# Definición de los vectores para plotear\n",
    "\n",
    "nsize=500\n",
    "xmax=10.0\n",
    "xmin=0.\n",
    "x = np.linspace(xmin,xmax,nsize)\n",
    "psi = np.zeros(nsize)"
   ]
  },
  {
   "cell_type": "code",
   "execution_count": 4,
   "metadata": {},
   "outputs": [],
   "source": [
    "# Copiamos el array simbólico a numérico\n",
    "\n",
    "for i in range(nsize):\n",
    "  psi[i]=R_hyp(1,0,1,x[i])"
   ]
  },
  {
   "cell_type": "code",
   "execution_count": 5,
   "metadata": {},
   "outputs": [
    {
     "data": {
      "image/png": "[encoded data removed]",
      "text/plain": [
       "<matplotlib.figure.Figure at 0x7f75b7dc6940>"
      ]
     },
     "metadata": {},
     "output_type": "display_data"
    }
   ],
   "source": [
    "# Ploteo\n",
    "\n",
    "plt.plot(x,x*psi);\n",
    "plt.title(\"Radial Wavefunction $\\Psi_{1s}$ of Hydrogen\");\n",
    "plt.xlabel(\"r (a.u.)\");\n",
    "plt.ylabel(\"$\\psi_{1s}(r)$\");\n"
   ]
  },
  {
   "cell_type": "code",
   "execution_count": 6,
   "metadata": {},
   "outputs": [
    {
     "data": {
      "image/png": "[encoded data removed]",
      "text/latex": [
       "$$1.0 {{{}_{1}F_{1}\\left(\\begin{matrix} 0 \\\\ 2 \\end{matrix}\\middle| {0} \\right)}}^{2}$$"
      ],
      "text/plain": [
       "                2\n",
       "     ┌─  ⎛0 │  ⎞ \n",
       "1.0⋅ ├─  ⎜  │ 0⎟ \n",
       "    1╵ 1 ⎝2 │  ⎠ "
      ]
     },
     "execution_count": 6,
     "metadata": {},
     "output_type": "execute_result"
    }
   ],
   "source": [
    "# Integral simbólica\n",
    "\n",
    "sp.integrate( (r * R_hyp(1,0,1,r))**2, (r,0,oo))"
   ]
  },
  {
   "cell_type": "code",
   "execution_count": 7,
   "metadata": {},
   "outputs": [
    {
     "data": {
      "image/png": "[encoded data removed]",
      "text/latex": [
       "$$1.0$$"
      ],
      "text/plain": [
       "1.00000000000000"
      ]
     },
     "execution_count": 7,
     "metadata": {},
     "output_type": "execute_result"
    }
   ],
   "source": [
    "sp.integrate( (r * R_hyp(1,0,1,r))**2, (r,0,oo)).evalf()"
   ]
  },
  {
   "cell_type": "markdown",
   "metadata": {},
   "source": [
    "# Ejercicios:\n",
    "\n",
    "* Generar otras funciones de onda\n",
    "* Chequear ortonormalidad\n",
    "* Calcular los valores medio $\\langle r \\rangle$, $\\langle r^2 \\rangle$, \n",
    "  $\\langle \\frac{1}{r} \\rangle$ \n"
   ]
  },
  {
   "cell_type": "code",
   "execution_count": 8,
   "metadata": {
    "collapsed": true
   },
   "outputs": [],
   "source": [
    "# Otra forma de hacerlo (con numpy)"
   ]
  },
  {
   "cell_type": "code",
   "execution_count": 30,
   "metadata": {
    "collapsed": true
   },
   "outputs": [],
   "source": [
    "from scipy import integrate\n",
    "from scipy.special import hyp1f1\n",
    "from math import factorial\n"
   ]
  },
  {
   "cell_type": "code",
   "execution_count": 31,
   "metadata": {
    "collapsed": true
   },
   "outputs": [],
   "source": [
    "def R1F1(n,l,z,r):\n",
    "    rho=2*r*z/n \n",
    "    rnum = (2*z/n)**3 * factorial(n+l)\n",
    "    rden = (factorial(2*l+1))**2 * 2*n * factorial(n-l-1)\n",
    "    rnorm = np.sqrt(rnum/rden)\n",
    "    rfunc = (rho)**l * np.exp(-rho/2) * hyp1f1(-n+l+1,2*l+2,rho)\n",
    "    R = rnorm * rfunc\n",
    "    return R "
   ]
  },
  {
   "cell_type": "code",
   "execution_count": 32,
   "metadata": {},
   "outputs": [
    {
     "data": {
      "image/png": "[encoded data removed]",
      "text/plain": [
       "<matplotlib.figure.Figure at 0x7f2b7f8aab50>"
      ]
     },
     "metadata": {},
     "output_type": "display_data"
    }
   ],
   "source": [
    "r = np.linspace(0,10,200);\n",
    "plt.plot(r,r*R1F1(1,0,1,r),'-',label='R1F1',linewidth=2);\n",
    "plt.title(\"Radial Wavefunction $\\Psi_{1s}$ of Hydrogen (numpy)\");\n",
    "plt.xlabel(\"r (a.u.)\");\n",
    "plt.ylabel(\"$\\psi_{1s}(r)$\");\n"
   ]
  },
  {
   "cell_type": "code",
   "execution_count": 33,
   "metadata": {},
   "outputs": [
    {
     "name": "stdout",
     "output_type": "stream",
     "text": [
      "(1.0000000000000002, 1.3633023322217214e-10)\n"
     ]
    }
   ],
   "source": [
    "# Integral\n",
    "\n",
    "rR2=lambda r:(R1F1(1,0,1,r) * r)**2 \n",
    "Integral=integrate.quad(rR2,0,float('inf'))\n",
    "print(Integral)"
   ]
  },
  {
   "cell_type": "code",
   "execution_count": null,
   "metadata": {
    "collapsed": true
   },
   "outputs": [],
   "source": []
  }
 ],
 "metadata": {
  "kernelspec": {
   "display_name": "Python 2",
   "language": "python",
   "name": "python2"
  },
  "language_info": {
   "codemirror_mode": {
    "name": "ipython",
    "version": 3
   },
   "file_extension": ".py",
   "mimetype": "text/x-python",
   "name": "python",
   "nbconvert_exporter": "python",
   "pygments_lexer": "ipython3",
   "version": "3.5.2"
  }
 },
 "nbformat": 4,
 "nbformat_minor": 1
}
