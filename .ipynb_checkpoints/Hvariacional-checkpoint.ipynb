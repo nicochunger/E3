{
 "cells": [
  {
   "cell_type": "markdown",
   "metadata": {},
   "source": [
    "Cálculo Variacional de Estado Fundamental Hidrógeno "
   ]
  },
  {
   "cell_type": "code",
   "execution_count": 6,
   "metadata": {},
   "outputs": [],
   "source": [
    "from numpy import  linspace, zeros, array, pi\n",
    "from scipy.linalg import  eigh , eigvalsh\n",
    "\n",
    "%matplotlib inline\n",
    "from matplotlib.pyplot import plot, title, legend, show, axhline, \\\n",
    "                              xlabel, ylabel, axis, figure"
   ]
  },
  {
   "cell_type": "code",
   "execution_count": 7,
   "metadata": {},
   "outputs": [],
   "source": [
    "nsize = 4\n",
    "S = zeros((nsize,nsize))\n",
    "H = zeros((nsize,nsize))\n",
    "Alpha = zeros((nsize))\n",
    "Ci = zeros((nsize))"
   ]
  },
  {
   "cell_type": "code",
   "execution_count": 8,
   "metadata": {},
   "outputs": [],
   "source": [
    "# Datos Iniciales para variacional\n",
    "Alpha[0] = 13.00773\n",
    "Alpha[1] = 1.962079\n",
    "Alpha[2] = 0.444529\n",
    "Alpha[3] = 0.1219492"
   ]
  },
  {
   "cell_type": "code",
   "execution_count": 9,
   "metadata": {},
   "outputs": [],
   "source": [
    "# Cálculo de Overlaps  Sij=<xi|xj>\n",
    "\n",
    "def overlap(Alpha,p,q):\n",
    "    spq = ( pi / (Alpha[p] + Alpha[q]) )**(3./2.)\n",
    "    \n",
    "    return spq\n",
    "\n",
    "for i in range(0,nsize):\n",
    "    for j in range(i,nsize):        \n",
    "        S[i,j]=overlap(Alpha,i,j)\n",
    "        S[j,i]=S[i,j]\n"
   ]
  },
  {
   "cell_type": "code",
   "execution_count": 10,
   "metadata": {},
   "outputs": [
    {
     "data": {
      "text/plain": [
       "array([[  4.19640644e-02,   9.61391815e-02,   1.12857904e-01,\n",
       "          1.17042513e-01],\n",
       "       [  9.61391815e-02,   7.16316708e-01,   1.49147774e+00,\n",
       "          1.85084232e+00],\n",
       "       [  1.12857904e-01,   1.49147774e+00,   6.64247101e+00,\n",
       "          1.30602054e+01],\n",
       "       [  1.17042513e-01,   1.85084232e+00,   1.30602054e+01,\n",
       "          4.62286682e+01]])"
      ]
     },
     "execution_count": 10,
     "metadata": {},
     "output_type": "execute_result"
    }
   ],
   "source": [
    "S"
   ]
  },
  {
   "cell_type": "code",
   "execution_count": 11,
   "metadata": {},
   "outputs": [],
   "source": [
    " # Cálculo de Hamiltoniano Hij=<xi| H |xj>\n",
    "\n",
    "\n",
    "# Cálculo de Energía Cinética  Tij=<xi|-1/2 D^2 |xj>\n",
    "def Tkin(Alpha,p,q):\n",
    "    rnum = 3 * pi**(3./2.) * Alpha[p] * Alpha[q]\n",
    "    rden =  (Alpha[p] + Alpha[q] )**(5./2.)    \n",
    "    Tpq = rnum/rden    \n",
    "    return Tpq\n",
    "\n",
    "\n",
    "# Cálculo de Energía Potencial  Vij=<xi|-Z/r |xj>\n",
    "def Vpot(Alpha,p,q):\n",
    "    Vpq =  ( -2*pi )  /  (Alpha[p] + Alpha[q])    \n",
    "    return Vpq\n",
    "\n",
    "for i in range(0,nsize):\n",
    "    for j in range(i,nsize): \n",
    "        H[i,j]=Tkin(Alpha,i,j) + Vpot(Alpha,i,j)\n",
    "        H[j,i]=H[i,j]\n",
    "   "
   ]
  },
  {
   "cell_type": "code",
   "execution_count": 12,
   "metadata": {},
   "outputs": [
    {
     "data": {
      "text/plain": [
       "array([[  0.57726847,   0.07200247,  -0.3215405 ,  -0.43612626],\n",
       "       [  0.07200247,   0.50704993,  -0.98918483,  -2.37741992],\n",
       "       [ -0.3215405 ,  -0.98918483,  -2.63808243,  -7.34221693],\n",
       "       [ -0.43612626,  -2.37741992,  -7.34221693, -17.30516271]])"
      ]
     },
     "execution_count": 12,
     "metadata": {},
     "output_type": "execute_result"
    }
   ],
   "source": [
    "H"
   ]
  },
  {
   "cell_type": "code",
   "execution_count": 13,
   "metadata": {},
   "outputs": [
    {
     "data": {
      "text/plain": [
       "array([ -0.49927841,   0.11321392,   2.59229957,  21.14436519])"
      ]
     },
     "execution_count": 13,
     "metadata": {},
     "output_type": "execute_result"
    }
   ],
   "source": [
    "# Solución generalized eigenvalues (H-ES)(C)=0\n",
    "# Sólo Autovalores !\n",
    "\n",
    "Ener = eigvalsh(H,S,type=1)\n",
    "Ener"
   ]
  },
  {
   "cell_type": "code",
   "execution_count": 14,
   "metadata": {},
   "outputs": [
    {
     "data": {
      "text/plain": [
       "-0.49927840566748505"
      ]
     },
     "execution_count": 14,
     "metadata": {},
     "output_type": "execute_result"
    }
   ],
   "source": [
    "Ener[0]"
   ]
  },
  {
   "cell_type": "code",
   "execution_count": 15,
   "metadata": {},
   "outputs": [],
   "source": [
    "# Solución generalized eigenvalues (H-ES)(C)=0\n",
    "\n",
    "Ener,coef = eigh(H,S,type=1)\n",
    "Ci = coef[:,0]"
   ]
  },
  {
   "cell_type": "code",
   "execution_count": 16,
   "metadata": {},
   "outputs": [],
   "source": [
    "def psi(Ci,Alpha,x):\n",
    "    from math import  exp\n",
    "    nsize = len(Ci) \n",
    "    sum = 0.0\n",
    "    for i in range(0,nsize):\n",
    "        sum = sum + Ci[i]*exp(-Alpha[i]*x**2)\n",
    "    return sum"
   ]
  },
  {
   "cell_type": "code",
   "execution_count": 17,
   "metadata": {},
   "outputs": [],
   "source": [
    "# array definitions\n",
    "npts = 100\n",
    "xmin=0.0\n",
    "xmax=4.0\n",
    "x = linspace(xmin,xmax,npts)\n",
    "wave1s = zeros(npts)"
   ]
  },
  {
   "cell_type": "code",
   "execution_count": 18,
   "metadata": {},
   "outputs": [],
   "source": [
    "for i in range(0,npts):\n",
    "        wave1s[i] = psi(-Ci,Alpha,x[i])\n"
   ]
  },
  {
   "cell_type": "code",
   "execution_count": 20,
   "metadata": {},
   "outputs": [
    {
     "data": {
      "image/png": "[encoded data removed]",
      "text/plain": [
       "<matplotlib.figure.Figure at 0x7f0158ab1390>"
      ]
     },
     "metadata": {},
     "output_type": "display_data"
    }
   ],
   "source": [
    "\n",
    "plot(x,wave1s);\n",
    "axis([xmin,xmax,0,0.6]);\n",
    "title(\"Ground State Wavefunction of Hydrogen Atom (variational)\");\n",
    "xlabel(\"r (a.u.)\");\n",
    "ylabel(\"$\\Psi_{1s}$\",size=15);"
   ]
  },
  {
   "cell_type": "code",
   "execution_count": null,
   "metadata": {
    "collapsed": true
   },
   "outputs": [],
   "source": []
  }
 ],
 "metadata": {
  "kernelspec": {
   "display_name": "Python 2",
   "language": "python",
   "name": "python2"
  },
  "language_info": {
   "codemirror_mode": {
    "name": "ipython",
    "version": 3
   },
   "file_extension": ".py",
   "mimetype": "text/x-python",
   "name": "python",
   "nbconvert_exporter": "python",
   "pygments_lexer": "ipython3",
   "version": "3.5.2"
  }
 },
 "nbformat": 4,
 "nbformat_minor": 1
}
