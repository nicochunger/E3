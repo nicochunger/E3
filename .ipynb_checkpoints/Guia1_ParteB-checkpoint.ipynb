{
 "cells": [
  {
   "cell_type": "markdown",
   "metadata": {},
   "source": [
    "# Guia 1, Parte B\n",
    "\n",
    "Nicolas Unger"
   ]
  },
  {
   "cell_type": "code",
   "execution_count": 53,
   "metadata": {},
   "outputs": [],
   "source": [
    "import numpy as np\n",
    "import sympy as sp\n",
    "from math import factorial\n",
    "import matplotlib.pyplot as plt\n",
    "\n",
    "r=sp.Symbol('r',positive=True)\n",
    "l=sp.Symbol('l',positive=True,integer=True)\n",
    "n=sp.Symbol('n',positive=True,integer=True)\n",
    "k=sp.Symbol('k',positive=True,integer=True)\n",
    "z=sp.Symbol('z',positive=True,integer=True)"
   ]
  },
  {
   "cell_type": "code",
   "execution_count": 54,
   "metadata": {
    "collapsed": true
   },
   "outputs": [],
   "source": [
    "def comb(n,k):\n",
    "    \"\"\" Combinatoria de (n, k). \"\"\"\n",
    "    assert type(n)==int and type(k)==int, \"n y k tienen que ser numeros enteros\"\n",
    "    assert n>=k, \"n tiene que ser mayor o igual a k\"\n",
    "    num = sp.factorial(n)\n",
    "    den = sp.factorial(k)*sp.factorial(n-k)\n",
    "    return num/den"
   ]
  },
  {
   "cell_type": "code",
   "execution_count": 55,
   "metadata": {
    "collapsed": true
   },
   "outputs": [],
   "source": [
    "def Laguerre(n,k,x):\n",
    "    \"\"\" Polinomios de Laguerre usando la formula de Rodriguez. \"\"\"\n",
    "    sum = 0\n",
    "    for m in range(n+1):\n",
    "        sum += (-1)**m * (comb(n+k,k+m)/sp.factorial(m)) * x**m\n",
    "    return sum"
   ]
  },
  {
   "cell_type": "code",
   "execution_count": 62,
   "metadata": {},
   "outputs": [
    {
     "data": {
      "image/png": "[encoded data removed]",
      "text/plain": [
       "<matplotlib.figure.Figure at 0x7f10f5dffa50>"
      ]
     },
     "metadata": {},
     "output_type": "display_data"
    }
   ],
   "source": [
    "xmin = 0\n",
    "xmax = 10\n",
    "nsize = 300\n",
    "x = np.linspace(xmin,xmax,nsize)\n",
    "\n",
    "pol = np.zeros(nsize)\n",
    "\n",
    "for i in range(nsize):\n",
    "    pol[i] = Laguerre(3, 3, x[i])\n",
    "    \n",
    "plt.plot(x, pol)\n",
    "plt.show()"
   ]
  },
  {
   "cell_type": "code",
   "execution_count": null,
   "metadata": {
    "collapsed": true
   },
   "outputs": [],
   "source": []
  }
 ],
 "metadata": {
  "kernelspec": {
   "display_name": "Python 2",
   "language": "python",
   "name": "python2"
  },
  "language_info": {
   "codemirror_mode": {
    "name": "ipython",
    "version": 2
   },
   "file_extension": ".py",
   "mimetype": "text/x-python",
   "name": "python",
   "nbconvert_exporter": "python",
   "pygments_lexer": "ipython2",
   "version": "2.7.14"
  }
 },
 "nbformat": 4,
 "nbformat_minor": 2
}
