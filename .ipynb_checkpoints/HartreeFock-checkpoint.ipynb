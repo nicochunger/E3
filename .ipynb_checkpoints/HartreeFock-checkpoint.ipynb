{
 "cells": [
  {
   "cell_type": "code",
   "execution_count": 1,
   "metadata": {
    "collapsed": true
   },
   "outputs": [],
   "source": [
    "import numpy as np\n",
    "import sympy as sp\n",
    "import matplotlib.pyplot as plt"
   ]
  },
  {
   "cell_type": "code",
   "execution_count": 3,
   "metadata": {
    "collapsed": true
   },
   "outputs": [],
   "source": [
    "nsize = 4\n",
    "\n",
    "alpha = np.zeros((nsize))\n",
    "Ci = np.zeros((nsize))"
   ]
  },
  {
   "cell_type": "code",
   "execution_count": 4,
   "metadata": {
    "collapsed": true
   },
   "outputs": [],
   "source": [
    "# Parametros alpha para construir la funcion de onda\n",
    "alpha[0] = 0.298073\n",
    "alpha[1] = 1.242567\n",
    "alpha[2] = 5.782948\n",
    "alpha[3] = 38.47497"
   ]
  },
  {
   "cell_type": "code",
   "execution_count": 5,
   "metadata": {
    "collapsed": true
   },
   "outputs": [],
   "source": [
    "# Base gaussiana\n",
    "def psi(alpha,Ci,x):\n",
    "    suma = 0\n",
    "    for i in range(nsize):\n",
    "        suma += Ci*np.exp(-alpha[i]*x)\n",
    "    return suma"
   ]
  },
  {
   "cell_type": "code",
   "execution_count": 6,
   "metadata": {
    "collapsed": true
   },
   "outputs": [],
   "source": [
    "def Qprqs(p,r,q,s,alpha):\n",
    "    num = 2 * pi ** (5/2)\n",
    "    den1 = (alpha[p]+alpha[q])*(alpha[r]+alpha[s])\n",
    "    den2 = np.sqrt(alpha[p]+alpha[q]+alpha[r]+alpha[s])\n",
    "    return num/den1/den2"
   ]
  },
  {
   "cell_type": "code",
   "execution_count": null,
   "metadata": {
    "collapsed": true
   },
   "outputs": [],
   "source": []
  }
 ],
 "metadata": {
  "kernelspec": {
   "display_name": "Python 2",
   "language": "python",
   "name": "python2"
  },
  "language_info": {
   "codemirror_mode": {
    "name": "ipython",
    "version": 2
   },
   "file_extension": ".py",
   "mimetype": "text/x-python",
   "name": "python",
   "nbconvert_exporter": "python",
   "pygments_lexer": "ipython2",
   "version": "2.7.14"
  }
 },
 "nbformat": 4,
 "nbformat_minor": 2
}
